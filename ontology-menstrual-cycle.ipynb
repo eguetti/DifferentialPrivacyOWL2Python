{
 "cells": [
  {
   "cell_type": "code",
   "execution_count": 1,
   "metadata": {},
   "outputs": [],
   "source": [
    "from owlready2 import *\n",
    "\n",
    "onto = get_ontology(\"file://ontologies/MenstrualCycleTracking_v2.owl\").load()"
   ]
  },
  {
   "cell_type": "code",
   "execution_count": 2,
   "metadata": {},
   "outputs": [
    {
     "data": {
      "text/plain": [
       "[MenstrualCycleTracking_v2.Acne,\n",
       " MenstrualCycleTracking_v2.Angry,\n",
       " MenstrualCycleTracking_v2.Anxious,\n",
       " MenstrualCycleTracking_v2.Appetite,\n",
       " MenstrualCycleTracking_v2.Backache,\n",
       " MenstrualCycleTracking_v2.Bloating,\n",
       " MenstrualCycleTracking_v2.Calm,\n",
       " MenstrualCycleTracking_v2.Constipation,\n",
       " MenstrualCycleTracking_v2.Cramps,\n",
       " MenstrualCycleTracking_v2.Depressed,\n",
       " MenstrualCycleTracking_v2.Diarrhea,\n",
       " MenstrualCycleTracking_v2.Dizziness,\n",
       " MenstrualCycleTracking_v2.Emotional,\n",
       " MenstrualCycleTracking_v2.Energetic,\n",
       " MenstrualCycleTracking_v2.Excited,\n",
       " MenstrualCycleTracking_v2.Fatigue,\n",
       " MenstrualCycleTracking_v2.Focused,\n",
       " MenstrualCycleTracking_v2.Frisky,\n",
       " MenstrualCycleTracking_v2.Frustated,\n",
       " MenstrualCycleTracking_v2.Happy,\n",
       " MenstrualCycleTracking_v2.Headache,\n",
       " MenstrualCycleTracking_v2.HotFlashes,\n",
       " MenstrualCycleTracking_v2.InLove,\n",
       " MenstrualCycleTracking_v2.Indigestion,\n",
       " MenstrualCycleTracking_v2.Insomnia,\n",
       " MenstrualCycleTracking_v2.Irritable,\n",
       " MenstrualCycleTracking_v2.Migraine,\n",
       " MenstrualCycleTracking_v2.Mild,\n",
       " MenstrualCycleTracking_v2.Moderate,\n",
       " MenstrualCycleTracking_v2.Mood,\n",
       " MenstrualCycleTracking_v2.MoodRelation,\n",
       " MenstrualCycleTracking_v2.Moody,\n",
       " MenstrualCycleTracking_v2.Nausea,\n",
       " MenstrualCycleTracking_v2.PainDuringSex,\n",
       " MenstrualCycleTracking_v2.PelvicPain,\n",
       " MenstrualCycleTracking_v2.Severe,\n",
       " MenstrualCycleTracking_v2.SexDrive,\n",
       " MenstrualCycleTracking_v2.Sick,\n",
       " MenstrualCycleTracking_v2.SoreBreasts,\n",
       " MenstrualCycleTracking_v2.Symptom,\n",
       " MenstrualCycleTracking_v2.SymptomLevel,\n",
       " MenstrualCycleTracking_v2.SymptomRelation,\n",
       " MenstrualCycleTracking_v2.User,\n",
       " MenstrualCycleTracking_v2.UserAcne,\n",
       " MenstrualCycleTracking_v2.UserAngry,\n",
       " MenstrualCycleTracking_v2.UserAnxious,\n",
       " MenstrualCycleTracking_v2.UserAppetite,\n",
       " MenstrualCycleTracking_v2.UserBackache,\n",
       " MenstrualCycleTracking_v2.UserBloating,\n",
       " MenstrualCycleTracking_v2.UserCalm,\n",
       " MenstrualCycleTracking_v2.UserConstipation,\n",
       " MenstrualCycleTracking_v2.UserCramps,\n",
       " MenstrualCycleTracking_v2.UserDepressed,\n",
       " MenstrualCycleTracking_v2.UserDiarrhea,\n",
       " MenstrualCycleTracking_v2.UserDizziness,\n",
       " MenstrualCycleTracking_v2.UserEmotional,\n",
       " MenstrualCycleTracking_v2.UserEnergetic,\n",
       " MenstrualCycleTracking_v2.UserExcited,\n",
       " MenstrualCycleTracking_v2.UserFatigue,\n",
       " MenstrualCycleTracking_v2.UserFocused,\n",
       " MenstrualCycleTracking_v2.UserFrisky,\n",
       " MenstrualCycleTracking_v2.UserFrustated,\n",
       " MenstrualCycleTracking_v2.UserHappy,\n",
       " MenstrualCycleTracking_v2.UserHeadache,\n",
       " MenstrualCycleTracking_v2.UserHotFlashes,\n",
       " MenstrualCycleTracking_v2.UserInLove,\n",
       " MenstrualCycleTracking_v2.UserIndigestion,\n",
       " MenstrualCycleTracking_v2.UserInsomnia,\n",
       " MenstrualCycleTracking_v2.UserIrritable,\n",
       " MenstrualCycleTracking_v2.UserMigraine,\n",
       " MenstrualCycleTracking_v2.UserMoody,\n",
       " MenstrualCycleTracking_v2.UserNausea,\n",
       " MenstrualCycleTracking_v2.UserPainDuringSex,\n",
       " MenstrualCycleTracking_v2.UserPelvicPain,\n",
       " MenstrualCycleTracking_v2.UserSexDrive,\n",
       " MenstrualCycleTracking_v2.UserSick,\n",
       " MenstrualCycleTracking_v2.UserSoreBreasts,\n",
       " MenstrualCycleTracking_v2.UserVaginalPain,\n",
       " MenstrualCycleTracking_v2.VaginalPain]"
      ]
     },
     "execution_count": 2,
     "metadata": {},
     "output_type": "execute_result"
    }
   ],
   "source": [
    "list(onto.classes())"
   ]
  },
  {
   "cell_type": "code",
   "execution_count": 3,
   "metadata": {},
   "outputs": [
    {
     "data": {
      "text/plain": [
       "[MenstrualCycleTracking_v2.Acne, MenstrualCycleTracking_v2.UserAcne]"
      ]
     },
     "execution_count": 3,
     "metadata": {},
     "output_type": "execute_result"
    }
   ],
   "source": [
    "onto.search(iri = \"*Acne\")\n"
   ]
  },
  {
   "cell_type": "code",
   "execution_count": 4,
   "metadata": {},
   "outputs": [
    {
     "name": "stdout",
     "output_type": "stream",
     "text": [
      "[MenstrualCycleTracking_v2.UserInsomnia]\n"
     ]
    }
   ],
   "source": [
    "results = onto.search(iri = \"*UserInsomnia\")\n",
    "print(results)"
   ]
  },
  {
   "cell_type": "code",
   "execution_count": 6,
   "metadata": {},
   "outputs": [
    {
     "name": "stdout",
     "output_type": "stream",
     "text": [
      "http://www.semanticweb.org/erika/ontologies/menstrual_cycle#UserInsomnia\n"
     ]
    }
   ],
   "source": [
    "results = onto.search(iri = \"*UserInsomnia\")\n",
    "for i in results:                 \n",
    "    print(i.iri)"
   ]
  },
  {
   "cell_type": "code",
   "execution_count": 10,
   "metadata": {},
   "outputs": [
    {
     "data": {
      "text/plain": [
       "'http://www.semanticweb.org/erika/ontologies/menstrual_cycle#UserInsomnia'"
      ]
     },
     "execution_count": 10,
     "metadata": {},
     "output_type": "execute_result"
    }
   ],
   "source": [
    "onto.UserInsomnia.iri"
   ]
  },
  {
   "cell_type": "code",
   "execution_count": 10,
   "metadata": {},
   "outputs": [
    {
     "data": {
      "text/plain": [
       "owlready2.entity.ThingClass"
      ]
     },
     "execution_count": 10,
     "metadata": {},
     "output_type": "execute_result"
    }
   ],
   "source": [
    "onto.UserWithImsonia.__class__"
   ]
  },
  {
   "cell_type": "code",
   "execution_count": 11,
   "metadata": {},
   "outputs": [
    {
     "data": {
      "text/plain": [
       "[MenstrualCycleTracking.User]"
      ]
     },
     "execution_count": 11,
     "metadata": {},
     "output_type": "execute_result"
    }
   ],
   "source": [
    "onto.UserWithImsonia.is_a"
   ]
  },
  {
   "cell_type": "code",
   "execution_count": 11,
   "metadata": {},
   "outputs": [
    {
     "data": {
      "text/plain": [
       "[MenstrualCycleTracking_v2._eva,\n",
       " MenstrualCycleTracking_v2._evaHasMigraine,\n",
       " MenstrualCycleTracking_v2._evaHasSevere,\n",
       " MenstrualCycleTracking_v2._evaSymptomRelation,\n",
       " MenstrualCycleTracking_v2._user01,\n",
       " MenstrualCycleTracking_v2._userAcne01,\n",
       " MenstrualCycleTracking_v2._userAcne02,\n",
       " MenstrualCycleTracking_v2._userAcne03,\n",
       " MenstrualCycleTracking_v2._userAcne04,\n",
       " MenstrualCycleTracking_v2._userAcne05,\n",
       " MenstrualCycleTracking_v2._userAcne06,\n",
       " MenstrualCycleTracking_v2._userAcne07,\n",
       " MenstrualCycleTracking_v2._userAcne08,\n",
       " MenstrualCycleTracking_v2._userAcne09,\n",
       " MenstrualCycleTracking_v2._userAcne10,\n",
       " MenstrualCycleTracking_v2._userAcne11,\n",
       " MenstrualCycleTracking_v2._userAcne12,\n",
       " MenstrualCycleTracking_v2._userAcne13,\n",
       " MenstrualCycleTracking_v2._userAcne14,\n",
       " MenstrualCycleTracking_v2._userInsomnia01,\n",
       " MenstrualCycleTracking_v2._userMigraine01,\n",
       " MenstrualCycleTracking_v2._userMigraine02,\n",
       " MenstrualCycleTracking_v2._userMigraine03,\n",
       " MenstrualCycleTracking_v2._userMigraine04,\n",
       " MenstrualCycleTracking_v2._userMigraine05,\n",
       " MenstrualCycleTracking_v2._userMigraine06,\n",
       " MenstrualCycleTracking_v2._userMigraine07,\n",
       " MenstrualCycleTracking_v2._userMigraine08,\n",
       " MenstrualCycleTracking_v2._userMigraine09,\n",
       " MenstrualCycleTracking_v2._userMigraine10,\n",
       " MenstrualCycleTracking_v2._userMigraine11,\n",
       " MenstrualCycleTracking_v2._userMigraine12,\n",
       " MenstrualCycleTracking_v2._userMigraine13,\n",
       " MenstrualCycleTracking_v2._userMigraine14,\n",
       " MenstrualCycleTracking_v2._userMigraine15,\n",
       " MenstrualCycleTracking_v2._userMigraine16,\n",
       " MenstrualCycleTracking_v2._userMigraine17,\n",
       " MenstrualCycleTracking_v2._userMigraine18,\n",
       " MenstrualCycleTracking_v2._userMigraine19,\n",
       " MenstrualCycleTracking_v2._userMigraine20,\n",
       " MenstrualCycleTracking_v2._userMigraine21,\n",
       " MenstrualCycleTracking_v2._userMigraine22,\n",
       " MenstrualCycleTracking_v2._userMigraine23,\n",
       " MenstrualCycleTracking_v2._userMigraine24]"
      ]
     },
     "execution_count": 11,
     "metadata": {},
     "output_type": "execute_result"
    }
   ],
   "source": [
    "list(onto.individuals())"
   ]
  },
  {
   "cell_type": "code",
   "execution_count": 12,
   "metadata": {},
   "outputs": [
    {
     "data": {
      "text/plain": [
       "[ç...hasMoodDate,\n",
       " ç...hasSymptomDate,\n",
       " MenstrualCycleTracking_v2.hasDiagnosisMood,\n",
       " MenstrualCycleTracking_v2.hasDiagnosisSymptom,\n",
       " MenstrualCycleTracking_v2.hasMood,\n",
       " MenstrualCycleTracking_v2.hasSymptom,\n",
       " MenstrualCycleTracking_v2.hasSymptomLevel,\n",
       " ontodebug.testCase,\n",
       " ontodebug.axiom,\n",
       " ontodebug.type,\n",
       " diagnosis.diagnosis_value,\n",
       " 22-rdf-syntax-ns.value]"
      ]
     },
     "execution_count": 12,
     "metadata": {},
     "output_type": "execute_result"
    }
   ],
   "source": [
    "list(onto.properties())"
   ]
  },
  {
   "cell_type": "code",
   "execution_count": 13,
   "metadata": {},
   "outputs": [
    {
     "data": {
      "text/plain": [
       "[MenstrualCycleTracking_v2.hasDiagnosisMood,\n",
       " MenstrualCycleTracking_v2.hasDiagnosisSymptom,\n",
       " MenstrualCycleTracking_v2.hasMood,\n",
       " MenstrualCycleTracking_v2.hasSymptom,\n",
       " MenstrualCycleTracking_v2.hasSymptomLevel]"
      ]
     },
     "execution_count": 13,
     "metadata": {},
     "output_type": "execute_result"
    }
   ],
   "source": [
    "list(onto.object_properties())"
   ]
  },
  {
   "cell_type": "code",
   "execution_count": 15,
   "metadata": {},
   "outputs": [
    {
     "data": {
      "text/plain": [
       "[]"
      ]
     },
     "execution_count": 15,
     "metadata": {},
     "output_type": "execute_result"
    }
   ],
   "source": [
    "list(onto.data_properties())"
   ]
  },
  {
   "cell_type": "code",
   "execution_count": 20,
   "metadata": {},
   "outputs": [
    {
     "data": {
      "text/plain": [
       "[]"
      ]
     },
     "execution_count": 20,
     "metadata": {},
     "output_type": "execute_result"
    }
   ],
   "source": [
    "list(onto.disjoints())"
   ]
  },
  {
   "cell_type": "code",
   "execution_count": 7,
   "metadata": {},
   "outputs": [
    {
     "data": {
      "text/plain": [
       "[AllDisjoint([MenstrualCycleTracking_v2.Angry, MenstrualCycleTracking_v2.Anxious, MenstrualCycleTracking_v2.Calm, MenstrualCycleTracking_v2.Depressed, MenstrualCycleTracking_v2.Emotional, MenstrualCycleTracking_v2.Energetic, MenstrualCycleTracking_v2.Excited, MenstrualCycleTracking_v2.Focused, MenstrualCycleTracking_v2.Frisky, MenstrualCycleTracking_v2.Frustated, MenstrualCycleTracking_v2.Happy, MenstrualCycleTracking_v2.InLove, MenstrualCycleTracking_v2.Irritable, MenstrualCycleTracking_v2.Moody]),\n",
       " AllDisjoint([MenstrualCycleTracking_v2.Acne, MenstrualCycleTracking_v2.Appetite, MenstrualCycleTracking_v2.Backache, MenstrualCycleTracking_v2.Bloating, MenstrualCycleTracking_v2.Constipation, MenstrualCycleTracking_v2.Cramps, MenstrualCycleTracking_v2.Diarrhea, MenstrualCycleTracking_v2.Dizziness, MenstrualCycleTracking_v2.Fatigue, MenstrualCycleTracking_v2.Headache, MenstrualCycleTracking_v2.HotFlashes, MenstrualCycleTracking_v2.Indigestion, MenstrualCycleTracking_v2.Insomnia, MenstrualCycleTracking_v2.Migraine, MenstrualCycleTracking_v2.Nausea, MenstrualCycleTracking_v2.PainDuringSex, MenstrualCycleTracking_v2.PelvicPain, MenstrualCycleTracking_v2.SexDrive, MenstrualCycleTracking_v2.Sick, MenstrualCycleTracking_v2.SoreBreasts, MenstrualCycleTracking_v2.VaginalPain]),\n",
       " AllDisjoint([MenstrualCycleTracking_v2.Mild, MenstrualCycleTracking_v2.Moderate]),\n",
       " AllDisjoint([MenstrualCycleTracking_v2.Mild, MenstrualCycleTracking_v2.Severe]),\n",
       " AllDisjoint([MenstrualCycleTracking_v2.Moderate, MenstrualCycleTracking_v2.Severe])]"
      ]
     },
     "execution_count": 7,
     "metadata": {},
     "output_type": "execute_result"
    }
   ],
   "source": [
    "list(onto.disjoint_classes())"
   ]
  },
  {
   "cell_type": "code",
   "execution_count": 14,
   "metadata": {},
   "outputs": [
    {
     "data": {
      "text/plain": [
       "[]"
      ]
     },
     "execution_count": 14,
     "metadata": {},
     "output_type": "execute_result"
    }
   ],
   "source": [
    "list(onto.variables())"
   ]
  },
  {
   "cell_type": "code",
   "execution_count": 15,
   "metadata": {},
   "outputs": [
    {
     "data": {
      "text/plain": [
       "[MenstrualCycleTracking_v2.hasSymptom.some(MenstrualCycleTracking_v2.Migraine),\n",
       " MenstrualCycleTracking_v2.hasSymptom.some(MenstrualCycleTracking_v2.Migraine),\n",
       " MenstrualCycleTracking_v2.hasSymptom.some(MenstrualCycleTracking_v2.Migraine),\n",
       " MenstrualCycleTracking_v2.hasSymptom.some(MenstrualCycleTracking_v2.Migraine),\n",
       " MenstrualCycleTracking_v2.hasSymptom.some(MenstrualCycleTracking_v2.Migraine),\n",
       " MenstrualCycleTracking_v2.hasSymptom.some(MenstrualCycleTracking_v2.Migraine),\n",
       " MenstrualCycleTracking_v2.hasSymptom.some(MenstrualCycleTracking_v2.Migraine),\n",
       " MenstrualCycleTracking_v2.hasSymptom.some(MenstrualCycleTracking_v2.Migraine),\n",
       " MenstrualCycleTracking_v2.hasSymptom.some(MenstrualCycleTracking_v2.Migraine),\n",
       " MenstrualCycleTracking_v2.hasSymptom.some(MenstrualCycleTracking_v2.Migraine),\n",
       " MenstrualCycleTracking_v2.hasSymptom.some(MenstrualCycleTracking_v2.Migraine),\n",
       " MenstrualCycleTracking_v2.hasSymptom.some(MenstrualCycleTracking_v2.Migraine),\n",
       " MenstrualCycleTracking_v2.hasSymptom.some(MenstrualCycleTracking_v2.Migraine),\n",
       " MenstrualCycleTracking_v2.hasSymptom.some(MenstrualCycleTracking_v2.Migraine),\n",
       " MenstrualCycleTracking_v2.hasSymptom.some(MenstrualCycleTracking_v2.Migraine),\n",
       " MenstrualCycleTracking_v2.hasSymptom.some(MenstrualCycleTracking_v2.Migraine),\n",
       " MenstrualCycleTracking_v2.hasSymptom.some(MenstrualCycleTracking_v2.Migraine),\n",
       " MenstrualCycleTracking_v2.hasSymptom.some(MenstrualCycleTracking_v2.Migraine),\n",
       " MenstrualCycleTracking_v2.hasSymptom.some(MenstrualCycleTracking_v2.Migraine),\n",
       " MenstrualCycleTracking_v2.hasSymptom.some(MenstrualCycleTracking_v2.Migraine),\n",
       " MenstrualCycleTracking_v2.hasSymptom.some(MenstrualCycleTracking_v2.Migraine),\n",
       " MenstrualCycleTracking_v2.hasSymptom.some(MenstrualCycleTracking_v2.Migraine),\n",
       " MenstrualCycleTracking_v2.hasSymptom.some(MenstrualCycleTracking_v2.Migraine),\n",
       " MenstrualCycleTracking_v2.hasSymptom.some(MenstrualCycleTracking_v2.Migraine),\n",
       " MenstrualCycleTracking_v2.hasSymptom.some(MenstrualCycleTracking_v2.Insomnia),\n",
       " MenstrualCycleTracking_v2.hasSymptom.some(MenstrualCycleTracking_v2.Acne),\n",
       " MenstrualCycleTracking_v2.hasSymptom.some(MenstrualCycleTracking_v2.Acne),\n",
       " MenstrualCycleTracking_v2.hasSymptom.some(MenstrualCycleTracking_v2.Acne),\n",
       " MenstrualCycleTracking_v2.hasSymptom.some(MenstrualCycleTracking_v2.Acne),\n",
       " MenstrualCycleTracking_v2.hasSymptom.some(MenstrualCycleTracking_v2.Acne),\n",
       " MenstrualCycleTracking_v2.hasSymptom.some(MenstrualCycleTracking_v2.Acne),\n",
       " MenstrualCycleTracking_v2.hasSymptom.some(MenstrualCycleTracking_v2.Acne),\n",
       " MenstrualCycleTracking_v2.hasSymptom.some(MenstrualCycleTracking_v2.Acne),\n",
       " MenstrualCycleTracking_v2.hasSymptom.some(MenstrualCycleTracking_v2.Acne),\n",
       " MenstrualCycleTracking_v2.hasSymptom.some(MenstrualCycleTracking_v2.Acne),\n",
       " MenstrualCycleTracking_v2.hasSymptom.some(MenstrualCycleTracking_v2.Acne),\n",
       " MenstrualCycleTracking_v2.hasSymptom.some(MenstrualCycleTracking_v2.Acne),\n",
       " MenstrualCycleTracking_v2.hasSymptom.some(MenstrualCycleTracking_v2.Acne),\n",
       " MenstrualCycleTracking_v2.hasSymptom.some(MenstrualCycleTracking_v2.Acne),\n",
       " MenstrualCycleTracking_v2.hasSymptom.some(MenstrualCycleTracking_v2.Migraine),\n",
       " MenstrualCycleTracking_v2.hasSymptom.some(MenstrualCycleTracking_v2.VaginalPain),\n",
       " MenstrualCycleTracking_v2.hasSymptom.some(MenstrualCycleTracking_v2.SoreBreasts),\n",
       " MenstrualCycleTracking_v2.hasSymptom.some(MenstrualCycleTracking_v2.Sick),\n",
       " MenstrualCycleTracking_v2.hasSymptom.some(MenstrualCycleTracking_v2.SexDrive),\n",
       " MenstrualCycleTracking_v2.hasSymptom.some(MenstrualCycleTracking_v2.PelvicPain),\n",
       " MenstrualCycleTracking_v2.hasSymptom.some(MenstrualCycleTracking_v2.PainDuringSex),\n",
       " MenstrualCycleTracking_v2.hasSymptom.some(MenstrualCycleTracking_v2.Nausea),\n",
       " MenstrualCycleTracking_v2.hasMood.some(MenstrualCycleTracking_v2.Moody),\n",
       " MenstrualCycleTracking_v2.hasSymptom.some(MenstrualCycleTracking_v2.Migraine),\n",
       " MenstrualCycleTracking_v2.hasMood.some(MenstrualCycleTracking_v2.Irritable),\n",
       " MenstrualCycleTracking_v2.hasSymptom.some(MenstrualCycleTracking_v2.Insomnia),\n",
       " MenstrualCycleTracking_v2.hasSymptom.some(MenstrualCycleTracking_v2.Indigestion),\n",
       " MenstrualCycleTracking_v2.hasMood.some(MenstrualCycleTracking_v2.InLove),\n",
       " MenstrualCycleTracking_v2.hasSymptom.some(MenstrualCycleTracking_v2.HotFlashes),\n",
       " MenstrualCycleTracking_v2.hasSymptom.some(MenstrualCycleTracking_v2.Headache),\n",
       " MenstrualCycleTracking_v2.hasMood.some(MenstrualCycleTracking_v2.Happy),\n",
       " MenstrualCycleTracking_v2.hasMood.some(MenstrualCycleTracking_v2.Frustated),\n",
       " MenstrualCycleTracking_v2.hasMood.some(MenstrualCycleTracking_v2.Frisky),\n",
       " MenstrualCycleTracking_v2.hasMood.some(MenstrualCycleTracking_v2.Focused),\n",
       " MenstrualCycleTracking_v2.hasSymptom.some(MenstrualCycleTracking_v2.Fatigue),\n",
       " MenstrualCycleTracking_v2.hasMood.some(MenstrualCycleTracking_v2.Excited),\n",
       " MenstrualCycleTracking_v2.hasMood.some(MenstrualCycleTracking_v2.Energetic),\n",
       " MenstrualCycleTracking_v2.hasMood.some(MenstrualCycleTracking_v2.Emotional),\n",
       " MenstrualCycleTracking_v2.hasSymptom.some(MenstrualCycleTracking_v2.Dizziness),\n",
       " MenstrualCycleTracking_v2.hasSymptom.some(MenstrualCycleTracking_v2.Diarrhea),\n",
       " MenstrualCycleTracking_v2.hasMood.some(MenstrualCycleTracking_v2.Emotional),\n",
       " MenstrualCycleTracking_v2.hasSymptom.some(MenstrualCycleTracking_v2.Cramps),\n",
       " MenstrualCycleTracking_v2.hasSymptom.some(MenstrualCycleTracking_v2.Constipation),\n",
       " MenstrualCycleTracking_v2.hasMood.some(MenstrualCycleTracking_v2.Calm),\n",
       " MenstrualCycleTracking_v2.hasSymptom.some(MenstrualCycleTracking_v2.Bloating),\n",
       " MenstrualCycleTracking_v2.hasSymptom.some(MenstrualCycleTracking_v2.Backache),\n",
       " MenstrualCycleTracking_v2.hasSymptom.some(MenstrualCycleTracking_v2.Appetite),\n",
       " MenstrualCycleTracking_v2.hasMood.some(MenstrualCycleTracking_v2.Anxious),\n",
       " MenstrualCycleTracking_v2.hasMood.some(MenstrualCycleTracking_v2.Angry),\n",
       " MenstrualCycleTracking_v2.hasSymptom.some(MenstrualCycleTracking_v2.Acne),\n",
       " MenstrualCycleTracking_v2.User & MenstrualCycleTracking_v2.hasSymptom.some(MenstrualCycleTracking_v2.Migraine),\n",
       " MenstrualCycleTracking_v2.User & MenstrualCycleTracking_v2.hasSymptom.some(MenstrualCycleTracking_v2.Migraine),\n",
       " MenstrualCycleTracking_v2.User & MenstrualCycleTracking_v2.hasSymptom.some(MenstrualCycleTracking_v2.Migraine),\n",
       " MenstrualCycleTracking_v2.User & MenstrualCycleTracking_v2.hasSymptom.some(MenstrualCycleTracking_v2.Migraine),\n",
       " MenstrualCycleTracking_v2.User & MenstrualCycleTracking_v2.hasSymptom.some(MenstrualCycleTracking_v2.Migraine),\n",
       " MenstrualCycleTracking_v2.User & MenstrualCycleTracking_v2.hasSymptom.some(MenstrualCycleTracking_v2.Migraine),\n",
       " MenstrualCycleTracking_v2.User & MenstrualCycleTracking_v2.hasSymptom.some(MenstrualCycleTracking_v2.Migraine),\n",
       " MenstrualCycleTracking_v2.User & MenstrualCycleTracking_v2.hasSymptom.some(MenstrualCycleTracking_v2.Migraine),\n",
       " MenstrualCycleTracking_v2.User & MenstrualCycleTracking_v2.hasSymptom.some(MenstrualCycleTracking_v2.Migraine),\n",
       " MenstrualCycleTracking_v2.User & MenstrualCycleTracking_v2.hasSymptom.some(MenstrualCycleTracking_v2.Migraine),\n",
       " MenstrualCycleTracking_v2.User & MenstrualCycleTracking_v2.hasSymptom.some(MenstrualCycleTracking_v2.Migraine),\n",
       " MenstrualCycleTracking_v2.User & MenstrualCycleTracking_v2.hasSymptom.some(MenstrualCycleTracking_v2.Migraine),\n",
       " MenstrualCycleTracking_v2.User & MenstrualCycleTracking_v2.hasSymptom.some(MenstrualCycleTracking_v2.Migraine),\n",
       " MenstrualCycleTracking_v2.User & MenstrualCycleTracking_v2.hasSymptom.some(MenstrualCycleTracking_v2.Migraine),\n",
       " MenstrualCycleTracking_v2.User & MenstrualCycleTracking_v2.hasSymptom.some(MenstrualCycleTracking_v2.Migraine),\n",
       " MenstrualCycleTracking_v2.User & MenstrualCycleTracking_v2.hasSymptom.some(MenstrualCycleTracking_v2.Migraine),\n",
       " MenstrualCycleTracking_v2.User & MenstrualCycleTracking_v2.hasSymptom.some(MenstrualCycleTracking_v2.Migraine),\n",
       " MenstrualCycleTracking_v2.User & MenstrualCycleTracking_v2.hasSymptom.some(MenstrualCycleTracking_v2.Migraine),\n",
       " MenstrualCycleTracking_v2.User & MenstrualCycleTracking_v2.hasSymptom.some(MenstrualCycleTracking_v2.Migraine),\n",
       " MenstrualCycleTracking_v2.User & MenstrualCycleTracking_v2.hasSymptom.some(MenstrualCycleTracking_v2.Migraine),\n",
       " MenstrualCycleTracking_v2.User & MenstrualCycleTracking_v2.hasSymptom.some(MenstrualCycleTracking_v2.Migraine),\n",
       " MenstrualCycleTracking_v2.User & MenstrualCycleTracking_v2.hasSymptom.some(MenstrualCycleTracking_v2.Migraine),\n",
       " MenstrualCycleTracking_v2.User & MenstrualCycleTracking_v2.hasSymptom.some(MenstrualCycleTracking_v2.Migraine),\n",
       " MenstrualCycleTracking_v2.User & MenstrualCycleTracking_v2.hasSymptom.some(MenstrualCycleTracking_v2.Migraine),\n",
       " MenstrualCycleTracking_v2.User & MenstrualCycleTracking_v2.hasSymptom.some(MenstrualCycleTracking_v2.Insomnia),\n",
       " MenstrualCycleTracking_v2.User & MenstrualCycleTracking_v2.hasSymptom.some(MenstrualCycleTracking_v2.Acne),\n",
       " MenstrualCycleTracking_v2.User & MenstrualCycleTracking_v2.hasSymptom.some(MenstrualCycleTracking_v2.Acne),\n",
       " MenstrualCycleTracking_v2.User & MenstrualCycleTracking_v2.hasSymptom.some(MenstrualCycleTracking_v2.Acne),\n",
       " MenstrualCycleTracking_v2.User & MenstrualCycleTracking_v2.hasSymptom.some(MenstrualCycleTracking_v2.Acne),\n",
       " MenstrualCycleTracking_v2.User & MenstrualCycleTracking_v2.hasSymptom.some(MenstrualCycleTracking_v2.Acne),\n",
       " MenstrualCycleTracking_v2.User & MenstrualCycleTracking_v2.hasSymptom.some(MenstrualCycleTracking_v2.Acne),\n",
       " MenstrualCycleTracking_v2.User & MenstrualCycleTracking_v2.hasSymptom.some(MenstrualCycleTracking_v2.Acne),\n",
       " MenstrualCycleTracking_v2.User & MenstrualCycleTracking_v2.hasSymptom.some(MenstrualCycleTracking_v2.Acne),\n",
       " MenstrualCycleTracking_v2.User & MenstrualCycleTracking_v2.hasSymptom.some(MenstrualCycleTracking_v2.Acne),\n",
       " MenstrualCycleTracking_v2.User & MenstrualCycleTracking_v2.hasSymptom.some(MenstrualCycleTracking_v2.Acne),\n",
       " MenstrualCycleTracking_v2.User & MenstrualCycleTracking_v2.hasSymptom.some(MenstrualCycleTracking_v2.Acne),\n",
       " MenstrualCycleTracking_v2.User & MenstrualCycleTracking_v2.hasSymptom.some(MenstrualCycleTracking_v2.Acne),\n",
       " MenstrualCycleTracking_v2.User & MenstrualCycleTracking_v2.hasSymptom.some(MenstrualCycleTracking_v2.Acne),\n",
       " MenstrualCycleTracking_v2.User & MenstrualCycleTracking_v2.hasSymptom.some(MenstrualCycleTracking_v2.Acne),\n",
       " MenstrualCycleTracking_v2.User & MenstrualCycleTracking_v2.hasSymptom.some(MenstrualCycleTracking_v2.Migraine),\n",
       " MenstrualCycleTracking_v2.User & MenstrualCycleTracking_v2.hasSymptom.some(MenstrualCycleTracking_v2.VaginalPain),\n",
       " MenstrualCycleTracking_v2.User & MenstrualCycleTracking_v2.hasSymptom.some(MenstrualCycleTracking_v2.SoreBreasts),\n",
       " MenstrualCycleTracking_v2.User & MenstrualCycleTracking_v2.hasSymptom.some(MenstrualCycleTracking_v2.Sick),\n",
       " MenstrualCycleTracking_v2.User & MenstrualCycleTracking_v2.hasSymptom.some(MenstrualCycleTracking_v2.SexDrive),\n",
       " MenstrualCycleTracking_v2.User & MenstrualCycleTracking_v2.hasSymptom.some(MenstrualCycleTracking_v2.PelvicPain),\n",
       " MenstrualCycleTracking_v2.User & MenstrualCycleTracking_v2.hasSymptom.some(MenstrualCycleTracking_v2.PainDuringSex),\n",
       " MenstrualCycleTracking_v2.User & MenstrualCycleTracking_v2.hasSymptom.some(MenstrualCycleTracking_v2.Nausea),\n",
       " MenstrualCycleTracking_v2.User & MenstrualCycleTracking_v2.hasMood.some(MenstrualCycleTracking_v2.Moody),\n",
       " MenstrualCycleTracking_v2.User & MenstrualCycleTracking_v2.hasSymptom.some(MenstrualCycleTracking_v2.Migraine),\n",
       " MenstrualCycleTracking_v2.User & MenstrualCycleTracking_v2.hasMood.some(MenstrualCycleTracking_v2.Irritable),\n",
       " MenstrualCycleTracking_v2.User & MenstrualCycleTracking_v2.hasSymptom.some(MenstrualCycleTracking_v2.Insomnia),\n",
       " MenstrualCycleTracking_v2.User & MenstrualCycleTracking_v2.hasSymptom.some(MenstrualCycleTracking_v2.Indigestion),\n",
       " MenstrualCycleTracking_v2.User & MenstrualCycleTracking_v2.hasMood.some(MenstrualCycleTracking_v2.InLove),\n",
       " MenstrualCycleTracking_v2.User & MenstrualCycleTracking_v2.hasSymptom.some(MenstrualCycleTracking_v2.HotFlashes),\n",
       " MenstrualCycleTracking_v2.User & MenstrualCycleTracking_v2.hasSymptom.some(MenstrualCycleTracking_v2.Headache),\n",
       " MenstrualCycleTracking_v2.User & MenstrualCycleTracking_v2.hasMood.some(MenstrualCycleTracking_v2.Happy),\n",
       " MenstrualCycleTracking_v2.User & MenstrualCycleTracking_v2.hasMood.some(MenstrualCycleTracking_v2.Frustated),\n",
       " MenstrualCycleTracking_v2.User & MenstrualCycleTracking_v2.hasMood.some(MenstrualCycleTracking_v2.Frisky),\n",
       " MenstrualCycleTracking_v2.User & MenstrualCycleTracking_v2.hasMood.some(MenstrualCycleTracking_v2.Focused),\n",
       " MenstrualCycleTracking_v2.User & MenstrualCycleTracking_v2.hasSymptom.some(MenstrualCycleTracking_v2.Fatigue),\n",
       " MenstrualCycleTracking_v2.User & MenstrualCycleTracking_v2.hasMood.some(MenstrualCycleTracking_v2.Excited),\n",
       " MenstrualCycleTracking_v2.User & MenstrualCycleTracking_v2.hasMood.some(MenstrualCycleTracking_v2.Energetic),\n",
       " MenstrualCycleTracking_v2.User & MenstrualCycleTracking_v2.hasMood.some(MenstrualCycleTracking_v2.Emotional),\n",
       " MenstrualCycleTracking_v2.User & MenstrualCycleTracking_v2.hasSymptom.some(MenstrualCycleTracking_v2.Dizziness),\n",
       " MenstrualCycleTracking_v2.User & MenstrualCycleTracking_v2.hasSymptom.some(MenstrualCycleTracking_v2.Diarrhea),\n",
       " MenstrualCycleTracking_v2.User & MenstrualCycleTracking_v2.hasMood.some(MenstrualCycleTracking_v2.Emotional),\n",
       " MenstrualCycleTracking_v2.User & MenstrualCycleTracking_v2.hasSymptom.some(MenstrualCycleTracking_v2.Cramps),\n",
       " MenstrualCycleTracking_v2.User & MenstrualCycleTracking_v2.hasSymptom.some(MenstrualCycleTracking_v2.Constipation),\n",
       " MenstrualCycleTracking_v2.User & MenstrualCycleTracking_v2.hasMood.some(MenstrualCycleTracking_v2.Calm),\n",
       " MenstrualCycleTracking_v2.User & MenstrualCycleTracking_v2.hasSymptom.some(MenstrualCycleTracking_v2.Bloating),\n",
       " MenstrualCycleTracking_v2.User & MenstrualCycleTracking_v2.hasSymptom.some(MenstrualCycleTracking_v2.Backache),\n",
       " MenstrualCycleTracking_v2.User & MenstrualCycleTracking_v2.hasSymptom.some(MenstrualCycleTracking_v2.Appetite),\n",
       " MenstrualCycleTracking_v2.User & MenstrualCycleTracking_v2.hasMood.some(MenstrualCycleTracking_v2.Anxious),\n",
       " MenstrualCycleTracking_v2.User & MenstrualCycleTracking_v2.hasMood.some(MenstrualCycleTracking_v2.Angry),\n",
       " MenstrualCycleTracking_v2.User & MenstrualCycleTracking_v2.hasSymptom.some(MenstrualCycleTracking_v2.Acne),\n",
       " MenstrualCycleTracking_v2.Mild | MenstrualCycleTracking_v2.Moderate | MenstrualCycleTracking_v2.Severe,\n",
       " MenstrualCycleTracking_v2.Acne | MenstrualCycleTracking_v2.Appetite | MenstrualCycleTracking_v2.Backache | MenstrualCycleTracking_v2.Bloating | MenstrualCycleTracking_v2.Constipation | MenstrualCycleTracking_v2.Cramps | MenstrualCycleTracking_v2.Diarrhea | MenstrualCycleTracking_v2.Dizziness | MenstrualCycleTracking_v2.Fatigue | MenstrualCycleTracking_v2.Headache | MenstrualCycleTracking_v2.HotFlashes | MenstrualCycleTracking_v2.Indigestion | MenstrualCycleTracking_v2.Insomnia | MenstrualCycleTracking_v2.Migraine | MenstrualCycleTracking_v2.Nausea | MenstrualCycleTracking_v2.PainDuringSex | MenstrualCycleTracking_v2.PelvicPain | MenstrualCycleTracking_v2.SexDrive | MenstrualCycleTracking_v2.Sick | MenstrualCycleTracking_v2.SoreBreasts | MenstrualCycleTracking_v2.VaginalPain,\n",
       " MenstrualCycleTracking_v2.Angry | MenstrualCycleTracking_v2.Anxious | MenstrualCycleTracking_v2.Calm | MenstrualCycleTracking_v2.Depressed | MenstrualCycleTracking_v2.Emotional | MenstrualCycleTracking_v2.Energetic | MenstrualCycleTracking_v2.Excited | MenstrualCycleTracking_v2.Focused | MenstrualCycleTracking_v2.Frisky | MenstrualCycleTracking_v2.Frustated | MenstrualCycleTracking_v2.Happy | MenstrualCycleTracking_v2.InLove | MenstrualCycleTracking_v2.Irritable | MenstrualCycleTracking_v2.Moody]"
      ]
     },
     "execution_count": 15,
     "metadata": {},
     "output_type": "execute_result"
    }
   ],
   "source": [
    "list(onto.general_axioms())"
   ]
  },
  {
   "cell_type": "code",
   "execution_count": 16,
   "metadata": {},
   "outputs": [
    {
     "data": {
      "text/plain": [
       "[]"
      ]
     },
     "execution_count": 16,
     "metadata": {},
     "output_type": "execute_result"
    }
   ],
   "source": [
    "list(onto.rules())"
   ]
  },
  {
   "cell_type": "code",
   "execution_count": 18,
   "metadata": {},
   "outputs": [
    {
     "data": {
      "text/plain": [
       "[MenstrualCycleTracking_v2.UserAnxious,\n",
       " MenstrualCycleTracking_v2.UserAppetite,\n",
       " MenstrualCycleTracking_v2.UserBackache,\n",
       " MenstrualCycleTracking_v2.UserBloating,\n",
       " MenstrualCycleTracking_v2.UserConstipation,\n",
       " MenstrualCycleTracking_v2.UserCramps,\n",
       " MenstrualCycleTracking_v2.UserDepressed,\n",
       " MenstrualCycleTracking_v2.UserDiarrhea,\n",
       " MenstrualCycleTracking_v2.UserDizziness,\n",
       " MenstrualCycleTracking_v2.UserEmotional,\n",
       " MenstrualCycleTracking_v2.UserEnergetic,\n",
       " MenstrualCycleTracking_v2.UserExcited,\n",
       " MenstrualCycleTracking_v2.UserFatigue,\n",
       " MenstrualCycleTracking_v2.UserFocused,\n",
       " MenstrualCycleTracking_v2.UserFrisky,\n",
       " MenstrualCycleTracking_v2.UserFrustated,\n",
       " MenstrualCycleTracking_v2.UserHappy,\n",
       " MenstrualCycleTracking_v2.UserHeadache,\n",
       " MenstrualCycleTracking_v2.UserHotFlashes,\n",
       " MenstrualCycleTracking_v2.UserInLove,\n",
       " MenstrualCycleTracking_v2.UserIndigestion,\n",
       " MenstrualCycleTracking_v2.UserIrritable,\n",
       " MenstrualCycleTracking_v2.UserMoody,\n",
       " MenstrualCycleTracking_v2.UserPainDuringSex,\n",
       " MenstrualCycleTracking_v2.UserPelvicPain,\n",
       " MenstrualCycleTracking_v2.UserSexDrive,\n",
       " MenstrualCycleTracking_v2.UserSick,\n",
       " MenstrualCycleTracking_v2.UserSoreBreasts,\n",
       " MenstrualCycleTracking_v2.UserVaginalPain]"
      ]
     },
     "execution_count": 18,
     "metadata": {},
     "output_type": "execute_result"
    }
   ],
   "source": [
    "list(onto.User.subclasses())"
   ]
  },
  {
   "cell_type": "code",
   "execution_count": 3,
   "metadata": {},
   "outputs": [
    {
     "data": {
      "text/plain": [
       "[MenstrualCycleTracking_v2._user01]"
      ]
     },
     "execution_count": 3,
     "metadata": {},
     "output_type": "execute_result"
    }
   ],
   "source": [
    "list(onto.User.instances())"
   ]
  },
  {
   "cell_type": "code",
   "execution_count": 4,
   "metadata": {},
   "outputs": [
    {
     "data": {
      "text/plain": [
       "[]"
      ]
     },
     "execution_count": 4,
     "metadata": {},
     "output_type": "execute_result"
    }
   ],
   "source": [
    "onto.User.equivalent_to"
   ]
  },
  {
   "cell_type": "code",
   "execution_count": 5,
   "metadata": {},
   "outputs": [
    {
     "data": {
      "text/plain": [
       "[MenstrualCycleTracking_v2.hasSymptom.some(MenstrualCycleTracking_v2.Migraine),\n",
       " MenstrualCycleTracking_v2.hasSymptom.some(MenstrualCycleTracking_v2.Migraine),\n",
       " MenstrualCycleTracking_v2.hasSymptom.some(MenstrualCycleTracking_v2.Migraine),\n",
       " MenstrualCycleTracking_v2.hasSymptom.some(MenstrualCycleTracking_v2.Migraine),\n",
       " MenstrualCycleTracking_v2.hasSymptom.some(MenstrualCycleTracking_v2.Migraine),\n",
       " MenstrualCycleTracking_v2.hasSymptom.some(MenstrualCycleTracking_v2.Migraine),\n",
       " MenstrualCycleTracking_v2.hasSymptom.some(MenstrualCycleTracking_v2.Migraine),\n",
       " MenstrualCycleTracking_v2.hasSymptom.some(MenstrualCycleTracking_v2.Migraine),\n",
       " MenstrualCycleTracking_v2.hasSymptom.some(MenstrualCycleTracking_v2.Migraine),\n",
       " MenstrualCycleTracking_v2.hasSymptom.some(MenstrualCycleTracking_v2.Migraine),\n",
       " MenstrualCycleTracking_v2.hasSymptom.some(MenstrualCycleTracking_v2.Migraine),\n",
       " MenstrualCycleTracking_v2.hasSymptom.some(MenstrualCycleTracking_v2.Migraine),\n",
       " MenstrualCycleTracking_v2.hasSymptom.some(MenstrualCycleTracking_v2.Migraine),\n",
       " MenstrualCycleTracking_v2.hasSymptom.some(MenstrualCycleTracking_v2.Migraine),\n",
       " MenstrualCycleTracking_v2.hasSymptom.some(MenstrualCycleTracking_v2.Migraine),\n",
       " MenstrualCycleTracking_v2.hasSymptom.some(MenstrualCycleTracking_v2.Migraine),\n",
       " MenstrualCycleTracking_v2.hasSymptom.some(MenstrualCycleTracking_v2.Migraine),\n",
       " MenstrualCycleTracking_v2.hasSymptom.some(MenstrualCycleTracking_v2.Migraine),\n",
       " MenstrualCycleTracking_v2.hasSymptom.some(MenstrualCycleTracking_v2.Migraine),\n",
       " MenstrualCycleTracking_v2.hasSymptom.some(MenstrualCycleTracking_v2.Migraine),\n",
       " MenstrualCycleTracking_v2.hasSymptom.some(MenstrualCycleTracking_v2.Migraine),\n",
       " MenstrualCycleTracking_v2.hasSymptom.some(MenstrualCycleTracking_v2.Migraine),\n",
       " MenstrualCycleTracking_v2.hasSymptom.some(MenstrualCycleTracking_v2.Migraine),\n",
       " MenstrualCycleTracking_v2.hasSymptom.some(MenstrualCycleTracking_v2.Migraine),\n",
       " MenstrualCycleTracking_v2.hasSymptom.some(MenstrualCycleTracking_v2.Insomnia),\n",
       " MenstrualCycleTracking_v2.hasSymptom.some(MenstrualCycleTracking_v2.Acne),\n",
       " MenstrualCycleTracking_v2.hasSymptom.some(MenstrualCycleTracking_v2.Acne),\n",
       " MenstrualCycleTracking_v2.hasSymptom.some(MenstrualCycleTracking_v2.Acne),\n",
       " MenstrualCycleTracking_v2.hasSymptom.some(MenstrualCycleTracking_v2.Acne),\n",
       " MenstrualCycleTracking_v2.hasSymptom.some(MenstrualCycleTracking_v2.Acne),\n",
       " MenstrualCycleTracking_v2.hasSymptom.some(MenstrualCycleTracking_v2.Acne),\n",
       " MenstrualCycleTracking_v2.hasSymptom.some(MenstrualCycleTracking_v2.Acne),\n",
       " MenstrualCycleTracking_v2.hasSymptom.some(MenstrualCycleTracking_v2.Acne),\n",
       " MenstrualCycleTracking_v2.hasSymptom.some(MenstrualCycleTracking_v2.Acne),\n",
       " MenstrualCycleTracking_v2.hasSymptom.some(MenstrualCycleTracking_v2.Acne),\n",
       " MenstrualCycleTracking_v2.hasSymptom.some(MenstrualCycleTracking_v2.Acne),\n",
       " MenstrualCycleTracking_v2.hasSymptom.some(MenstrualCycleTracking_v2.Acne),\n",
       " MenstrualCycleTracking_v2.hasSymptom.some(MenstrualCycleTracking_v2.Acne),\n",
       " MenstrualCycleTracking_v2.hasSymptom.some(MenstrualCycleTracking_v2.Acne),\n",
       " MenstrualCycleTracking_v2.hasSymptom.some(MenstrualCycleTracking_v2.Migraine),\n",
       " MenstrualCycleTracking_v2.hasSymptom.some(MenstrualCycleTracking_v2.VaginalPain),\n",
       " MenstrualCycleTracking_v2.hasSymptom.some(MenstrualCycleTracking_v2.SoreBreasts),\n",
       " MenstrualCycleTracking_v2.hasSymptom.some(MenstrualCycleTracking_v2.Sick),\n",
       " MenstrualCycleTracking_v2.hasSymptom.some(MenstrualCycleTracking_v2.SexDrive),\n",
       " MenstrualCycleTracking_v2.hasSymptom.some(MenstrualCycleTracking_v2.PelvicPain),\n",
       " MenstrualCycleTracking_v2.hasSymptom.some(MenstrualCycleTracking_v2.PainDuringSex),\n",
       " MenstrualCycleTracking_v2.hasSymptom.some(MenstrualCycleTracking_v2.Nausea),\n",
       " MenstrualCycleTracking_v2.hasMood.some(MenstrualCycleTracking_v2.Moody),\n",
       " MenstrualCycleTracking_v2.hasSymptom.some(MenstrualCycleTracking_v2.Migraine),\n",
       " MenstrualCycleTracking_v2.hasMood.some(MenstrualCycleTracking_v2.Irritable),\n",
       " MenstrualCycleTracking_v2.hasSymptom.some(MenstrualCycleTracking_v2.Insomnia),\n",
       " MenstrualCycleTracking_v2.hasSymptom.some(MenstrualCycleTracking_v2.Indigestion),\n",
       " MenstrualCycleTracking_v2.hasMood.some(MenstrualCycleTracking_v2.InLove),\n",
       " MenstrualCycleTracking_v2.hasSymptom.some(MenstrualCycleTracking_v2.HotFlashes),\n",
       " MenstrualCycleTracking_v2.hasSymptom.some(MenstrualCycleTracking_v2.Headache),\n",
       " MenstrualCycleTracking_v2.hasMood.some(MenstrualCycleTracking_v2.Happy),\n",
       " MenstrualCycleTracking_v2.hasMood.some(MenstrualCycleTracking_v2.Frustated),\n",
       " MenstrualCycleTracking_v2.hasMood.some(MenstrualCycleTracking_v2.Frisky),\n",
       " MenstrualCycleTracking_v2.hasMood.some(MenstrualCycleTracking_v2.Focused),\n",
       " MenstrualCycleTracking_v2.hasSymptom.some(MenstrualCycleTracking_v2.Fatigue),\n",
       " MenstrualCycleTracking_v2.hasMood.some(MenstrualCycleTracking_v2.Excited),\n",
       " MenstrualCycleTracking_v2.hasMood.some(MenstrualCycleTracking_v2.Energetic),\n",
       " MenstrualCycleTracking_v2.hasMood.some(MenstrualCycleTracking_v2.Emotional),\n",
       " MenstrualCycleTracking_v2.hasSymptom.some(MenstrualCycleTracking_v2.Dizziness),\n",
       " MenstrualCycleTracking_v2.hasSymptom.some(MenstrualCycleTracking_v2.Diarrhea),\n",
       " MenstrualCycleTracking_v2.hasMood.some(MenstrualCycleTracking_v2.Emotional),\n",
       " MenstrualCycleTracking_v2.hasSymptom.some(MenstrualCycleTracking_v2.Cramps),\n",
       " MenstrualCycleTracking_v2.hasSymptom.some(MenstrualCycleTracking_v2.Constipation),\n",
       " MenstrualCycleTracking_v2.hasMood.some(MenstrualCycleTracking_v2.Calm),\n",
       " MenstrualCycleTracking_v2.hasSymptom.some(MenstrualCycleTracking_v2.Bloating),\n",
       " MenstrualCycleTracking_v2.hasSymptom.some(MenstrualCycleTracking_v2.Backache),\n",
       " MenstrualCycleTracking_v2.hasSymptom.some(MenstrualCycleTracking_v2.Appetite),\n",
       " MenstrualCycleTracking_v2.hasMood.some(MenstrualCycleTracking_v2.Anxious),\n",
       " MenstrualCycleTracking_v2.hasMood.some(MenstrualCycleTracking_v2.Angry),\n",
       " MenstrualCycleTracking_v2.hasSymptom.some(MenstrualCycleTracking_v2.Acne),\n",
       " MenstrualCycleTracking_v2.User & MenstrualCycleTracking_v2.hasSymptom.some(MenstrualCycleTracking_v2.Migraine),\n",
       " MenstrualCycleTracking_v2.User & MenstrualCycleTracking_v2.hasSymptom.some(MenstrualCycleTracking_v2.Migraine),\n",
       " MenstrualCycleTracking_v2.User & MenstrualCycleTracking_v2.hasSymptom.some(MenstrualCycleTracking_v2.Migraine),\n",
       " MenstrualCycleTracking_v2.User & MenstrualCycleTracking_v2.hasSymptom.some(MenstrualCycleTracking_v2.Migraine),\n",
       " MenstrualCycleTracking_v2.User & MenstrualCycleTracking_v2.hasSymptom.some(MenstrualCycleTracking_v2.Migraine),\n",
       " MenstrualCycleTracking_v2.User & MenstrualCycleTracking_v2.hasSymptom.some(MenstrualCycleTracking_v2.Migraine),\n",
       " MenstrualCycleTracking_v2.User & MenstrualCycleTracking_v2.hasSymptom.some(MenstrualCycleTracking_v2.Migraine),\n",
       " MenstrualCycleTracking_v2.User & MenstrualCycleTracking_v2.hasSymptom.some(MenstrualCycleTracking_v2.Migraine),\n",
       " MenstrualCycleTracking_v2.User & MenstrualCycleTracking_v2.hasSymptom.some(MenstrualCycleTracking_v2.Migraine),\n",
       " MenstrualCycleTracking_v2.User & MenstrualCycleTracking_v2.hasSymptom.some(MenstrualCycleTracking_v2.Migraine),\n",
       " MenstrualCycleTracking_v2.User & MenstrualCycleTracking_v2.hasSymptom.some(MenstrualCycleTracking_v2.Migraine),\n",
       " MenstrualCycleTracking_v2.User & MenstrualCycleTracking_v2.hasSymptom.some(MenstrualCycleTracking_v2.Migraine),\n",
       " MenstrualCycleTracking_v2.User & MenstrualCycleTracking_v2.hasSymptom.some(MenstrualCycleTracking_v2.Migraine),\n",
       " MenstrualCycleTracking_v2.User & MenstrualCycleTracking_v2.hasSymptom.some(MenstrualCycleTracking_v2.Migraine),\n",
       " MenstrualCycleTracking_v2.User & MenstrualCycleTracking_v2.hasSymptom.some(MenstrualCycleTracking_v2.Migraine),\n",
       " MenstrualCycleTracking_v2.User & MenstrualCycleTracking_v2.hasSymptom.some(MenstrualCycleTracking_v2.Migraine),\n",
       " MenstrualCycleTracking_v2.User & MenstrualCycleTracking_v2.hasSymptom.some(MenstrualCycleTracking_v2.Migraine),\n",
       " MenstrualCycleTracking_v2.User & MenstrualCycleTracking_v2.hasSymptom.some(MenstrualCycleTracking_v2.Migraine),\n",
       " MenstrualCycleTracking_v2.User & MenstrualCycleTracking_v2.hasSymptom.some(MenstrualCycleTracking_v2.Migraine),\n",
       " MenstrualCycleTracking_v2.User & MenstrualCycleTracking_v2.hasSymptom.some(MenstrualCycleTracking_v2.Migraine),\n",
       " MenstrualCycleTracking_v2.User & MenstrualCycleTracking_v2.hasSymptom.some(MenstrualCycleTracking_v2.Migraine),\n",
       " MenstrualCycleTracking_v2.User & MenstrualCycleTracking_v2.hasSymptom.some(MenstrualCycleTracking_v2.Migraine),\n",
       " MenstrualCycleTracking_v2.User & MenstrualCycleTracking_v2.hasSymptom.some(MenstrualCycleTracking_v2.Migraine),\n",
       " MenstrualCycleTracking_v2.User & MenstrualCycleTracking_v2.hasSymptom.some(MenstrualCycleTracking_v2.Migraine),\n",
       " MenstrualCycleTracking_v2.User & MenstrualCycleTracking_v2.hasSymptom.some(MenstrualCycleTracking_v2.Insomnia),\n",
       " MenstrualCycleTracking_v2.User & MenstrualCycleTracking_v2.hasSymptom.some(MenstrualCycleTracking_v2.Acne),\n",
       " MenstrualCycleTracking_v2.User & MenstrualCycleTracking_v2.hasSymptom.some(MenstrualCycleTracking_v2.Acne),\n",
       " MenstrualCycleTracking_v2.User & MenstrualCycleTracking_v2.hasSymptom.some(MenstrualCycleTracking_v2.Acne),\n",
       " MenstrualCycleTracking_v2.User & MenstrualCycleTracking_v2.hasSymptom.some(MenstrualCycleTracking_v2.Acne),\n",
       " MenstrualCycleTracking_v2.User & MenstrualCycleTracking_v2.hasSymptom.some(MenstrualCycleTracking_v2.Acne),\n",
       " MenstrualCycleTracking_v2.User & MenstrualCycleTracking_v2.hasSymptom.some(MenstrualCycleTracking_v2.Acne),\n",
       " MenstrualCycleTracking_v2.User & MenstrualCycleTracking_v2.hasSymptom.some(MenstrualCycleTracking_v2.Acne),\n",
       " MenstrualCycleTracking_v2.User & MenstrualCycleTracking_v2.hasSymptom.some(MenstrualCycleTracking_v2.Acne),\n",
       " MenstrualCycleTracking_v2.User & MenstrualCycleTracking_v2.hasSymptom.some(MenstrualCycleTracking_v2.Acne),\n",
       " MenstrualCycleTracking_v2.User & MenstrualCycleTracking_v2.hasSymptom.some(MenstrualCycleTracking_v2.Acne),\n",
       " MenstrualCycleTracking_v2.User & MenstrualCycleTracking_v2.hasSymptom.some(MenstrualCycleTracking_v2.Acne),\n",
       " MenstrualCycleTracking_v2.User & MenstrualCycleTracking_v2.hasSymptom.some(MenstrualCycleTracking_v2.Acne),\n",
       " MenstrualCycleTracking_v2.User & MenstrualCycleTracking_v2.hasSymptom.some(MenstrualCycleTracking_v2.Acne),\n",
       " MenstrualCycleTracking_v2.User & MenstrualCycleTracking_v2.hasSymptom.some(MenstrualCycleTracking_v2.Acne),\n",
       " MenstrualCycleTracking_v2.User & MenstrualCycleTracking_v2.hasSymptom.some(MenstrualCycleTracking_v2.Migraine),\n",
       " MenstrualCycleTracking_v2.User & MenstrualCycleTracking_v2.hasSymptom.some(MenstrualCycleTracking_v2.VaginalPain),\n",
       " MenstrualCycleTracking_v2.User & MenstrualCycleTracking_v2.hasSymptom.some(MenstrualCycleTracking_v2.SoreBreasts),\n",
       " MenstrualCycleTracking_v2.User & MenstrualCycleTracking_v2.hasSymptom.some(MenstrualCycleTracking_v2.Sick),\n",
       " MenstrualCycleTracking_v2.User & MenstrualCycleTracking_v2.hasSymptom.some(MenstrualCycleTracking_v2.SexDrive),\n",
       " MenstrualCycleTracking_v2.User & MenstrualCycleTracking_v2.hasSymptom.some(MenstrualCycleTracking_v2.PelvicPain),\n",
       " MenstrualCycleTracking_v2.User & MenstrualCycleTracking_v2.hasSymptom.some(MenstrualCycleTracking_v2.PainDuringSex),\n",
       " MenstrualCycleTracking_v2.User & MenstrualCycleTracking_v2.hasSymptom.some(MenstrualCycleTracking_v2.Nausea),\n",
       " MenstrualCycleTracking_v2.User & MenstrualCycleTracking_v2.hasMood.some(MenstrualCycleTracking_v2.Moody),\n",
       " MenstrualCycleTracking_v2.User & MenstrualCycleTracking_v2.hasSymptom.some(MenstrualCycleTracking_v2.Migraine),\n",
       " MenstrualCycleTracking_v2.User & MenstrualCycleTracking_v2.hasMood.some(MenstrualCycleTracking_v2.Irritable),\n",
       " MenstrualCycleTracking_v2.User & MenstrualCycleTracking_v2.hasSymptom.some(MenstrualCycleTracking_v2.Insomnia),\n",
       " MenstrualCycleTracking_v2.User & MenstrualCycleTracking_v2.hasSymptom.some(MenstrualCycleTracking_v2.Indigestion),\n",
       " MenstrualCycleTracking_v2.User & MenstrualCycleTracking_v2.hasMood.some(MenstrualCycleTracking_v2.InLove),\n",
       " MenstrualCycleTracking_v2.User & MenstrualCycleTracking_v2.hasSymptom.some(MenstrualCycleTracking_v2.HotFlashes),\n",
       " MenstrualCycleTracking_v2.User & MenstrualCycleTracking_v2.hasSymptom.some(MenstrualCycleTracking_v2.Headache),\n",
       " MenstrualCycleTracking_v2.User & MenstrualCycleTracking_v2.hasMood.some(MenstrualCycleTracking_v2.Happy),\n",
       " MenstrualCycleTracking_v2.User & MenstrualCycleTracking_v2.hasMood.some(MenstrualCycleTracking_v2.Frustated),\n",
       " MenstrualCycleTracking_v2.User & MenstrualCycleTracking_v2.hasMood.some(MenstrualCycleTracking_v2.Frisky),\n",
       " MenstrualCycleTracking_v2.User & MenstrualCycleTracking_v2.hasMood.some(MenstrualCycleTracking_v2.Focused),\n",
       " MenstrualCycleTracking_v2.User & MenstrualCycleTracking_v2.hasSymptom.some(MenstrualCycleTracking_v2.Fatigue),\n",
       " MenstrualCycleTracking_v2.User & MenstrualCycleTracking_v2.hasMood.some(MenstrualCycleTracking_v2.Excited),\n",
       " MenstrualCycleTracking_v2.User & MenstrualCycleTracking_v2.hasMood.some(MenstrualCycleTracking_v2.Energetic),\n",
       " MenstrualCycleTracking_v2.User & MenstrualCycleTracking_v2.hasMood.some(MenstrualCycleTracking_v2.Emotional),\n",
       " MenstrualCycleTracking_v2.User & MenstrualCycleTracking_v2.hasSymptom.some(MenstrualCycleTracking_v2.Dizziness),\n",
       " MenstrualCycleTracking_v2.User & MenstrualCycleTracking_v2.hasSymptom.some(MenstrualCycleTracking_v2.Diarrhea),\n",
       " MenstrualCycleTracking_v2.User & MenstrualCycleTracking_v2.hasMood.some(MenstrualCycleTracking_v2.Emotional),\n",
       " MenstrualCycleTracking_v2.User & MenstrualCycleTracking_v2.hasSymptom.some(MenstrualCycleTracking_v2.Cramps),\n",
       " MenstrualCycleTracking_v2.User & MenstrualCycleTracking_v2.hasSymptom.some(MenstrualCycleTracking_v2.Constipation),\n",
       " MenstrualCycleTracking_v2.User & MenstrualCycleTracking_v2.hasMood.some(MenstrualCycleTracking_v2.Calm),\n",
       " MenstrualCycleTracking_v2.User & MenstrualCycleTracking_v2.hasSymptom.some(MenstrualCycleTracking_v2.Bloating),\n",
       " MenstrualCycleTracking_v2.User & MenstrualCycleTracking_v2.hasSymptom.some(MenstrualCycleTracking_v2.Backache),\n",
       " MenstrualCycleTracking_v2.User & MenstrualCycleTracking_v2.hasSymptom.some(MenstrualCycleTracking_v2.Appetite),\n",
       " MenstrualCycleTracking_v2.User & MenstrualCycleTracking_v2.hasMood.some(MenstrualCycleTracking_v2.Anxious),\n",
       " MenstrualCycleTracking_v2.User & MenstrualCycleTracking_v2.hasMood.some(MenstrualCycleTracking_v2.Angry),\n",
       " MenstrualCycleTracking_v2.User & MenstrualCycleTracking_v2.hasSymptom.some(MenstrualCycleTracking_v2.Acne),\n",
       " MenstrualCycleTracking_v2.Mild | MenstrualCycleTracking_v2.Moderate | MenstrualCycleTracking_v2.Severe,\n",
       " MenstrualCycleTracking_v2.Acne | MenstrualCycleTracking_v2.Appetite | MenstrualCycleTracking_v2.Backache | MenstrualCycleTracking_v2.Bloating | MenstrualCycleTracking_v2.Constipation | MenstrualCycleTracking_v2.Cramps | MenstrualCycleTracking_v2.Diarrhea | MenstrualCycleTracking_v2.Dizziness | MenstrualCycleTracking_v2.Fatigue | MenstrualCycleTracking_v2.Headache | MenstrualCycleTracking_v2.HotFlashes | MenstrualCycleTracking_v2.Indigestion | MenstrualCycleTracking_v2.Insomnia | MenstrualCycleTracking_v2.Migraine | MenstrualCycleTracking_v2.Nausea | MenstrualCycleTracking_v2.PainDuringSex | MenstrualCycleTracking_v2.PelvicPain | MenstrualCycleTracking_v2.SexDrive | MenstrualCycleTracking_v2.Sick | MenstrualCycleTracking_v2.SoreBreasts | MenstrualCycleTracking_v2.VaginalPain,\n",
       " MenstrualCycleTracking_v2.Angry | MenstrualCycleTracking_v2.Anxious | MenstrualCycleTracking_v2.Calm | MenstrualCycleTracking_v2.Depressed | MenstrualCycleTracking_v2.Emotional | MenstrualCycleTracking_v2.Energetic | MenstrualCycleTracking_v2.Excited | MenstrualCycleTracking_v2.Focused | MenstrualCycleTracking_v2.Frisky | MenstrualCycleTracking_v2.Frustated | MenstrualCycleTracking_v2.Happy | MenstrualCycleTracking_v2.InLove | MenstrualCycleTracking_v2.Irritable | MenstrualCycleTracking_v2.Moody]"
      ]
     },
     "execution_count": 5,
     "metadata": {},
     "output_type": "execute_result"
    }
   ],
   "source": [
    "list(onto.general_axioms())"
   ]
  },
  {
   "cell_type": "code",
   "execution_count": 6,
   "metadata": {},
   "outputs": [
    {
     "data": {
      "text/plain": [
       "[MenstrualCycleTracking_v2.User]"
      ]
     },
     "execution_count": 6,
     "metadata": {},
     "output_type": "execute_result"
    }
   ],
   "source": [
    "onto.hasDiagnosisMood.domain"
   ]
  },
  {
   "cell_type": "code",
   "execution_count": 7,
   "metadata": {},
   "outputs": [
    {
     "data": {
      "text/plain": [
       "[MenstrualCycleTracking_v2.MoodRelation]"
      ]
     },
     "execution_count": 7,
     "metadata": {},
     "output_type": "execute_result"
    }
   ],
   "source": [
    "onto.hasDiagnosisMood.range"
   ]
  },
  {
   "cell_type": "code",
   "execution_count": 8,
   "metadata": {},
   "outputs": [
    {
     "data": {
      "text/plain": [
       "[MenstrualCycleTracking_v2.User, MenstrualCycleTracking_v2.UserAcne, MenstrualCycleTracking_v2.UserAngry, MenstrualCycleTracking_v2.UserAnxious, MenstrualCycleTracking_v2.UserAppetite, MenstrualCycleTracking_v2.UserBackache, MenstrualCycleTracking_v2.UserBloating, MenstrualCycleTracking_v2.UserCalm, MenstrualCycleTracking_v2.UserConstipation, MenstrualCycleTracking_v2.UserCramps, MenstrualCycleTracking_v2.UserDepressed, MenstrualCycleTracking_v2.UserDiarrhea, MenstrualCycleTracking_v2.UserDizziness, MenstrualCycleTracking_v2.UserEmotional, MenstrualCycleTracking_v2.UserEnergetic, MenstrualCycleTracking_v2.UserExcited, MenstrualCycleTracking_v2.UserFatigue, MenstrualCycleTracking_v2.UserFocused, MenstrualCycleTracking_v2.UserFrisky, MenstrualCycleTracking_v2.UserFrustated, MenstrualCycleTracking_v2.UserHappy, MenstrualCycleTracking_v2.UserHeadache, MenstrualCycleTracking_v2.UserHotFlashes, MenstrualCycleTracking_v2.UserInLove, MenstrualCycleTracking_v2.UserIndigestion, MenstrualCycleTracking_v2.UserInsomnia, MenstrualCycleTracking_v2.UserIrritable, MenstrualCycleTracking_v2.UserMigraine, MenstrualCycleTracking_v2.UserMoody, MenstrualCycleTracking_v2.UserNausea, MenstrualCycleTracking_v2.UserPainDuringSex, MenstrualCycleTracking_v2.UserPelvicPain, MenstrualCycleTracking_v2.UserSexDrive, MenstrualCycleTracking_v2.UserSick, MenstrualCycleTracking_v2.UserSoreBreasts, MenstrualCycleTracking_v2.UserVaginalPain]"
      ]
     },
     "execution_count": 8,
     "metadata": {},
     "output_type": "execute_result"
    }
   ],
   "source": [
    "default_world.search(iri = \"*User*\")"
   ]
  },
  {
   "cell_type": "code",
   "execution_count": 9,
   "metadata": {},
   "outputs": [
    {
     "data": {
      "text/plain": [
       "'http://www.semanticweb.org/erika/ontologies/menstrual_cycle#User'"
      ]
     },
     "execution_count": 9,
     "metadata": {},
     "output_type": "execute_result"
    }
   ],
   "source": [
    "onto.User.iri"
   ]
  },
  {
   "cell_type": "code",
   "execution_count": 10,
   "metadata": {},
   "outputs": [
    {
     "data": {
      "text/plain": [
       "owlready2.triplelite._SearchList"
      ]
     },
     "execution_count": 10,
     "metadata": {},
     "output_type": "execute_result"
    }
   ],
   "source": [
    "r = onto.search(iri = \"*User*\", _case_sensitive = True)\n",
    "r.__class__"
   ]
  },
  {
   "cell_type": "code",
   "execution_count": 23,
   "metadata": {},
   "outputs": [
    {
     "data": {
      "text/plain": [
       "'_eva'"
      ]
     },
     "execution_count": 23,
     "metadata": {},
     "output_type": "execute_result"
    }
   ],
   "source": [
    "list(onto.individuals())\n",
    "individual = list(onto.individuals())[0]\n",
    "\n",
    "individual.name\n"
   ]
  },
  {
   "cell_type": "code",
   "execution_count": 14,
   "metadata": {},
   "outputs": [
    {
     "name": "stdout",
     "output_type": "stream",
     "text": [
      "{MenstrualCycleTracking_v2.hasDiagnosisSymptom}\n"
     ]
    }
   ],
   "source": [
    "print(individual.get_properties())"
   ]
  },
  {
   "cell_type": "code",
   "execution_count": 15,
   "metadata": {},
   "outputs": [
    {
     "name": "stdout",
     "output_type": "stream",
     "text": [
      "SELECT ?class WHERE {<http://www.semanticweb.org/erika/ontologies/menstrual_cycle#_eva> a ?class . ?class a <http://www.w3.org/2002/07/owl#Class> .}\n"
     ]
    }
   ],
   "source": [
    "query = \"SELECT ?class WHERE {<%s> a ?class . ?class a <http://www.w3.org/2002/07/owl#Class> .}\"\n",
    "query_final = query % individual.iri\n",
    "print(query_final)"
   ]
  },
  {
   "cell_type": "code",
   "execution_count": 32,
   "metadata": {},
   "outputs": [
    {
     "data": {
      "text/plain": [
       "[[MenstrualCycleTracking.UserWithMigraine]]"
      ]
     },
     "execution_count": 32,
     "metadata": {},
     "output_type": "execute_result"
    }
   ],
   "source": [
    "list(default_world.sparql_query(query_final))"
   ]
  },
  {
   "cell_type": "code",
   "execution_count": 11,
   "metadata": {},
   "outputs": [
    {
     "name": "stderr",
     "output_type": "stream",
     "text": [
      "base IRI does not look like a valid URI, trying to serialize this will break.\n"
     ]
    }
   ],
   "source": [
    "default_world.ontologies\n",
    "graph = default_world.as_rdflib_graph()\n",
    "graph.bind(\"prefix\", \"base IRI\")"
   ]
  },
  {
   "cell_type": "code",
   "execution_count": 12,
   "metadata": {},
   "outputs": [
    {
     "name": "stderr",
     "output_type": "stream",
     "text": [
      "base IRI does not look like a valid URI, trying to serialize this will break.\n",
      "base IRI does not look like a valid URI, trying to serialize this will break.\n"
     ]
    },
    {
     "data": {
      "text/plain": [
       "[[157]]"
      ]
     },
     "execution_count": 12,
     "metadata": {},
     "output_type": "execute_result"
    }
   ],
   "source": [
    "list(default_world.sparql_query(\"\"\"\n",
    "           SELECT (COUNT(?x) AS ?nb)\n",
    "           { ?x a owl:Class . }\n",
    "    \"\"\"))"
   ]
  },
  {
   "cell_type": "code",
   "execution_count": 29,
   "metadata": {},
   "outputs": [
    {
     "name": "stderr",
     "output_type": "stream",
     "text": [
      "base IRI does not look like a valid URI, trying to serialize this will break.\n",
      "base IRI does not look like a valid URI, trying to serialize this will break.\n"
     ]
    },
    {
     "data": {
      "text/plain": [
       "[[2]]"
      ]
     },
     "execution_count": 29,
     "metadata": {},
     "output_type": "execute_result"
    }
   ],
   "source": [
    "list(default_world.sparql_query(\"\"\"\n",
    "PREFIX mens:<http://www.semanticweb.org/erika/ontologies/menstrual_cycle#>\n",
    "SELECT (COUNT(?s) AS ?userWithMigraine) \n",
    "    WHERE { ?s  ?p   ?o.\n",
    "        ?o owl:someValuesFrom mens:Insomnia.} \"\"\"))"
   ]
  },
  {
   "cell_type": "code",
   "execution_count": 30,
   "metadata": {},
   "outputs": [
    {
     "name": "stderr",
     "output_type": "stream",
     "text": [
      "base IRI does not look like a valid URI, trying to serialize this will break.\n",
      "base IRI does not look like a valid URI, trying to serialize this will break.\n"
     ]
    },
    {
     "data": {
      "text/plain": [
       "[[26]]"
      ]
     },
     "execution_count": 30,
     "metadata": {},
     "output_type": "execute_result"
    }
   ],
   "source": [
    "list(default_world.sparql_query(\"\"\"\n",
    "PREFIX mens:<http://www.semanticweb.org/erika/ontologies/menstrual_cycle#>\n",
    "SELECT (COUNT(?s) AS ?userWithMigraine) \n",
    "    WHERE { ?s  ?p   ?o.\n",
    "        ?o owl:someValuesFrom mens:Migraine.} \"\"\"))"
   ]
  },
  {
   "cell_type": "code",
   "execution_count": 31,
   "metadata": {},
   "outputs": [
    {
     "name": "stdout",
     "output_type": "stream",
     "text": [
      "44\n"
     ]
    }
   ],
   "source": [
    "\n",
    "print(len (list(onto.individuals())))\n"
   ]
  },
  {
   "cell_type": "code",
   "execution_count": 21,
   "metadata": {},
   "outputs": [
    {
     "data": {
      "text/plain": [
       "[MenstrualCycleTracking_v2.Acne,\n",
       " MenstrualCycleTracking_v2.Angry,\n",
       " MenstrualCycleTracking_v2.Anxious,\n",
       " MenstrualCycleTracking_v2.Appetite,\n",
       " MenstrualCycleTracking_v2.Backache,\n",
       " MenstrualCycleTracking_v2.Bloating,\n",
       " MenstrualCycleTracking_v2.Calm,\n",
       " MenstrualCycleTracking_v2.Constipation,\n",
       " MenstrualCycleTracking_v2.Cramps,\n",
       " MenstrualCycleTracking_v2.Depressed,\n",
       " MenstrualCycleTracking_v2.Diarrhea,\n",
       " MenstrualCycleTracking_v2.Dizziness,\n",
       " MenstrualCycleTracking_v2.Emotional,\n",
       " MenstrualCycleTracking_v2.Energetic,\n",
       " MenstrualCycleTracking_v2.Excited,\n",
       " MenstrualCycleTracking_v2.Fatigue,\n",
       " MenstrualCycleTracking_v2.Focused,\n",
       " MenstrualCycleTracking_v2.Frisky,\n",
       " MenstrualCycleTracking_v2.Frustated,\n",
       " MenstrualCycleTracking_v2.Happy,\n",
       " MenstrualCycleTracking_v2.Headache,\n",
       " MenstrualCycleTracking_v2.HotFlashes,\n",
       " MenstrualCycleTracking_v2.InLove,\n",
       " MenstrualCycleTracking_v2.Indigestion,\n",
       " MenstrualCycleTracking_v2.Insomnia,\n",
       " MenstrualCycleTracking_v2.Irritable,\n",
       " MenstrualCycleTracking_v2.Migraine,\n",
       " MenstrualCycleTracking_v2.Mild,\n",
       " MenstrualCycleTracking_v2.Moderate,\n",
       " MenstrualCycleTracking_v2.Mood,\n",
       " MenstrualCycleTracking_v2.MoodRelation,\n",
       " MenstrualCycleTracking_v2.Moody,\n",
       " MenstrualCycleTracking_v2.Nausea,\n",
       " MenstrualCycleTracking_v2.PainDuringSex,\n",
       " MenstrualCycleTracking_v2.PelvicPain,\n",
       " MenstrualCycleTracking_v2.Severe,\n",
       " MenstrualCycleTracking_v2.SexDrive,\n",
       " MenstrualCycleTracking_v2.Sick,\n",
       " MenstrualCycleTracking_v2.SoreBreasts,\n",
       " MenstrualCycleTracking_v2.Symptom,\n",
       " MenstrualCycleTracking_v2.SymptomLevel,\n",
       " MenstrualCycleTracking_v2.SymptomRelation,\n",
       " MenstrualCycleTracking_v2.User,\n",
       " MenstrualCycleTracking_v2.UserAcne,\n",
       " MenstrualCycleTracking_v2.UserAngry,\n",
       " MenstrualCycleTracking_v2.UserAnxious,\n",
       " MenstrualCycleTracking_v2.UserAppetite,\n",
       " MenstrualCycleTracking_v2.UserBackache,\n",
       " MenstrualCycleTracking_v2.UserBloating,\n",
       " MenstrualCycleTracking_v2.UserCalm,\n",
       " MenstrualCycleTracking_v2.UserConstipation,\n",
       " MenstrualCycleTracking_v2.UserCramps,\n",
       " MenstrualCycleTracking_v2.UserDepressed,\n",
       " MenstrualCycleTracking_v2.UserDiarrhea,\n",
       " MenstrualCycleTracking_v2.UserDizziness,\n",
       " MenstrualCycleTracking_v2.UserEmotional,\n",
       " MenstrualCycleTracking_v2.UserEnergetic,\n",
       " MenstrualCycleTracking_v2.UserExcited,\n",
       " MenstrualCycleTracking_v2.UserFatigue,\n",
       " MenstrualCycleTracking_v2.UserFocused,\n",
       " MenstrualCycleTracking_v2.UserFrisky,\n",
       " MenstrualCycleTracking_v2.UserFrustated,\n",
       " MenstrualCycleTracking_v2.UserHappy,\n",
       " MenstrualCycleTracking_v2.UserHeadache,\n",
       " MenstrualCycleTracking_v2.UserHotFlashes,\n",
       " MenstrualCycleTracking_v2.UserInLove,\n",
       " MenstrualCycleTracking_v2.UserIndigestion,\n",
       " MenstrualCycleTracking_v2.UserInsomnia,\n",
       " MenstrualCycleTracking_v2.UserIrritable,\n",
       " MenstrualCycleTracking_v2.UserMigraine,\n",
       " MenstrualCycleTracking_v2.UserMoody,\n",
       " MenstrualCycleTracking_v2.UserNausea,\n",
       " MenstrualCycleTracking_v2.UserPainDuringSex,\n",
       " MenstrualCycleTracking_v2.UserPelvicPain,\n",
       " MenstrualCycleTracking_v2.UserSexDrive,\n",
       " MenstrualCycleTracking_v2.UserSick,\n",
       " MenstrualCycleTracking_v2.UserSoreBreasts,\n",
       " MenstrualCycleTracking_v2.UserVaginalPain,\n",
       " MenstrualCycleTracking_v2.VaginalPain]"
      ]
     },
     "execution_count": 21,
     "metadata": {},
     "output_type": "execute_result"
    }
   ],
   "source": [
    "lista = list(onto.classes())\n",
    "\n",
    "list(lista)"
   ]
  },
  {
   "cell_type": "code",
   "execution_count": 28,
   "metadata": {},
   "outputs": [
    {
     "name": "stdout",
     "output_type": "stream",
     "text": [
      "MenstrualCycleTracking.Acne\n"
     ]
    }
   ],
   "source": [
    "clase1 = lista[0]\n",
    "print(clase1)"
   ]
  },
  {
   "cell_type": "code",
   "execution_count": 24,
   "metadata": {},
   "outputs": [
    {
     "data": {
      "text/plain": [
       "22"
      ]
     },
     "execution_count": 24,
     "metadata": {},
     "output_type": "execute_result"
    }
   ],
   "source": [
    "len(lista)"
   ]
  },
  {
   "cell_type": "code",
   "execution_count": 29,
   "metadata": {},
   "outputs": [],
   "source": [
    "userAcne1 = clase1(\"acne1\")"
   ]
  },
  {
   "cell_type": "code",
   "execution_count": 30,
   "metadata": {},
   "outputs": [
    {
     "name": "stdout",
     "output_type": "stream",
     "text": [
      "http://www.semanticweb.org/root/ontologies/2021/0/MenstrualCycleTracking#acne1\n"
     ]
    }
   ],
   "source": [
    "print(userAcne1.iri)"
   ]
  },
  {
   "cell_type": "code",
   "execution_count": 31,
   "metadata": {},
   "outputs": [
    {
     "name": "stdout",
     "output_type": "stream",
     "text": [
      "acne1\n"
     ]
    }
   ],
   "source": [
    "print(userAcne1.name)"
   ]
  },
  {
   "cell_type": "code",
   "execution_count": 18,
   "metadata": {},
   "outputs": [
    {
     "name": "stdout",
     "output_type": "stream",
     "text": [
      "43\n"
     ]
    }
   ],
   "source": [
    "individuos = list(onto.individuals())\n",
    "print(len(individuos))"
   ]
  },
  {
   "cell_type": "code",
   "execution_count": 19,
   "metadata": {},
   "outputs": [
    {
     "data": {
      "text/plain": [
       "[MenstrualCycleTracking_v2._eva,\n",
       " MenstrualCycleTracking_v2._evaHasMigraine,\n",
       " MenstrualCycleTracking_v2._evaHasSevere,\n",
       " MenstrualCycleTracking_v2._evaSymptomRelation,\n",
       " MenstrualCycleTracking_v2._userAcne01,\n",
       " MenstrualCycleTracking_v2._userAcne02,\n",
       " MenstrualCycleTracking_v2._userAcne03,\n",
       " MenstrualCycleTracking_v2._userAcne04,\n",
       " MenstrualCycleTracking_v2._userAcne05,\n",
       " MenstrualCycleTracking_v2._userAcne06,\n",
       " MenstrualCycleTracking_v2._userAcne07,\n",
       " MenstrualCycleTracking_v2._userAcne08,\n",
       " MenstrualCycleTracking_v2._userAcne09,\n",
       " MenstrualCycleTracking_v2._userAcne10,\n",
       " MenstrualCycleTracking_v2._userAcne11,\n",
       " MenstrualCycleTracking_v2._userAcne12,\n",
       " MenstrualCycleTracking_v2._userAcne13,\n",
       " MenstrualCycleTracking_v2._userAcne14,\n",
       " MenstrualCycleTracking_v2._userInsomnia01,\n",
       " MenstrualCycleTracking_v2._userMigraine01,\n",
       " MenstrualCycleTracking_v2._userMigraine02,\n",
       " MenstrualCycleTracking_v2._userMigraine03,\n",
       " MenstrualCycleTracking_v2._userMigraine04,\n",
       " MenstrualCycleTracking_v2._userMigraine05,\n",
       " MenstrualCycleTracking_v2._userMigraine06,\n",
       " MenstrualCycleTracking_v2._userMigraine07,\n",
       " MenstrualCycleTracking_v2._userMigraine08,\n",
       " MenstrualCycleTracking_v2._userMigraine09,\n",
       " MenstrualCycleTracking_v2._userMigraine10,\n",
       " MenstrualCycleTracking_v2._userMigraine11,\n",
       " MenstrualCycleTracking_v2._userMigraine12,\n",
       " MenstrualCycleTracking_v2._userMigraine13,\n",
       " MenstrualCycleTracking_v2._userMigraine14,\n",
       " MenstrualCycleTracking_v2._userMigraine15,\n",
       " MenstrualCycleTracking_v2._userMigraine16,\n",
       " MenstrualCycleTracking_v2._userMigraine17,\n",
       " MenstrualCycleTracking_v2._userMigraine18,\n",
       " MenstrualCycleTracking_v2._userMigraine19,\n",
       " MenstrualCycleTracking_v2._userMigraine20,\n",
       " MenstrualCycleTracking_v2._userMigraine21,\n",
       " MenstrualCycleTracking_v2._userMigraine22,\n",
       " MenstrualCycleTracking_v2._userMigraine23,\n",
       " MenstrualCycleTracking_v2._userMigraine24]"
      ]
     },
     "execution_count": 19,
     "metadata": {},
     "output_type": "execute_result"
    }
   ],
   "source": [
    "list(onto.individuals())"
   ]
  },
  {
   "cell_type": "code",
   "execution_count": 32,
   "metadata": {},
   "outputs": [
    {
     "name": "stdout",
     "output_type": "stream",
     "text": [
      "http://www.semanticweb.org/erika/ontologies/menstrual_cycle#Migraine\n",
      "http://www.semanticweb.org/erika/ontologies/menstrual_cycle#UserMigraine\n",
      "http://www.semanticweb.org/erika/ontologies/menstrual_cycle#_evaHasMigraine\n"
     ]
    }
   ],
   "source": [
    "results = onto.search(iri = \"*Migraine\") \n",
    "for i in results:                 \n",
    "    print(i.iri)"
   ]
  },
  {
   "cell_type": "code",
   "execution_count": 33,
   "metadata": {},
   "outputs": [
    {
     "name": "stderr",
     "output_type": "stream",
     "text": [
      "/home/erika/anaconda3/lib/python3.7/site-packages/pandas/compat/_optional.py:138: UserWarning: Pandas requires version '2.7.0' or newer of 'numexpr' (version '2.6.9' currently installed).\n",
      "  warnings.warn(msg, UserWarning)\n"
     ]
    },
    {
     "name": "stdout",
     "output_type": "stream",
     "text": [
      "   Num      Id Document    Name Surname  Age   DateBirth DateDiagnosis  Acne  \\\n",
      "0    1  User01   User01  User01  User01   18  01/01/2003    21/02/2022  Mild   \n",
      "1    2  User02   User02  User02  User02   19  02/01/2004    21/03/2022   NaN   \n",
      "\n",
      "   Appetite  ... Emotional  Energetic  Excited Focused Frisky  Frustated  \\\n",
      "0  Moderate  ...         0          0        1       0      0          0   \n",
      "1       NaN  ...         0          1        0       0      0          1   \n",
      "\n",
      "   Happy  InLove  Irritable Moody  \n",
      "0      1       0          0     0  \n",
      "1      0       0          1     0  \n",
      "\n",
      "[2 rows x 43 columns]\n"
     ]
    }
   ],
   "source": [
    "import pandas as pd\n",
    "import numpy as np\n",
    "# Read CSV file into DataFrame\n",
    "df1 = pd.read_csv('ontologies/users_info.csv')\n",
    "print(df1)"
   ]
  },
  {
   "cell_type": "code",
   "execution_count": 4,
   "metadata": {},
   "outputs": [
    {
     "name": "stdout",
     "output_type": "stream",
     "text": [
      "   Num      Id Document    Name Surname  Age   DateBirth DateDiagnosis  Acne  \\\n",
      "0    1  User01   User01  User01  User01   18  01/01/2003    21/02/2022  Mild   \n",
      "1    2  User02   User02  User02  User02   19  02/01/2004    21/03/2022   NaN   \n",
      "2    3  User03   User03  User03  User03   25  01/01/1997    05/07/2022   NaN   \n",
      "\n",
      "   Appetite  ... Emotional  Energetic  Excited Focused Frisky  Frustated  \\\n",
      "0  Moderate  ...         0          0        1       0      0          0   \n",
      "1       NaN  ...         0          1        0       0      0          1   \n",
      "2       NaN  ...         0          0        0       0      0          1   \n",
      "\n",
      "   Happy  InLove  Irritable Moody  \n",
      "0      1       0          0     0  \n",
      "1      0       0          1     0  \n",
      "2      0       0          1     0  \n",
      "\n",
      "[3 rows x 43 columns]\n"
     ]
    }
   ],
   "source": [
    "df3 = df1.append(df2, ignore_index = True)\n",
    "print (df3)"
   ]
  },
  {
   "cell_type": "code",
   "execution_count": 6,
   "metadata": {},
   "outputs": [],
   "source": [
    "df3.to_csv('ontologies/users_testes.csv', mode='a', header=True)"
   ]
  }
 ],
 "metadata": {
  "kernelspec": {
   "display_name": "Python 3",
   "language": "python",
   "name": "python3"
  },
  "language_info": {
   "codemirror_mode": {
    "name": "ipython",
    "version": 3
   },
   "file_extension": ".py",
   "mimetype": "text/x-python",
   "name": "python",
   "nbconvert_exporter": "python",
   "pygments_lexer": "ipython3",
   "version": "3.7.3"
  }
 },
 "nbformat": 4,
 "nbformat_minor": 2
}
