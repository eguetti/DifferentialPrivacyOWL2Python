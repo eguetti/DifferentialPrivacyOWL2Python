{
 "cells": [
  {
   "cell_type": "code",
   "execution_count": 2,
   "metadata": {},
   "outputs": [],
   "source": [
    "from owlready2 import *\n",
    "\n",
    "onto = get_ontology(\"file://ontologies/MenstrualCycleTracking_v2.owl\").load()"
   ]
  },
  {
   "cell_type": "code",
   "execution_count": 3,
   "metadata": {},
   "outputs": [
    {
     "data": {
      "text/plain": [
       "[MenstrualCycleTracking_v2.Acne,\n",
       " MenstrualCycleTracking_v2.Angry,\n",
       " MenstrualCycleTracking_v2.Anxious,\n",
       " MenstrualCycleTracking_v2.Appetite,\n",
       " MenstrualCycleTracking_v2.Backache,\n",
       " MenstrualCycleTracking_v2.Bloating,\n",
       " MenstrualCycleTracking_v2.Calm,\n",
       " MenstrualCycleTracking_v2.Constipation,\n",
       " MenstrualCycleTracking_v2.Cramps,\n",
       " MenstrualCycleTracking_v2.Depressed,\n",
       " MenstrualCycleTracking_v2.Diarrhea,\n",
       " MenstrualCycleTracking_v2.Dizziness,\n",
       " MenstrualCycleTracking_v2.Emotional,\n",
       " MenstrualCycleTracking_v2.Energetic,\n",
       " MenstrualCycleTracking_v2.Excited,\n",
       " MenstrualCycleTracking_v2.Fatigue,\n",
       " MenstrualCycleTracking_v2.Focused,\n",
       " MenstrualCycleTracking_v2.Frisky,\n",
       " MenstrualCycleTracking_v2.Frustated,\n",
       " MenstrualCycleTracking_v2.Happy,\n",
       " MenstrualCycleTracking_v2.Headache,\n",
       " MenstrualCycleTracking_v2.HotFlashes,\n",
       " MenstrualCycleTracking_v2.InLove,\n",
       " MenstrualCycleTracking_v2.Indigestion,\n",
       " MenstrualCycleTracking_v2.Insomnia,\n",
       " MenstrualCycleTracking_v2.Irritable,\n",
       " MenstrualCycleTracking_v2.Migraine,\n",
       " MenstrualCycleTracking_v2.Mild,\n",
       " MenstrualCycleTracking_v2.Moderate,\n",
       " MenstrualCycleTracking_v2.Mood,\n",
       " MenstrualCycleTracking_v2.MoodRelation,\n",
       " MenstrualCycleTracking_v2.Moody,\n",
       " MenstrualCycleTracking_v2.Nausea,\n",
       " MenstrualCycleTracking_v2.PainDuringSex,\n",
       " MenstrualCycleTracking_v2.PelvicPain,\n",
       " MenstrualCycleTracking_v2.Severe,\n",
       " MenstrualCycleTracking_v2.SexDrive,\n",
       " MenstrualCycleTracking_v2.Sick,\n",
       " MenstrualCycleTracking_v2.SoreBreasts,\n",
       " MenstrualCycleTracking_v2.Symptom,\n",
       " MenstrualCycleTracking_v2.SymptomLevel,\n",
       " MenstrualCycleTracking_v2.SymptomRelation,\n",
       " MenstrualCycleTracking_v2.User,\n",
       " MenstrualCycleTracking_v2.UserAcne,\n",
       " MenstrualCycleTracking_v2.UserAngry,\n",
       " MenstrualCycleTracking_v2.UserAnxious,\n",
       " MenstrualCycleTracking_v2.UserAppetite,\n",
       " MenstrualCycleTracking_v2.UserBackache,\n",
       " MenstrualCycleTracking_v2.UserBloating,\n",
       " MenstrualCycleTracking_v2.UserCalm,\n",
       " MenstrualCycleTracking_v2.UserConstipation,\n",
       " MenstrualCycleTracking_v2.UserCramps,\n",
       " MenstrualCycleTracking_v2.UserDepressed,\n",
       " MenstrualCycleTracking_v2.UserDiarrhea,\n",
       " MenstrualCycleTracking_v2.UserDizziness,\n",
       " MenstrualCycleTracking_v2.UserEmotional,\n",
       " MenstrualCycleTracking_v2.UserEnergetic,\n",
       " MenstrualCycleTracking_v2.UserExcited,\n",
       " MenstrualCycleTracking_v2.UserFatigue,\n",
       " MenstrualCycleTracking_v2.UserFocused,\n",
       " MenstrualCycleTracking_v2.UserFrisky,\n",
       " MenstrualCycleTracking_v2.UserFrustated,\n",
       " MenstrualCycleTracking_v2.UserHappy,\n",
       " MenstrualCycleTracking_v2.UserHeadache,\n",
       " MenstrualCycleTracking_v2.UserHotFlashes,\n",
       " MenstrualCycleTracking_v2.UserInLove,\n",
       " MenstrualCycleTracking_v2.UserIndigestion,\n",
       " MenstrualCycleTracking_v2.UserInsomnia,\n",
       " MenstrualCycleTracking_v2.UserIrritable,\n",
       " MenstrualCycleTracking_v2.UserMigraine,\n",
       " MenstrualCycleTracking_v2.UserMoody,\n",
       " MenstrualCycleTracking_v2.UserNausea,\n",
       " MenstrualCycleTracking_v2.UserPainDuringSex,\n",
       " MenstrualCycleTracking_v2.UserPelvicPain,\n",
       " MenstrualCycleTracking_v2.UserSexDrive,\n",
       " MenstrualCycleTracking_v2.UserSick,\n",
       " MenstrualCycleTracking_v2.UserSoreBreasts,\n",
       " MenstrualCycleTracking_v2.UserVaginalPain,\n",
       " MenstrualCycleTracking_v2.VaginalPain]"
      ]
     },
     "execution_count": 3,
     "metadata": {},
     "output_type": "execute_result"
    }
   ],
   "source": [
    "list(onto.classes())"
   ]
  },
  {
   "cell_type": "code",
   "execution_count": 24,
   "metadata": {},
   "outputs": [
    {
     "data": {
      "text/plain": [
       "[MenstrualCycleTracking_v2.Acne, MenstrualCycleTracking_v2.UserAcne]"
      ]
     },
     "execution_count": 24,
     "metadata": {},
     "output_type": "execute_result"
    }
   ],
   "source": [
    "onto.search(iri = \"*Acne\")\n"
   ]
  },
  {
   "cell_type": "code",
   "execution_count": 27,
   "metadata": {},
   "outputs": [
    {
     "name": "stdout",
     "output_type": "stream",
     "text": [
      "[MenstrualCycleTracking_v2.UserInsomnia]\n"
     ]
    }
   ],
   "source": [
    "results = onto.search(iri = \"*UserInsomnia\")\n",
    "print(results)"
   ]
  },
  {
   "cell_type": "code",
   "execution_count": 4,
   "metadata": {},
   "outputs": [
    {
     "name": "stdout",
     "output_type": "stream",
     "text": [
      "http://www.semanticweb.org/erika/ontologies/menstrual_cycle#UserInsomnia\n"
     ]
    }
   ],
   "source": [
    "results = onto.search(iri = \"*UserInsomnia\")\n",
    "for i in results:                 \n",
    "    print(i.iri)"
   ]
  },
  {
   "cell_type": "code",
   "execution_count": 5,
   "metadata": {},
   "outputs": [
    {
     "ename": "AttributeError",
     "evalue": "'NoneType' object has no attribute 'iri'",
     "output_type": "error",
     "traceback": [
      "\u001b[0;31m---------------------------------------------------------------------------\u001b[0m",
      "\u001b[0;31mAttributeError\u001b[0m                            Traceback (most recent call last)",
      "\u001b[0;32m<ipython-input-5-dd0a57d2211f>\u001b[0m in \u001b[0;36m<module>\u001b[0;34m\u001b[0m\n\u001b[0;32m----> 1\u001b[0;31m \u001b[0monto\u001b[0m\u001b[0;34m.\u001b[0m\u001b[0mUserImsonia\u001b[0m\u001b[0;34m.\u001b[0m\u001b[0miri\u001b[0m\u001b[0;34m\u001b[0m\u001b[0;34m\u001b[0m\u001b[0m\n\u001b[0m",
      "\u001b[0;31mAttributeError\u001b[0m: 'NoneType' object has no attribute 'iri'"
     ]
    }
   ],
   "source": [
    "onto.UserImsonia.iri"
   ]
  },
  {
   "cell_type": "code",
   "execution_count": 10,
   "metadata": {},
   "outputs": [
    {
     "data": {
      "text/plain": [
       "owlready2.entity.ThingClass"
      ]
     },
     "execution_count": 10,
     "metadata": {},
     "output_type": "execute_result"
    }
   ],
   "source": [
    "onto.UserWithImsonia.__class__"
   ]
  },
  {
   "cell_type": "code",
   "execution_count": 11,
   "metadata": {},
   "outputs": [
    {
     "data": {
      "text/plain": [
       "[MenstrualCycleTracking.User]"
      ]
     },
     "execution_count": 11,
     "metadata": {},
     "output_type": "execute_result"
    }
   ],
   "source": [
    "onto.UserWithImsonia.is_a"
   ]
  },
  {
   "cell_type": "code",
   "execution_count": 6,
   "metadata": {},
   "outputs": [
    {
     "data": {
      "text/plain": [
       "[MenstrualCycleTracking_v2._eva,\n",
       " MenstrualCycleTracking_v2._evaHasMigraine,\n",
       " MenstrualCycleTracking_v2._evaHasSevere,\n",
       " MenstrualCycleTracking_v2._evaSymptomRelation,\n",
       " MenstrualCycleTracking_v2._userAcne01,\n",
       " MenstrualCycleTracking_v2._userAcne02,\n",
       " MenstrualCycleTracking_v2._userAcne03,\n",
       " MenstrualCycleTracking_v2._userAcne04,\n",
       " MenstrualCycleTracking_v2._userAcne05,\n",
       " MenstrualCycleTracking_v2._userAcne06,\n",
       " MenstrualCycleTracking_v2._userAcne07,\n",
       " MenstrualCycleTracking_v2._userAcne08,\n",
       " MenstrualCycleTracking_v2._userAcne09,\n",
       " MenstrualCycleTracking_v2._userAcne10,\n",
       " MenstrualCycleTracking_v2._userAcne11,\n",
       " MenstrualCycleTracking_v2._userAcne12,\n",
       " MenstrualCycleTracking_v2._userAcne13,\n",
       " MenstrualCycleTracking_v2._userAcne14,\n",
       " MenstrualCycleTracking_v2._userInsomnia01,\n",
       " MenstrualCycleTracking_v2._userMigraine01,\n",
       " MenstrualCycleTracking_v2._userMigraine02,\n",
       " MenstrualCycleTracking_v2._userMigraine03,\n",
       " MenstrualCycleTracking_v2._userMigraine04,\n",
       " MenstrualCycleTracking_v2._userMigraine05,\n",
       " MenstrualCycleTracking_v2._userMigraine06,\n",
       " MenstrualCycleTracking_v2._userMigraine07,\n",
       " MenstrualCycleTracking_v2._userMigraine08,\n",
       " MenstrualCycleTracking_v2._userMigraine09,\n",
       " MenstrualCycleTracking_v2._userMigraine10,\n",
       " MenstrualCycleTracking_v2._userMigraine11,\n",
       " MenstrualCycleTracking_v2._userMigraine12,\n",
       " MenstrualCycleTracking_v2._userMigraine13,\n",
       " MenstrualCycleTracking_v2._userMigraine14,\n",
       " MenstrualCycleTracking_v2._userMigraine15,\n",
       " MenstrualCycleTracking_v2._userMigraine16,\n",
       " MenstrualCycleTracking_v2._userMigraine17,\n",
       " MenstrualCycleTracking_v2._userMigraine18,\n",
       " MenstrualCycleTracking_v2._userMigraine19,\n",
       " MenstrualCycleTracking_v2._userMigraine20,\n",
       " MenstrualCycleTracking_v2._userMigraine21,\n",
       " MenstrualCycleTracking_v2._userMigraine22,\n",
       " MenstrualCycleTracking_v2._userMigraine23,\n",
       " MenstrualCycleTracking_v2._userMigraine24]"
      ]
     },
     "execution_count": 6,
     "metadata": {},
     "output_type": "execute_result"
    }
   ],
   "source": [
    "list(onto.individuals())"
   ]
  },
  {
   "cell_type": "code",
   "execution_count": 9,
   "metadata": {},
   "outputs": [
    {
     "data": {
      "text/plain": [
       "[MenstrualCycleTracking.hasDiagnosisMood,\n",
       " MenstrualCycleTracking.hasDiagnosisSymptom,\n",
       " MenstrualCycleTracking.hasMoodValue,\n",
       " MenstrualCycleTracking.hasSymptomValue]"
      ]
     },
     "execution_count": 9,
     "metadata": {},
     "output_type": "execute_result"
    }
   ],
   "source": [
    "list(onto.properties())"
   ]
  },
  {
   "cell_type": "code",
   "execution_count": 14,
   "metadata": {},
   "outputs": [
    {
     "data": {
      "text/plain": [
       "[MenstrualCycleTracking.hasDiagnosisMood,\n",
       " MenstrualCycleTracking.hasDiagnosisSymptom,\n",
       " MenstrualCycleTracking.hasMoodValue,\n",
       " MenstrualCycleTracking.hasSymptomValue]"
      ]
     },
     "execution_count": 14,
     "metadata": {},
     "output_type": "execute_result"
    }
   ],
   "source": [
    "list(onto.object_properties())"
   ]
  },
  {
   "cell_type": "code",
   "execution_count": 15,
   "metadata": {},
   "outputs": [
    {
     "data": {
      "text/plain": [
       "[]"
      ]
     },
     "execution_count": 15,
     "metadata": {},
     "output_type": "execute_result"
    }
   ],
   "source": [
    "list(onto.data_properties())"
   ]
  },
  {
   "cell_type": "code",
   "execution_count": 20,
   "metadata": {},
   "outputs": [
    {
     "data": {
      "text/plain": [
       "[]"
      ]
     },
     "execution_count": 20,
     "metadata": {},
     "output_type": "execute_result"
    }
   ],
   "source": [
    "list(onto.disjoints())"
   ]
  },
  {
   "cell_type": "code",
   "execution_count": 7,
   "metadata": {},
   "outputs": [
    {
     "data": {
      "text/plain": [
       "[AllDisjoint([MenstrualCycleTracking_v2.Angry, MenstrualCycleTracking_v2.Anxious, MenstrualCycleTracking_v2.Calm, MenstrualCycleTracking_v2.Depressed, MenstrualCycleTracking_v2.Emotional, MenstrualCycleTracking_v2.Energetic, MenstrualCycleTracking_v2.Excited, MenstrualCycleTracking_v2.Focused, MenstrualCycleTracking_v2.Frisky, MenstrualCycleTracking_v2.Frustated, MenstrualCycleTracking_v2.Happy, MenstrualCycleTracking_v2.InLove, MenstrualCycleTracking_v2.Irritable, MenstrualCycleTracking_v2.Moody]),\n",
       " AllDisjoint([MenstrualCycleTracking_v2.Acne, MenstrualCycleTracking_v2.Appetite, MenstrualCycleTracking_v2.Backache, MenstrualCycleTracking_v2.Bloating, MenstrualCycleTracking_v2.Constipation, MenstrualCycleTracking_v2.Cramps, MenstrualCycleTracking_v2.Diarrhea, MenstrualCycleTracking_v2.Dizziness, MenstrualCycleTracking_v2.Fatigue, MenstrualCycleTracking_v2.Headache, MenstrualCycleTracking_v2.HotFlashes, MenstrualCycleTracking_v2.Indigestion, MenstrualCycleTracking_v2.Insomnia, MenstrualCycleTracking_v2.Migraine, MenstrualCycleTracking_v2.Nausea, MenstrualCycleTracking_v2.PainDuringSex, MenstrualCycleTracking_v2.PelvicPain, MenstrualCycleTracking_v2.SexDrive, MenstrualCycleTracking_v2.Sick, MenstrualCycleTracking_v2.SoreBreasts, MenstrualCycleTracking_v2.VaginalPain]),\n",
       " AllDisjoint([MenstrualCycleTracking_v2.Mild, MenstrualCycleTracking_v2.Moderate]),\n",
       " AllDisjoint([MenstrualCycleTracking_v2.Mild, MenstrualCycleTracking_v2.Severe]),\n",
       " AllDisjoint([MenstrualCycleTracking_v2.Moderate, MenstrualCycleTracking_v2.Severe])]"
      ]
     },
     "execution_count": 7,
     "metadata": {},
     "output_type": "execute_result"
    }
   ],
   "source": [
    "list(onto.disjoint_classes())"
   ]
  },
  {
   "cell_type": "code",
   "execution_count": 22,
   "metadata": {},
   "outputs": [
    {
     "data": {
      "text/plain": [
       "[]"
      ]
     },
     "execution_count": 22,
     "metadata": {},
     "output_type": "execute_result"
    }
   ],
   "source": [
    "list(onto.variables())"
   ]
  },
  {
   "cell_type": "code",
   "execution_count": 5,
   "metadata": {},
   "outputs": [
    {
     "data": {
      "text/plain": [
       "[MenstrualCycleTracking_v2.hasSymptomValue.some(MenstrualCycleTracking_v2.Migraine),\n",
       " MenstrualCycleTracking_v2.hasSymptomValue.some(MenstrualCycleTracking_v2.Migraine),\n",
       " MenstrualCycleTracking_v2.hasSymptomValue.some(MenstrualCycleTracking_v2.Migraine),\n",
       " MenstrualCycleTracking_v2.hasSymptomValue.some(MenstrualCycleTracking_v2.Migraine),\n",
       " MenstrualCycleTracking_v2.hasSymptomValue.some(MenstrualCycleTracking_v2.Migraine),\n",
       " MenstrualCycleTracking_v2.hasSymptomValue.some(MenstrualCycleTracking_v2.Migraine),\n",
       " MenstrualCycleTracking_v2.hasSymptomValue.some(MenstrualCycleTracking_v2.Migraine),\n",
       " MenstrualCycleTracking_v2.hasSymptomValue.some(MenstrualCycleTracking_v2.Migraine),\n",
       " MenstrualCycleTracking_v2.hasSymptomValue.some(MenstrualCycleTracking_v2.Migraine),\n",
       " MenstrualCycleTracking_v2.hasSymptomValue.some(MenstrualCycleTracking_v2.Migraine),\n",
       " MenstrualCycleTracking_v2.hasSymptomValue.some(MenstrualCycleTracking_v2.Migraine),\n",
       " MenstrualCycleTracking_v2.hasSymptomValue.some(MenstrualCycleTracking_v2.Migraine),\n",
       " MenstrualCycleTracking_v2.hasSymptomValue.some(MenstrualCycleTracking_v2.Migraine),\n",
       " MenstrualCycleTracking_v2.hasSymptomValue.some(MenstrualCycleTracking_v2.Migraine),\n",
       " MenstrualCycleTracking_v2.hasSymptomValue.some(MenstrualCycleTracking_v2.Migraine),\n",
       " MenstrualCycleTracking_v2.hasSymptomValue.some(MenstrualCycleTracking_v2.Migraine),\n",
       " MenstrualCycleTracking_v2.hasSymptomValue.some(MenstrualCycleTracking_v2.Migraine),\n",
       " MenstrualCycleTracking_v2.hasSymptomValue.some(MenstrualCycleTracking_v2.Migraine),\n",
       " MenstrualCycleTracking_v2.hasSymptomValue.some(MenstrualCycleTracking_v2.Migraine),\n",
       " MenstrualCycleTracking_v2.hasSymptomValue.some(MenstrualCycleTracking_v2.Migraine),\n",
       " MenstrualCycleTracking_v2.hasSymptomValue.some(MenstrualCycleTracking_v2.Migraine),\n",
       " MenstrualCycleTracking_v2.hasSymptomValue.some(MenstrualCycleTracking_v2.Migraine),\n",
       " MenstrualCycleTracking_v2.hasSymptomValue.some(MenstrualCycleTracking_v2.Migraine),\n",
       " MenstrualCycleTracking_v2.hasSymptomValue.some(MenstrualCycleTracking_v2.Migraine),\n",
       " MenstrualCycleTracking_v2.hasSymptomValue.some(MenstrualCycleTracking_v2.Insomnia),\n",
       " MenstrualCycleTracking_v2.hasSymptomValue.some(MenstrualCycleTracking_v2.Acne),\n",
       " MenstrualCycleTracking_v2.hasSymptomValue.some(MenstrualCycleTracking_v2.Acne),\n",
       " MenstrualCycleTracking_v2.hasSymptomValue.some(MenstrualCycleTracking_v2.Acne),\n",
       " MenstrualCycleTracking_v2.hasSymptomValue.some(MenstrualCycleTracking_v2.Acne),\n",
       " MenstrualCycleTracking_v2.hasSymptomValue.some(MenstrualCycleTracking_v2.Acne),\n",
       " MenstrualCycleTracking_v2.hasSymptomValue.some(MenstrualCycleTracking_v2.Acne),\n",
       " MenstrualCycleTracking_v2.hasSymptomValue.some(MenstrualCycleTracking_v2.Acne),\n",
       " MenstrualCycleTracking_v2.hasSymptomValue.some(MenstrualCycleTracking_v2.Acne),\n",
       " MenstrualCycleTracking_v2.hasSymptomValue.some(MenstrualCycleTracking_v2.Acne),\n",
       " MenstrualCycleTracking_v2.hasSymptomValue.some(MenstrualCycleTracking_v2.Acne),\n",
       " MenstrualCycleTracking_v2.hasSymptomValue.some(MenstrualCycleTracking_v2.Acne),\n",
       " MenstrualCycleTracking_v2.hasSymptomValue.some(MenstrualCycleTracking_v2.Acne),\n",
       " MenstrualCycleTracking_v2.hasSymptomValue.some(MenstrualCycleTracking_v2.Acne),\n",
       " MenstrualCycleTracking_v2.hasSymptomValue.some(MenstrualCycleTracking_v2.Acne),\n",
       " MenstrualCycleTracking_v2.hasSymptomValue.some(MenstrualCycleTracking_v2.Migraine),\n",
       " MenstrualCycleTracking_v2.hasSymptomValue.some(MenstrualCycleTracking_v2.Nausea),\n",
       " MenstrualCycleTracking_v2.hasSymptomValue.some(MenstrualCycleTracking_v2.Migraine),\n",
       " MenstrualCycleTracking_v2.hasSymptomValue.some(MenstrualCycleTracking_v2.Insomnia),\n",
       " MenstrualCycleTracking_v2.hasMoodValue.some(MenstrualCycleTracking_v2.Calm),\n",
       " MenstrualCycleTracking_v2.hasMoodValue.some(MenstrualCycleTracking_v2.Angry),\n",
       " MenstrualCycleTracking_v2.hasSymptomValue.some(MenstrualCycleTracking_v2.Acne),\n",
       " MenstrualCycleTracking_v2.User & MenstrualCycleTracking_v2.hasSymptomValue.some(MenstrualCycleTracking_v2.Migraine),\n",
       " MenstrualCycleTracking_v2.User & MenstrualCycleTracking_v2.hasSymptomValue.some(MenstrualCycleTracking_v2.Migraine),\n",
       " MenstrualCycleTracking_v2.User & MenstrualCycleTracking_v2.hasSymptomValue.some(MenstrualCycleTracking_v2.Migraine),\n",
       " MenstrualCycleTracking_v2.User & MenstrualCycleTracking_v2.hasSymptomValue.some(MenstrualCycleTracking_v2.Migraine),\n",
       " MenstrualCycleTracking_v2.User & MenstrualCycleTracking_v2.hasSymptomValue.some(MenstrualCycleTracking_v2.Migraine),\n",
       " MenstrualCycleTracking_v2.User & MenstrualCycleTracking_v2.hasSymptomValue.some(MenstrualCycleTracking_v2.Migraine),\n",
       " MenstrualCycleTracking_v2.User & MenstrualCycleTracking_v2.hasSymptomValue.some(MenstrualCycleTracking_v2.Migraine),\n",
       " MenstrualCycleTracking_v2.User & MenstrualCycleTracking_v2.hasSymptomValue.some(MenstrualCycleTracking_v2.Migraine),\n",
       " MenstrualCycleTracking_v2.User & MenstrualCycleTracking_v2.hasSymptomValue.some(MenstrualCycleTracking_v2.Migraine),\n",
       " MenstrualCycleTracking_v2.User & MenstrualCycleTracking_v2.hasSymptomValue.some(MenstrualCycleTracking_v2.Migraine),\n",
       " MenstrualCycleTracking_v2.User & MenstrualCycleTracking_v2.hasSymptomValue.some(MenstrualCycleTracking_v2.Migraine),\n",
       " MenstrualCycleTracking_v2.User & MenstrualCycleTracking_v2.hasSymptomValue.some(MenstrualCycleTracking_v2.Migraine),\n",
       " MenstrualCycleTracking_v2.User & MenstrualCycleTracking_v2.hasSymptomValue.some(MenstrualCycleTracking_v2.Migraine),\n",
       " MenstrualCycleTracking_v2.User & MenstrualCycleTracking_v2.hasSymptomValue.some(MenstrualCycleTracking_v2.Migraine),\n",
       " MenstrualCycleTracking_v2.User & MenstrualCycleTracking_v2.hasSymptomValue.some(MenstrualCycleTracking_v2.Migraine),\n",
       " MenstrualCycleTracking_v2.User & MenstrualCycleTracking_v2.hasSymptomValue.some(MenstrualCycleTracking_v2.Migraine),\n",
       " MenstrualCycleTracking_v2.User & MenstrualCycleTracking_v2.hasSymptomValue.some(MenstrualCycleTracking_v2.Migraine),\n",
       " MenstrualCycleTracking_v2.User & MenstrualCycleTracking_v2.hasSymptomValue.some(MenstrualCycleTracking_v2.Migraine),\n",
       " MenstrualCycleTracking_v2.User & MenstrualCycleTracking_v2.hasSymptomValue.some(MenstrualCycleTracking_v2.Migraine),\n",
       " MenstrualCycleTracking_v2.User & MenstrualCycleTracking_v2.hasSymptomValue.some(MenstrualCycleTracking_v2.Migraine),\n",
       " MenstrualCycleTracking_v2.User & MenstrualCycleTracking_v2.hasSymptomValue.some(MenstrualCycleTracking_v2.Migraine),\n",
       " MenstrualCycleTracking_v2.User & MenstrualCycleTracking_v2.hasSymptomValue.some(MenstrualCycleTracking_v2.Migraine),\n",
       " MenstrualCycleTracking_v2.User & MenstrualCycleTracking_v2.hasSymptomValue.some(MenstrualCycleTracking_v2.Migraine),\n",
       " MenstrualCycleTracking_v2.User & MenstrualCycleTracking_v2.hasSymptomValue.some(MenstrualCycleTracking_v2.Migraine),\n",
       " MenstrualCycleTracking_v2.User & MenstrualCycleTracking_v2.hasSymptomValue.some(MenstrualCycleTracking_v2.Insomnia),\n",
       " MenstrualCycleTracking_v2.User & MenstrualCycleTracking_v2.hasSymptomValue.some(MenstrualCycleTracking_v2.Acne),\n",
       " MenstrualCycleTracking_v2.User & MenstrualCycleTracking_v2.hasSymptomValue.some(MenstrualCycleTracking_v2.Acne),\n",
       " MenstrualCycleTracking_v2.User & MenstrualCycleTracking_v2.hasSymptomValue.some(MenstrualCycleTracking_v2.Acne),\n",
       " MenstrualCycleTracking_v2.User & MenstrualCycleTracking_v2.hasSymptomValue.some(MenstrualCycleTracking_v2.Acne),\n",
       " MenstrualCycleTracking_v2.User & MenstrualCycleTracking_v2.hasSymptomValue.some(MenstrualCycleTracking_v2.Acne),\n",
       " MenstrualCycleTracking_v2.User & MenstrualCycleTracking_v2.hasSymptomValue.some(MenstrualCycleTracking_v2.Acne),\n",
       " MenstrualCycleTracking_v2.User & MenstrualCycleTracking_v2.hasSymptomValue.some(MenstrualCycleTracking_v2.Acne),\n",
       " MenstrualCycleTracking_v2.User & MenstrualCycleTracking_v2.hasSymptomValue.some(MenstrualCycleTracking_v2.Acne),\n",
       " MenstrualCycleTracking_v2.User & MenstrualCycleTracking_v2.hasSymptomValue.some(MenstrualCycleTracking_v2.Acne),\n",
       " MenstrualCycleTracking_v2.User & MenstrualCycleTracking_v2.hasSymptomValue.some(MenstrualCycleTracking_v2.Acne),\n",
       " MenstrualCycleTracking_v2.User & MenstrualCycleTracking_v2.hasSymptomValue.some(MenstrualCycleTracking_v2.Acne),\n",
       " MenstrualCycleTracking_v2.User & MenstrualCycleTracking_v2.hasSymptomValue.some(MenstrualCycleTracking_v2.Acne),\n",
       " MenstrualCycleTracking_v2.User & MenstrualCycleTracking_v2.hasSymptomValue.some(MenstrualCycleTracking_v2.Acne),\n",
       " MenstrualCycleTracking_v2.User & MenstrualCycleTracking_v2.hasSymptomValue.some(MenstrualCycleTracking_v2.Acne),\n",
       " MenstrualCycleTracking_v2.User & MenstrualCycleTracking_v2.hasSymptomValue.some(MenstrualCycleTracking_v2.Migraine),\n",
       " MenstrualCycleTracking_v2.User & MenstrualCycleTracking_v2.hasSymptomValue.some(MenstrualCycleTracking_v2.Nausea),\n",
       " MenstrualCycleTracking_v2.User & MenstrualCycleTracking_v2.hasSymptomValue.some(MenstrualCycleTracking_v2.Migraine),\n",
       " MenstrualCycleTracking_v2.User & MenstrualCycleTracking_v2.hasSymptomValue.some(MenstrualCycleTracking_v2.Insomnia),\n",
       " MenstrualCycleTracking_v2.User & MenstrualCycleTracking_v2.hasMoodValue.some(MenstrualCycleTracking_v2.Calm),\n",
       " MenstrualCycleTracking_v2.User & MenstrualCycleTracking_v2.hasMoodValue.some(MenstrualCycleTracking_v2.Angry),\n",
       " MenstrualCycleTracking_v2.User & MenstrualCycleTracking_v2.hasSymptomValue.some(MenstrualCycleTracking_v2.Acne),\n",
       " MenstrualCycleTracking_v2.Acne | MenstrualCycleTracking_v2.Insomnia | MenstrualCycleTracking_v2.Migraine | MenstrualCycleTracking_v2.Nausea,\n",
       " MenstrualCycleTracking_v2.Mild | MenstrualCycleTracking_v2.Moderate | MenstrualCycleTracking_v2.Severe,\n",
       " MenstrualCycleTracking_v2.Angry | MenstrualCycleTracking_v2.Calm | MenstrualCycleTracking_v2.Moody]"
      ]
     },
     "execution_count": 5,
     "metadata": {},
     "output_type": "execute_result"
    }
   ],
   "source": [
    "list(onto.general_axioms())"
   ]
  },
  {
   "cell_type": "code",
   "execution_count": 17,
   "metadata": {},
   "outputs": [
    {
     "data": {
      "text/plain": [
       "[]"
      ]
     },
     "execution_count": 17,
     "metadata": {},
     "output_type": "execute_result"
    }
   ],
   "source": [
    "list(onto.rules())"
   ]
  },
  {
   "cell_type": "code",
   "execution_count": 10,
   "metadata": {},
   "outputs": [
    {
     "data": {
      "text/plain": [
       "[]"
      ]
     },
     "execution_count": 10,
     "metadata": {},
     "output_type": "execute_result"
    }
   ],
   "source": []
  },
  {
   "cell_type": "code",
   "execution_count": 11,
   "metadata": {},
   "outputs": [
    {
     "data": {
      "text/plain": [
       "[0.MenstrualCycleTracking, MenstrualCycleTracking.Acne, MenstrualCycleTracking.Angry, MenstrualCycleTracking.Anxious, MenstrualCycleTracking.Appetite, MenstrualCycleTracking.Backache, MenstrualCycleTracking.Bloating, MenstrualCycleTracking.Calm, MenstrualCycleTracking.Constipation, MenstrualCycleTracking.Cramps, MenstrualCycleTracking.Depressed, MenstrualCycleTracking.Diarrhea, MenstrualCycleTracking.Dizziness, MenstrualCycleTracking.Emotional, MenstrualCycleTracking.Energetic, MenstrualCycleTracking.Exited, MenstrualCycleTracking.Fatigue, MenstrualCycleTracking.Focused, MenstrualCycleTracking.Frisky, MenstrualCycleTracking.Frustated, MenstrualCycleTracking.Happy, MenstrualCycleTracking.Headache, MenstrualCycleTracking.HotFlashes, MenstrualCycleTracking.InLove, MenstrualCycleTracking.Indigestion, MenstrualCycleTracking.Insomnia, MenstrualCycleTracking.Irritable, MenstrualCycleTracking.Migraine, MenstrualCycleTracking.Mood, MenstrualCycleTracking.MoodFeature, MenstrualCycleTracking.MoodRelation, MenstrualCycleTracking.Moody, MenstrualCycleTracking.Nausea, MenstrualCycleTracking.PainDuringSex, MenstrualCycleTracking.PelvicPain, MenstrualCycleTracking.PhysicalSymptom, MenstrualCycleTracking.SexDrive, MenstrualCycleTracking.Sick, MenstrualCycleTracking.SoreBreasts, MenstrualCycleTracking.SymptomRelation, MenstrualCycleTracking.SymptomValue, MenstrualCycleTracking.User, MenstrualCycleTracking.UserWithAcne, MenstrualCycleTracking.UserWithImsonia, MenstrualCycleTracking.UserWithMigraine, MenstrualCycleTracking.VaginalPain, MenstrualCycleTracking.hasDiagnosisMood, MenstrualCycleTracking.hasDiagnosisSymptom, MenstrualCycleTracking.hasMoodValue, MenstrualCycleTracking.hasSymptomValue, MenstrualCycleTracking.eva, entity.Q107363513]"
      ]
     },
     "execution_count": 11,
     "metadata": {},
     "output_type": "execute_result"
    }
   ],
   "source": [
    "onto_erika.search(iri = \"*\")"
   ]
  },
  {
   "cell_type": "code",
   "execution_count": 8,
   "metadata": {},
   "outputs": [
    {
     "data": {
      "text/plain": [
       "[MenstrualCycleTracking_v2.UserAnxious,\n",
       " MenstrualCycleTracking_v2.UserAppetite,\n",
       " MenstrualCycleTracking_v2.UserBackache,\n",
       " MenstrualCycleTracking_v2.UserBloating,\n",
       " MenstrualCycleTracking_v2.UserConstipation,\n",
       " MenstrualCycleTracking_v2.UserCramps,\n",
       " MenstrualCycleTracking_v2.UserDepressed,\n",
       " MenstrualCycleTracking_v2.UserDiarrhea,\n",
       " MenstrualCycleTracking_v2.UserDizziness,\n",
       " MenstrualCycleTracking_v2.UserEmotional,\n",
       " MenstrualCycleTracking_v2.UserEnergetic,\n",
       " MenstrualCycleTracking_v2.UserExcited,\n",
       " MenstrualCycleTracking_v2.UserFatigue,\n",
       " MenstrualCycleTracking_v2.UserFocused,\n",
       " MenstrualCycleTracking_v2.UserFrisky,\n",
       " MenstrualCycleTracking_v2.UserFrustated,\n",
       " MenstrualCycleTracking_v2.UserHappy,\n",
       " MenstrualCycleTracking_v2.UserHeadache,\n",
       " MenstrualCycleTracking_v2.UserHotFlashes,\n",
       " MenstrualCycleTracking_v2.UserInLove,\n",
       " MenstrualCycleTracking_v2.UserIndigestion,\n",
       " MenstrualCycleTracking_v2.UserIrritable,\n",
       " MenstrualCycleTracking_v2.UserMoody,\n",
       " MenstrualCycleTracking_v2.UserPainDuringSex,\n",
       " MenstrualCycleTracking_v2.UserPelvicPain,\n",
       " MenstrualCycleTracking_v2.UserSexDrive,\n",
       " MenstrualCycleTracking_v2.UserSick,\n",
       " MenstrualCycleTracking_v2.UserSoreBreasts,\n",
       " MenstrualCycleTracking_v2.UserVaginalPain]"
      ]
     },
     "execution_count": 8,
     "metadata": {},
     "output_type": "execute_result"
    }
   ],
   "source": [
    "list(onto.User.subclasses())"
   ]
  },
  {
   "cell_type": "code",
   "execution_count": 22,
   "metadata": {},
   "outputs": [
    {
     "data": {
      "text/plain": [
       "[MenstrualCycleTracking.eva]"
      ]
     },
     "execution_count": 22,
     "metadata": {},
     "output_type": "execute_result"
    }
   ],
   "source": [
    "list(onto.User.instances())"
   ]
  },
  {
   "cell_type": "code",
   "execution_count": 9,
   "metadata": {},
   "outputs": [
    {
     "data": {
      "text/plain": [
       "[]"
      ]
     },
     "execution_count": 9,
     "metadata": {},
     "output_type": "execute_result"
    }
   ],
   "source": [
    "onto.User.equivalent_to"
   ]
  },
  {
   "cell_type": "code",
   "execution_count": 24,
   "metadata": {},
   "outputs": [
    {
     "data": {
      "text/plain": [
       "[MenstrualCycleTracking.hasSymptomValue.some(MenstrualCycleTracking.SymptomValue),\n",
       " MenstrualCycleTracking.hasMoodValue.some(MenstrualCycleTracking.MoodFeature),\n",
       " MenstrualCycleTracking.hasDiagnosisSymptom.some(MenstrualCycleTracking.SymptomRelation),\n",
       " MenstrualCycleTracking.hasSymptomValue.only(MenstrualCycleTracking.SymptomRelation),\n",
       " MenstrualCycleTracking.hasMoodValue.only(MenstrualCycleTracking.MoodRelation),\n",
       " MenstrualCycleTracking.hasDiagnosisSymptom.only(MenstrualCycleTracking.User),\n",
       " MenstrualCycleTracking.hasDiagnosisMood.only(MenstrualCycleTracking.User)]"
      ]
     },
     "execution_count": 24,
     "metadata": {},
     "output_type": "execute_result"
    }
   ],
   "source": [
    "list(onto.general_axioms())"
   ]
  },
  {
   "cell_type": "code",
   "execution_count": 47,
   "metadata": {},
   "outputs": [
    {
     "data": {
      "text/plain": [
       "[MenstrualCycleTracking.hasDiagnosisMood.only(MenstrualCycleTracking.User)]"
      ]
     },
     "execution_count": 47,
     "metadata": {},
     "output_type": "execute_result"
    }
   ],
   "source": [
    "onto.hasDiagnosisMood.domain"
   ]
  },
  {
   "cell_type": "code",
   "execution_count": 25,
   "metadata": {},
   "outputs": [
    {
     "data": {
      "text/plain": [
       "[]"
      ]
     },
     "execution_count": 25,
     "metadata": {},
     "output_type": "execute_result"
    }
   ],
   "source": [
    "onto.hasDiagnosisMood.range"
   ]
  },
  {
   "cell_type": "code",
   "execution_count": 26,
   "metadata": {},
   "outputs": [
    {
     "data": {
      "text/plain": [
       "[MenstrualCycleTracking.User, MenstrualCycleTracking.UserWithAcne, MenstrualCycleTracking.UserWithImsonia, MenstrualCycleTracking.UserWithMigraine]"
      ]
     },
     "execution_count": 26,
     "metadata": {},
     "output_type": "execute_result"
    }
   ],
   "source": [
    "default_world.search(iri = \"*User*\")"
   ]
  },
  {
   "cell_type": "code",
   "execution_count": 53,
   "metadata": {},
   "outputs": [
    {
     "data": {
      "text/plain": [
       "'http://www.semanticweb.org/root/ontologies/2021/0/MenstrualCycleTracking#User'"
      ]
     },
     "execution_count": 53,
     "metadata": {},
     "output_type": "execute_result"
    }
   ],
   "source": [
    "onto.User.iri"
   ]
  },
  {
   "cell_type": "code",
   "execution_count": 27,
   "metadata": {},
   "outputs": [
    {
     "data": {
      "text/plain": [
       "owlready2.triplelite._SearchList"
      ]
     },
     "execution_count": 27,
     "metadata": {},
     "output_type": "execute_result"
    }
   ],
   "source": [
    "r = onto.search(iri = \"*User*\", _case_sensitive = True)\n",
    "r.__class__"
   ]
  },
  {
   "cell_type": "code",
   "execution_count": 6,
   "metadata": {},
   "outputs": [
    {
     "data": {
      "text/plain": [
       "'_eva'"
      ]
     },
     "execution_count": 6,
     "metadata": {},
     "output_type": "execute_result"
    }
   ],
   "source": [
    "list(onto.individuals())\n",
    "individual = list(onto.individuals())[0]\n",
    "\n",
    "individual.name\n"
   ]
  },
  {
   "cell_type": "code",
   "execution_count": 37,
   "metadata": {},
   "outputs": [
    {
     "name": "stdout",
     "output_type": "stream",
     "text": [
      "set()\n"
     ]
    }
   ],
   "source": [
    "print(individual.get_properties())"
   ]
  },
  {
   "cell_type": "code",
   "execution_count": 10,
   "metadata": {},
   "outputs": [
    {
     "ename": "AttributeError",
     "evalue": "module 'owlready2.individual' has no attribute 'iri'",
     "output_type": "error",
     "traceback": [
      "\u001b[0;31m---------------------------------------------------------------------------\u001b[0m",
      "\u001b[0;31mAttributeError\u001b[0m                            Traceback (most recent call last)",
      "\u001b[0;32m<ipython-input-10-6a854038f177>\u001b[0m in \u001b[0;36m<module>\u001b[0;34m\u001b[0m\n\u001b[1;32m      1\u001b[0m \u001b[0mquery\u001b[0m \u001b[0;34m=\u001b[0m \u001b[0;34m\"SELECT ?class WHERE {<%s> a ?class . ?class a <http://www.w3.org/2002/07/owl#Class> .}\"\u001b[0m\u001b[0;34m\u001b[0m\u001b[0;34m\u001b[0m\u001b[0m\n\u001b[0;32m----> 2\u001b[0;31m \u001b[0mquery_final\u001b[0m \u001b[0;34m=\u001b[0m \u001b[0mquery\u001b[0m \u001b[0;34m%\u001b[0m \u001b[0mindividual\u001b[0m\u001b[0;34m.\u001b[0m\u001b[0miri\u001b[0m\u001b[0;34m\u001b[0m\u001b[0;34m\u001b[0m\u001b[0m\n\u001b[0m\u001b[1;32m      3\u001b[0m \u001b[0mprint\u001b[0m\u001b[0;34m(\u001b[0m\u001b[0mquery_final\u001b[0m\u001b[0;34m)\u001b[0m\u001b[0;34m\u001b[0m\u001b[0;34m\u001b[0m\u001b[0m\n",
      "\u001b[0;31mAttributeError\u001b[0m: module 'owlready2.individual' has no attribute 'iri'"
     ]
    }
   ],
   "source": [
    "query = \"SELECT ?class WHERE {<%s> a ?class . ?class a <http://www.w3.org/2002/07/owl#Class> .}\"\n",
    "query_final = query % individual.iri\n",
    "print(query_final)"
   ]
  },
  {
   "cell_type": "code",
   "execution_count": 32,
   "metadata": {},
   "outputs": [
    {
     "data": {
      "text/plain": [
       "[[MenstrualCycleTracking.UserWithMigraine]]"
      ]
     },
     "execution_count": 32,
     "metadata": {},
     "output_type": "execute_result"
    }
   ],
   "source": [
    "list(default_world.sparql_query(query_final))"
   ]
  },
  {
   "cell_type": "code",
   "execution_count": 8,
   "metadata": {},
   "outputs": [
    {
     "name": "stderr",
     "output_type": "stream",
     "text": [
      "base IRI does not look like a valid URI, trying to serialize this will break.\n"
     ]
    }
   ],
   "source": [
    "default_world.ontologies\n",
    "graph = default_world.as_rdflib_graph()\n",
    "graph.bind(\"prefix\", \"base IRI\")"
   ]
  },
  {
   "cell_type": "code",
   "execution_count": 36,
   "metadata": {},
   "outputs": [
    {
     "data": {
      "text/plain": [
       "[[71]]"
      ]
     },
     "execution_count": 36,
     "metadata": {},
     "output_type": "execute_result"
    }
   ],
   "source": [
    "list(default_world.sparql_query(\"\"\"\n",
    "           SELECT (COUNT(?x) AS ?nb)\n",
    "           { ?x a owl:Class . }\n",
    "    \"\"\"))"
   ]
  },
  {
   "cell_type": "code",
   "execution_count": 40,
   "metadata": {},
   "outputs": [
    {
     "data": {
      "text/plain": [
       "[[2]]"
      ]
     },
     "execution_count": 40,
     "metadata": {},
     "output_type": "execute_result"
    }
   ],
   "source": [
    "list(default_world.sparql_query(\"\"\"\n",
    "PREFIX mens:<http://www.semanticweb.org/erika/ontologies/menstrual_cycle#>\n",
    "SELECT (COUNT(?s) AS ?userWithMigraine) \n",
    "    WHERE { ?s  ?p   ?o.\n",
    "        ?o owl:someValuesFrom mens:Insomnia.} \"\"\"))"
   ]
  },
  {
   "cell_type": "code",
   "execution_count": 11,
   "metadata": {},
   "outputs": [
    {
     "data": {
      "text/plain": [
       "[[26]]"
      ]
     },
     "execution_count": 11,
     "metadata": {},
     "output_type": "execute_result"
    }
   ],
   "source": [
    "list(default_world.sparql_query(\"\"\"\n",
    "PREFIX mens:<http://www.semanticweb.org/erika/ontologies/menstrual_cycle#>\n",
    "SELECT (COUNT(?s) AS ?userWithMigraine) \n",
    "    WHERE { ?s  ?p   ?o.\n",
    "        ?o owl:someValuesFrom mens:Migraine.} \"\"\"))"
   ]
  },
  {
   "cell_type": "code",
   "execution_count": 13,
   "metadata": {},
   "outputs": [
    {
     "name": "stdout",
     "output_type": "stream",
     "text": [
      "43\n"
     ]
    }
   ],
   "source": [
    "\n",
    "print(len (list(onto.individuals())))\n"
   ]
  },
  {
   "cell_type": "code",
   "execution_count": 23,
   "metadata": {},
   "outputs": [
    {
     "data": {
      "text/plain": [
       "[MenstrualCycleTracking_v2.Acne,\n",
       " MenstrualCycleTracking_v2.Angry,\n",
       " MenstrualCycleTracking_v2.Calm,\n",
       " MenstrualCycleTracking_v2.Insomnia,\n",
       " MenstrualCycleTracking_v2.Migraine,\n",
       " MenstrualCycleTracking_v2.Mild,\n",
       " MenstrualCycleTracking_v2.Moderate,\n",
       " MenstrualCycleTracking_v2.MoodRelation,\n",
       " MenstrualCycleTracking_v2.MoodValue,\n",
       " MenstrualCycleTracking_v2.Moody,\n",
       " MenstrualCycleTracking_v2.Nausea,\n",
       " MenstrualCycleTracking_v2.Severe,\n",
       " MenstrualCycleTracking_v2.SymptomLevel,\n",
       " MenstrualCycleTracking_v2.SymptomRelation,\n",
       " MenstrualCycleTracking_v2.SymptomValue,\n",
       " MenstrualCycleTracking_v2.User,\n",
       " MenstrualCycleTracking_v2.UserAcne,\n",
       " MenstrualCycleTracking_v2.UserAngry,\n",
       " MenstrualCycleTracking_v2.UserCalm,\n",
       " MenstrualCycleTracking_v2.UserInsomnia,\n",
       " MenstrualCycleTracking_v2.UserMigraine,\n",
       " MenstrualCycleTracking_v2.UserNausea]"
      ]
     },
     "execution_count": 23,
     "metadata": {},
     "output_type": "execute_result"
    }
   ],
   "source": [
    "lista = list(onto.classes())\n",
    "\n",
    "list(lista)"
   ]
  },
  {
   "cell_type": "code",
   "execution_count": 28,
   "metadata": {},
   "outputs": [
    {
     "name": "stdout",
     "output_type": "stream",
     "text": [
      "MenstrualCycleTracking.Acne\n"
     ]
    }
   ],
   "source": [
    "clase1 = lista[0]\n",
    "print(clase1)"
   ]
  },
  {
   "cell_type": "code",
   "execution_count": 24,
   "metadata": {},
   "outputs": [
    {
     "data": {
      "text/plain": [
       "22"
      ]
     },
     "execution_count": 24,
     "metadata": {},
     "output_type": "execute_result"
    }
   ],
   "source": [
    "len(lista)"
   ]
  },
  {
   "cell_type": "code",
   "execution_count": 29,
   "metadata": {},
   "outputs": [],
   "source": [
    "userAcne1 = clase1(\"acne1\")"
   ]
  },
  {
   "cell_type": "code",
   "execution_count": 30,
   "metadata": {},
   "outputs": [
    {
     "name": "stdout",
     "output_type": "stream",
     "text": [
      "http://www.semanticweb.org/root/ontologies/2021/0/MenstrualCycleTracking#acne1\n"
     ]
    }
   ],
   "source": [
    "print(userAcne1.iri)"
   ]
  },
  {
   "cell_type": "code",
   "execution_count": 31,
   "metadata": {},
   "outputs": [
    {
     "name": "stdout",
     "output_type": "stream",
     "text": [
      "acne1\n"
     ]
    }
   ],
   "source": [
    "print(userAcne1.name)"
   ]
  },
  {
   "cell_type": "code",
   "execution_count": 18,
   "metadata": {},
   "outputs": [
    {
     "name": "stdout",
     "output_type": "stream",
     "text": [
      "43\n"
     ]
    }
   ],
   "source": [
    "individuos = list(onto.individuals())\n",
    "print(len(individuos))"
   ]
  },
  {
   "cell_type": "code",
   "execution_count": 19,
   "metadata": {},
   "outputs": [
    {
     "data": {
      "text/plain": [
       "[MenstrualCycleTracking_v2._eva,\n",
       " MenstrualCycleTracking_v2._evaHasMigraine,\n",
       " MenstrualCycleTracking_v2._evaHasSevere,\n",
       " MenstrualCycleTracking_v2._evaSymptomRelation,\n",
       " MenstrualCycleTracking_v2._userAcne01,\n",
       " MenstrualCycleTracking_v2._userAcne02,\n",
       " MenstrualCycleTracking_v2._userAcne03,\n",
       " MenstrualCycleTracking_v2._userAcne04,\n",
       " MenstrualCycleTracking_v2._userAcne05,\n",
       " MenstrualCycleTracking_v2._userAcne06,\n",
       " MenstrualCycleTracking_v2._userAcne07,\n",
       " MenstrualCycleTracking_v2._userAcne08,\n",
       " MenstrualCycleTracking_v2._userAcne09,\n",
       " MenstrualCycleTracking_v2._userAcne10,\n",
       " MenstrualCycleTracking_v2._userAcne11,\n",
       " MenstrualCycleTracking_v2._userAcne12,\n",
       " MenstrualCycleTracking_v2._userAcne13,\n",
       " MenstrualCycleTracking_v2._userAcne14,\n",
       " MenstrualCycleTracking_v2._userInsomnia01,\n",
       " MenstrualCycleTracking_v2._userMigraine01,\n",
       " MenstrualCycleTracking_v2._userMigraine02,\n",
       " MenstrualCycleTracking_v2._userMigraine03,\n",
       " MenstrualCycleTracking_v2._userMigraine04,\n",
       " MenstrualCycleTracking_v2._userMigraine05,\n",
       " MenstrualCycleTracking_v2._userMigraine06,\n",
       " MenstrualCycleTracking_v2._userMigraine07,\n",
       " MenstrualCycleTracking_v2._userMigraine08,\n",
       " MenstrualCycleTracking_v2._userMigraine09,\n",
       " MenstrualCycleTracking_v2._userMigraine10,\n",
       " MenstrualCycleTracking_v2._userMigraine11,\n",
       " MenstrualCycleTracking_v2._userMigraine12,\n",
       " MenstrualCycleTracking_v2._userMigraine13,\n",
       " MenstrualCycleTracking_v2._userMigraine14,\n",
       " MenstrualCycleTracking_v2._userMigraine15,\n",
       " MenstrualCycleTracking_v2._userMigraine16,\n",
       " MenstrualCycleTracking_v2._userMigraine17,\n",
       " MenstrualCycleTracking_v2._userMigraine18,\n",
       " MenstrualCycleTracking_v2._userMigraine19,\n",
       " MenstrualCycleTracking_v2._userMigraine20,\n",
       " MenstrualCycleTracking_v2._userMigraine21,\n",
       " MenstrualCycleTracking_v2._userMigraine22,\n",
       " MenstrualCycleTracking_v2._userMigraine23,\n",
       " MenstrualCycleTracking_v2._userMigraine24]"
      ]
     },
     "execution_count": 19,
     "metadata": {},
     "output_type": "execute_result"
    }
   ],
   "source": [
    "list(onto.individuals())"
   ]
  },
  {
   "cell_type": "code",
   "execution_count": 22,
   "metadata": {},
   "outputs": [
    {
     "name": "stdout",
     "output_type": "stream",
     "text": [
      "http://www.semanticweb.org/erika/ontologies/menstrual_cycle#Migraine\n",
      "http://www.semanticweb.org/erika/ontologies/menstrual_cycle#UserMigraine\n",
      "http://www.semanticweb.org/erika/ontologies/menstrual_cycle#_evaHasMigraine\n"
     ]
    }
   ],
   "source": [
    "results = onto.search(iri = \"*Migraine\") \n",
    "for i in results:                 \n",
    "    print(i.iri)"
   ]
  },
  {
   "cell_type": "code",
   "execution_count": null,
   "metadata": {},
   "outputs": [],
   "source": []
  }
 ],
 "metadata": {
  "kernelspec": {
   "display_name": "Python 3",
   "language": "python",
   "name": "python3"
  },
  "language_info": {
   "codemirror_mode": {
    "name": "ipython",
    "version": 3
   },
   "file_extension": ".py",
   "mimetype": "text/x-python",
   "name": "python",
   "nbconvert_exporter": "python",
   "pygments_lexer": "ipython3",
   "version": "3.7.3"
  }
 },
 "nbformat": 4,
 "nbformat_minor": 2
}
