{
 "cells": [
  {
   "cell_type": "code",
   "execution_count": 1,
   "metadata": {},
   "outputs": [],
   "source": [
    "from owlready2 import *\n",
    "\n",
    "onto = get_ontology(\"file://ontologies/MenstrualCycleTracking.owl\").load()"
   ]
  },
  {
   "cell_type": "code",
   "execution_count": 2,
   "metadata": {},
   "outputs": [
    {
     "data": {
      "text/plain": [
       "[MenstrualCycleTracking.Acne,\n",
       " MenstrualCycleTracking.Angry,\n",
       " MenstrualCycleTracking.Anxious,\n",
       " MenstrualCycleTracking.Appetite,\n",
       " MenstrualCycleTracking.Backache,\n",
       " MenstrualCycleTracking.Bloating,\n",
       " MenstrualCycleTracking.Calm,\n",
       " MenstrualCycleTracking.Constipation,\n",
       " MenstrualCycleTracking.Cramps,\n",
       " MenstrualCycleTracking.Depressed,\n",
       " MenstrualCycleTracking.Diarrhea,\n",
       " MenstrualCycleTracking.Dizziness,\n",
       " MenstrualCycleTracking.Emotional,\n",
       " MenstrualCycleTracking.Energetic,\n",
       " MenstrualCycleTracking.Exited,\n",
       " MenstrualCycleTracking.Fatigue,\n",
       " MenstrualCycleTracking.Focused,\n",
       " MenstrualCycleTracking.Frisky,\n",
       " MenstrualCycleTracking.Frustated,\n",
       " MenstrualCycleTracking.Happy,\n",
       " MenstrualCycleTracking.Headache,\n",
       " MenstrualCycleTracking.HotFlashes,\n",
       " MenstrualCycleTracking.InLove,\n",
       " MenstrualCycleTracking.Indigestion,\n",
       " MenstrualCycleTracking.Insomnia,\n",
       " MenstrualCycleTracking.Irritable,\n",
       " MenstrualCycleTracking.Migraine,\n",
       " MenstrualCycleTracking.Mood,\n",
       " MenstrualCycleTracking.MoodFeature,\n",
       " MenstrualCycleTracking.MoodRelation,\n",
       " MenstrualCycleTracking.Moody,\n",
       " MenstrualCycleTracking.Nausea,\n",
       " MenstrualCycleTracking.PainDuringSex,\n",
       " MenstrualCycleTracking.PelvicPain,\n",
       " MenstrualCycleTracking.PhysicalSymptom,\n",
       " MenstrualCycleTracking.SexDrive,\n",
       " MenstrualCycleTracking.Sick,\n",
       " MenstrualCycleTracking.SoreBreasts,\n",
       " MenstrualCycleTracking.SymptomRelation,\n",
       " MenstrualCycleTracking.SymptomValue,\n",
       " MenstrualCycleTracking.User,\n",
       " MenstrualCycleTracking.UserWithAcne,\n",
       " MenstrualCycleTracking.UserWithImsonia,\n",
       " MenstrualCycleTracking.UserWithMigraine,\n",
       " MenstrualCycleTracking.VaginalPain]"
      ]
     },
     "execution_count": 2,
     "metadata": {},
     "output_type": "execute_result"
    }
   ],
   "source": [
    "list(onto.classes())"
   ]
  },
  {
   "cell_type": "code",
   "execution_count": 3,
   "metadata": {},
   "outputs": [
    {
     "data": {
      "text/plain": [
       "[MenstrualCycleTracking.Acne, MenstrualCycleTracking.UserWithAcne]"
      ]
     },
     "execution_count": 3,
     "metadata": {},
     "output_type": "execute_result"
    }
   ],
   "source": [
    "onto.search(iri = \"*Acne\")\n"
   ]
  },
  {
   "cell_type": "code",
   "execution_count": 6,
   "metadata": {},
   "outputs": [
    {
     "name": "stdout",
     "output_type": "stream",
     "text": [
      "[MenstrualCycleTracking.Sick]\n"
     ]
    }
   ],
   "source": [
    "results = onto.search(iri = \"*Sick\")\n",
    "print(results)"
   ]
  },
  {
   "cell_type": "code",
   "execution_count": 4,
   "metadata": {},
   "outputs": [
    {
     "name": "stdout",
     "output_type": "stream",
     "text": [
      "http://www.semanticweb.org/root/ontologies/2021/0/MenstrualCycleTracking#UserWithImsonia\n"
     ]
    }
   ],
   "source": [
    "results = onto.search(iri = \"*UserWithImsonia\")\n",
    "for i in results:                 \n",
    "    print(i.iri)"
   ]
  },
  {
   "cell_type": "code",
   "execution_count": 13,
   "metadata": {},
   "outputs": [
    {
     "data": {
      "text/plain": [
       "'http://www.semanticweb.org/root/ontologies/2021/0/MenstrualCycleTracking#UserWithImsonia'"
      ]
     },
     "execution_count": 13,
     "metadata": {},
     "output_type": "execute_result"
    }
   ],
   "source": [
    "onto.UserWithImsonia.iri"
   ]
  },
  {
   "cell_type": "code",
   "execution_count": 14,
   "metadata": {},
   "outputs": [
    {
     "data": {
      "text/plain": [
       "owlready2.entity.ThingClass"
      ]
     },
     "execution_count": 14,
     "metadata": {},
     "output_type": "execute_result"
    }
   ],
   "source": [
    "onto.UserWithImsonia.__class__"
   ]
  },
  {
   "cell_type": "code",
   "execution_count": 15,
   "metadata": {},
   "outputs": [
    {
     "data": {
      "text/plain": [
       "[MenstrualCycleTracking.User]"
      ]
     },
     "execution_count": 15,
     "metadata": {},
     "output_type": "execute_result"
    }
   ],
   "source": [
    "onto.UserWithImsonia.is_a"
   ]
  },
  {
   "cell_type": "code",
   "execution_count": 16,
   "metadata": {},
   "outputs": [
    {
     "data": {
      "text/plain": [
       "[MenstrualCycleTracking.eva]"
      ]
     },
     "execution_count": 16,
     "metadata": {},
     "output_type": "execute_result"
    }
   ],
   "source": [
    "list(onto.individuals())"
   ]
  },
  {
   "cell_type": "code",
   "execution_count": 17,
   "metadata": {},
   "outputs": [
    {
     "data": {
      "text/plain": [
       "[MenstrualCycleTracking.hasDiagnosisMood,\n",
       " MenstrualCycleTracking.hasDiagnosisSymptom,\n",
       " MenstrualCycleTracking.hasMoodValue,\n",
       " MenstrualCycleTracking.hasSymptomValue]"
      ]
     },
     "execution_count": 17,
     "metadata": {},
     "output_type": "execute_result"
    }
   ],
   "source": [
    "list(onto.properties())"
   ]
  },
  {
   "cell_type": "code",
   "execution_count": 18,
   "metadata": {},
   "outputs": [
    {
     "data": {
      "text/plain": [
       "[MenstrualCycleTracking.hasDiagnosisMood,\n",
       " MenstrualCycleTracking.hasDiagnosisSymptom,\n",
       " MenstrualCycleTracking.hasMoodValue,\n",
       " MenstrualCycleTracking.hasSymptomValue]"
      ]
     },
     "execution_count": 18,
     "metadata": {},
     "output_type": "execute_result"
    }
   ],
   "source": [
    "list(onto.object_properties())"
   ]
  },
  {
   "cell_type": "code",
   "execution_count": 19,
   "metadata": {},
   "outputs": [
    {
     "data": {
      "text/plain": [
       "[]"
      ]
     },
     "execution_count": 19,
     "metadata": {},
     "output_type": "execute_result"
    }
   ],
   "source": [
    "list(onto.data_properties())"
   ]
  },
  {
   "cell_type": "code",
   "execution_count": 20,
   "metadata": {},
   "outputs": [
    {
     "data": {
      "text/plain": [
       "[]"
      ]
     },
     "execution_count": 20,
     "metadata": {},
     "output_type": "execute_result"
    }
   ],
   "source": [
    "list(onto.disjoints())"
   ]
  },
  {
   "cell_type": "code",
   "execution_count": 21,
   "metadata": {},
   "outputs": [
    {
     "data": {
      "text/plain": [
       "[]"
      ]
     },
     "execution_count": 21,
     "metadata": {},
     "output_type": "execute_result"
    }
   ],
   "source": [
    "list(onto.disjoint_classes())"
   ]
  },
  {
   "cell_type": "code",
   "execution_count": 22,
   "metadata": {},
   "outputs": [
    {
     "data": {
      "text/plain": [
       "[]"
      ]
     },
     "execution_count": 22,
     "metadata": {},
     "output_type": "execute_result"
    }
   ],
   "source": [
    "list(onto.variables())"
   ]
  },
  {
   "cell_type": "code",
   "execution_count": 23,
   "metadata": {},
   "outputs": [
    {
     "data": {
      "text/plain": [
       "[MenstrualCycleTracking.hasSymptomValue.some(MenstrualCycleTracking.SymptomValue),\n",
       " MenstrualCycleTracking.hasMoodValue.some(MenstrualCycleTracking.MoodFeature),\n",
       " MenstrualCycleTracking.hasDiagnosisSymptom.some(MenstrualCycleTracking.SymptomRelation),\n",
       " MenstrualCycleTracking.hasSymptomValue.only(MenstrualCycleTracking.SymptomRelation),\n",
       " MenstrualCycleTracking.hasMoodValue.only(MenstrualCycleTracking.MoodRelation),\n",
       " MenstrualCycleTracking.hasDiagnosisSymptom.only(MenstrualCycleTracking.User),\n",
       " MenstrualCycleTracking.hasDiagnosisMood.only(MenstrualCycleTracking.User)]"
      ]
     },
     "execution_count": 23,
     "metadata": {},
     "output_type": "execute_result"
    }
   ],
   "source": [
    "list(onto.general_axioms())"
   ]
  },
  {
   "cell_type": "code",
   "execution_count": 24,
   "metadata": {},
   "outputs": [
    {
     "data": {
      "text/plain": [
       "[]"
      ]
     },
     "execution_count": 24,
     "metadata": {},
     "output_type": "execute_result"
    }
   ],
   "source": [
    "list(onto.rules())"
   ]
  },
  {
   "cell_type": "code",
   "execution_count": 35,
   "metadata": {},
   "outputs": [],
   "source": [
    "onto_erika = get_ontology(\"https://www.wikidata.org/entity/Q107363513\").load()"
   ]
  },
  {
   "cell_type": "code",
   "execution_count": 36,
   "metadata": {},
   "outputs": [
    {
     "data": {
      "text/plain": [
       "[]"
      ]
     },
     "execution_count": 36,
     "metadata": {},
     "output_type": "execute_result"
    }
   ],
   "source": [
    "list(onto_erika.classes())"
   ]
  },
  {
   "cell_type": "code",
   "execution_count": 37,
   "metadata": {},
   "outputs": [
    {
     "data": {
      "text/plain": [
       "[0.MenstrualCycleTracking, MenstrualCycleTracking.Acne, MenstrualCycleTracking.Angry, MenstrualCycleTracking.Anxious, MenstrualCycleTracking.Appetite, MenstrualCycleTracking.Backache, MenstrualCycleTracking.Bloating, MenstrualCycleTracking.Calm, MenstrualCycleTracking.Constipation, MenstrualCycleTracking.Cramps, MenstrualCycleTracking.Depressed, MenstrualCycleTracking.Diarrhea, MenstrualCycleTracking.Dizziness, MenstrualCycleTracking.Emotional, MenstrualCycleTracking.Energetic, MenstrualCycleTracking.Exited, MenstrualCycleTracking.Fatigue, MenstrualCycleTracking.Focused, MenstrualCycleTracking.Frisky, MenstrualCycleTracking.Frustated, MenstrualCycleTracking.Happy, MenstrualCycleTracking.Headache, MenstrualCycleTracking.HotFlashes, MenstrualCycleTracking.InLove, MenstrualCycleTracking.Indigestion, MenstrualCycleTracking.Insomnia, MenstrualCycleTracking.Irritable, MenstrualCycleTracking.Migraine, MenstrualCycleTracking.Mood, MenstrualCycleTracking.MoodFeature, MenstrualCycleTracking.MoodRelation, MenstrualCycleTracking.Moody, MenstrualCycleTracking.Nausea, MenstrualCycleTracking.PainDuringSex, MenstrualCycleTracking.PelvicPain, MenstrualCycleTracking.PhysicalSymptom, MenstrualCycleTracking.SexDrive, MenstrualCycleTracking.Sick, MenstrualCycleTracking.SoreBreasts, MenstrualCycleTracking.SymptomRelation, MenstrualCycleTracking.SymptomValue, MenstrualCycleTracking.User, MenstrualCycleTracking.UserWithAcne, MenstrualCycleTracking.UserWithImsonia, MenstrualCycleTracking.UserWithMigraine, MenstrualCycleTracking.VaginalPain, MenstrualCycleTracking.hasDiagnosisMood, MenstrualCycleTracking.hasDiagnosisSymptom, MenstrualCycleTracking.hasMoodValue, MenstrualCycleTracking.hasSymptomValue, MenstrualCycleTracking.eva, wiki.Q107363513, entity.Q107363513, ontology.Q107363513]"
      ]
     },
     "execution_count": 37,
     "metadata": {},
     "output_type": "execute_result"
    }
   ],
   "source": [
    "onto_erika.search(iri = \"*\")"
   ]
  },
  {
   "cell_type": "code",
   "execution_count": 40,
   "metadata": {},
   "outputs": [
    {
     "data": {
      "text/plain": [
       "[MenstrualCycleTracking.UserWithAcne,\n",
       " MenstrualCycleTracking.UserWithImsonia,\n",
       " MenstrualCycleTracking.UserWithMigraine]"
      ]
     },
     "execution_count": 40,
     "metadata": {},
     "output_type": "execute_result"
    }
   ],
   "source": [
    "list(onto.User.subclasses())"
   ]
  },
  {
   "cell_type": "code",
   "execution_count": 41,
   "metadata": {},
   "outputs": [
    {
     "data": {
      "text/plain": [
       "[MenstrualCycleTracking.eva]"
      ]
     },
     "execution_count": 41,
     "metadata": {},
     "output_type": "execute_result"
    }
   ],
   "source": [
    "list(onto.User.instances())"
   ]
  },
  {
   "cell_type": "code",
   "execution_count": 44,
   "metadata": {},
   "outputs": [
    {
     "data": {
      "text/plain": [
       "[]"
      ]
     },
     "execution_count": 44,
     "metadata": {},
     "output_type": "execute_result"
    }
   ],
   "source": [
    "onto.User.equivalent_to"
   ]
  },
  {
   "cell_type": "code",
   "execution_count": 46,
   "metadata": {},
   "outputs": [
    {
     "data": {
      "text/plain": [
       "[MenstrualCycleTracking.hasSymptomValue.some(MenstrualCycleTracking.SymptomValue),\n",
       " MenstrualCycleTracking.hasMoodValue.some(MenstrualCycleTracking.MoodFeature),\n",
       " MenstrualCycleTracking.hasDiagnosisSymptom.some(MenstrualCycleTracking.SymptomRelation),\n",
       " MenstrualCycleTracking.hasSymptomValue.only(MenstrualCycleTracking.SymptomRelation),\n",
       " MenstrualCycleTracking.hasMoodValue.only(MenstrualCycleTracking.MoodRelation),\n",
       " MenstrualCycleTracking.hasDiagnosisSymptom.only(MenstrualCycleTracking.User),\n",
       " MenstrualCycleTracking.hasDiagnosisMood.only(MenstrualCycleTracking.User)]"
      ]
     },
     "execution_count": 46,
     "metadata": {},
     "output_type": "execute_result"
    }
   ],
   "source": [
    "list(onto.general_axioms())"
   ]
  },
  {
   "cell_type": "code",
   "execution_count": 47,
   "metadata": {},
   "outputs": [
    {
     "data": {
      "text/plain": [
       "[MenstrualCycleTracking.hasDiagnosisMood.only(MenstrualCycleTracking.User)]"
      ]
     },
     "execution_count": 47,
     "metadata": {},
     "output_type": "execute_result"
    }
   ],
   "source": [
    "onto.hasDiagnosisMood.domain"
   ]
  },
  {
   "cell_type": "code",
   "execution_count": 48,
   "metadata": {},
   "outputs": [
    {
     "data": {
      "text/plain": [
       "[]"
      ]
     },
     "execution_count": 48,
     "metadata": {},
     "output_type": "execute_result"
    }
   ],
   "source": [
    "onto.hasDiagnosisMood.range"
   ]
  },
  {
   "cell_type": "code",
   "execution_count": 52,
   "metadata": {},
   "outputs": [
    {
     "data": {
      "text/plain": [
       "[MenstrualCycleTracking.User, MenstrualCycleTracking.UserWithAcne, MenstrualCycleTracking.UserWithImsonia, MenstrualCycleTracking.UserWithMigraine]"
      ]
     },
     "execution_count": 52,
     "metadata": {},
     "output_type": "execute_result"
    }
   ],
   "source": [
    "default_world.search(iri = \"*User*\")"
   ]
  },
  {
   "cell_type": "code",
   "execution_count": 53,
   "metadata": {},
   "outputs": [
    {
     "data": {
      "text/plain": [
       "'http://www.semanticweb.org/root/ontologies/2021/0/MenstrualCycleTracking#User'"
      ]
     },
     "execution_count": 53,
     "metadata": {},
     "output_type": "execute_result"
    }
   ],
   "source": [
    "onto.User.iri"
   ]
  },
  {
   "cell_type": "code",
   "execution_count": 56,
   "metadata": {},
   "outputs": [
    {
     "data": {
      "text/plain": [
       "owlready2.triplelite._SearchList"
      ]
     },
     "execution_count": 56,
     "metadata": {},
     "output_type": "execute_result"
    }
   ],
   "source": [
    "r = onto.search(iri = \"*User*\", _case_sensitive = True)\n",
    "r.__class__"
   ]
  },
  {
   "cell_type": "code",
   "execution_count": 5,
   "metadata": {},
   "outputs": [
    {
     "data": {
      "text/plain": [
       "'http://www.semanticweb.org/root/ontologies/2021/0/MenstrualCycleTracking#eva'"
      ]
     },
     "execution_count": 5,
     "metadata": {},
     "output_type": "execute_result"
    }
   ],
   "source": [
    "list(onto.individuals())\n",
    "individual = list(onto.individuals())[0]\n",
    "\n",
    "individual.iri\n"
   ]
  },
  {
   "cell_type": "code",
   "execution_count": 6,
   "metadata": {},
   "outputs": [
    {
     "name": "stdout",
     "output_type": "stream",
     "text": [
      "SELECT ?class WHERE {<http://www.semanticweb.org/root/ontologies/2021/0/MenstrualCycleTracking#eva> a ?class . ?class a <http://www.w3.org/2002/07/owl#Class> .}\n"
     ]
    }
   ],
   "source": [
    "query = \"SELECT ?class WHERE {<%s> a ?class . ?class a <http://www.w3.org/2002/07/owl#Class> .}\"\n",
    "query_final = query % individual.iri\n",
    "print(query_final)"
   ]
  },
  {
   "cell_type": "code",
   "execution_count": 7,
   "metadata": {},
   "outputs": [
    {
     "data": {
      "text/plain": [
       "[[MenstrualCycleTracking.UserWithMigraine]]"
      ]
     },
     "execution_count": 7,
     "metadata": {},
     "output_type": "execute_result"
    }
   ],
   "source": [
    "list(default_world.sparql_query(query_final))"
   ]
  },
  {
   "cell_type": "code",
   "execution_count": 8,
   "metadata": {},
   "outputs": [
    {
     "name": "stderr",
     "output_type": "stream",
     "text": [
      "base IRI does not look like a valid URI, trying to serialize this will break.\n"
     ]
    }
   ],
   "source": [
    "default_world.ontologies\n",
    "graph = default_world.as_rdflib_graph()\n",
    "graph.bind(\"prefix\", \"base IRI\")"
   ]
  },
  {
   "cell_type": "code",
   "execution_count": 9,
   "metadata": {},
   "outputs": [
    {
     "name": "stderr",
     "output_type": "stream",
     "text": [
      "base IRI does not look like a valid URI, trying to serialize this will break.\n",
      "base IRI does not look like a valid URI, trying to serialize this will break.\n"
     ]
    },
    {
     "data": {
      "text/plain": [
       "[[45]]"
      ]
     },
     "execution_count": 9,
     "metadata": {},
     "output_type": "execute_result"
    }
   ],
   "source": [
    "list(default_world.sparql_query(\"\"\"\n",
    "           SELECT (COUNT(?x) AS ?nb)\n",
    "           { ?x a owl:Class . }\n",
    "    \"\"\"))"
   ]
  },
  {
   "cell_type": "code",
   "execution_count": null,
   "metadata": {},
   "outputs": [],
   "source": []
  }
 ],
 "metadata": {
  "kernelspec": {
   "display_name": "Python 3",
   "language": "python",
   "name": "python3"
  },
  "language_info": {
   "codemirror_mode": {
    "name": "ipython",
    "version": 3
   },
   "file_extension": ".py",
   "mimetype": "text/x-python",
   "name": "python",
   "nbconvert_exporter": "python",
   "pygments_lexer": "ipython3",
   "version": "3.7.3"
  }
 },
 "nbformat": 4,
 "nbformat_minor": 2
}
