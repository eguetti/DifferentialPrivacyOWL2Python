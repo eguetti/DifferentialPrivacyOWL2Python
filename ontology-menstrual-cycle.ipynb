{
 "cells": [
  {
   "cell_type": "code",
   "execution_count": 1,
   "metadata": {},
   "outputs": [],
   "source": [
    "from owlready2 import *\n",
    "\n",
    "onto = get_ontology(\"file://ontologies/MenstrualCycleTracking_v2.owl\").load()"
   ]
  },
  {
   "cell_type": "code",
   "execution_count": 2,
   "metadata": {},
   "outputs": [
    {
     "data": {
      "text/plain": [
       "[MenstrualCycleTracking_v2.Acne,\n",
       " MenstrualCycleTracking_v2.Angry,\n",
       " MenstrualCycleTracking_v2.Anxious,\n",
       " MenstrualCycleTracking_v2.Appetite,\n",
       " MenstrualCycleTracking_v2.Backache,\n",
       " MenstrualCycleTracking_v2.Bloating,\n",
       " MenstrualCycleTracking_v2.Calm,\n",
       " MenstrualCycleTracking_v2.Constipation,\n",
       " MenstrualCycleTracking_v2.Cramps,\n",
       " MenstrualCycleTracking_v2.Depressed,\n",
       " MenstrualCycleTracking_v2.Diarrhea,\n",
       " MenstrualCycleTracking_v2.Dizziness,\n",
       " MenstrualCycleTracking_v2.Emotional,\n",
       " MenstrualCycleTracking_v2.Energetic,\n",
       " MenstrualCycleTracking_v2.Excited,\n",
       " MenstrualCycleTracking_v2.Fatigue,\n",
       " MenstrualCycleTracking_v2.Focused,\n",
       " MenstrualCycleTracking_v2.Frisky,\n",
       " MenstrualCycleTracking_v2.Frustated,\n",
       " MenstrualCycleTracking_v2.Happy,\n",
       " MenstrualCycleTracking_v2.Headache,\n",
       " MenstrualCycleTracking_v2.HotFlashes,\n",
       " MenstrualCycleTracking_v2.InLove,\n",
       " MenstrualCycleTracking_v2.Indigestion,\n",
       " MenstrualCycleTracking_v2.Insomnia,\n",
       " MenstrualCycleTracking_v2.Irritable,\n",
       " MenstrualCycleTracking_v2.Migraine,\n",
       " MenstrualCycleTracking_v2.Mild,\n",
       " MenstrualCycleTracking_v2.Moderate,\n",
       " MenstrualCycleTracking_v2.Mood,\n",
       " MenstrualCycleTracking_v2.MoodRelation,\n",
       " MenstrualCycleTracking_v2.Moody,\n",
       " MenstrualCycleTracking_v2.Nausea,\n",
       " MenstrualCycleTracking_v2.PainDuringSex,\n",
       " MenstrualCycleTracking_v2.PelvicPain,\n",
       " MenstrualCycleTracking_v2.Severe,\n",
       " MenstrualCycleTracking_v2.SexDrive,\n",
       " MenstrualCycleTracking_v2.Sick,\n",
       " MenstrualCycleTracking_v2.SoreBreasts,\n",
       " MenstrualCycleTracking_v2.Symptom,\n",
       " MenstrualCycleTracking_v2.SymptomLevel,\n",
       " MenstrualCycleTracking_v2.SymptomRelation,\n",
       " MenstrualCycleTracking_v2.User,\n",
       " MenstrualCycleTracking_v2.UserAcne,\n",
       " MenstrualCycleTracking_v2.UserAngry,\n",
       " MenstrualCycleTracking_v2.UserAnxious,\n",
       " MenstrualCycleTracking_v2.UserAppetite,\n",
       " MenstrualCycleTracking_v2.UserBackache,\n",
       " MenstrualCycleTracking_v2.UserBloating,\n",
       " MenstrualCycleTracking_v2.UserCalm,\n",
       " MenstrualCycleTracking_v2.UserConstipation,\n",
       " MenstrualCycleTracking_v2.UserCramps,\n",
       " MenstrualCycleTracking_v2.UserDepressed,\n",
       " MenstrualCycleTracking_v2.UserDiarrhea,\n",
       " MenstrualCycleTracking_v2.UserDizziness,\n",
       " MenstrualCycleTracking_v2.UserEmotional,\n",
       " MenstrualCycleTracking_v2.UserEnergetic,\n",
       " MenstrualCycleTracking_v2.UserExcited,\n",
       " MenstrualCycleTracking_v2.UserFatigue,\n",
       " MenstrualCycleTracking_v2.UserFocused,\n",
       " MenstrualCycleTracking_v2.UserFrisky,\n",
       " MenstrualCycleTracking_v2.UserFrustated,\n",
       " MenstrualCycleTracking_v2.UserHappy,\n",
       " MenstrualCycleTracking_v2.UserHeadache,\n",
       " MenstrualCycleTracking_v2.UserHotFlashes,\n",
       " MenstrualCycleTracking_v2.UserInLove,\n",
       " MenstrualCycleTracking_v2.UserIndigestion,\n",
       " MenstrualCycleTracking_v2.UserInsomnia,\n",
       " MenstrualCycleTracking_v2.UserIrritable,\n",
       " MenstrualCycleTracking_v2.UserMigraine,\n",
       " MenstrualCycleTracking_v2.UserMoody,\n",
       " MenstrualCycleTracking_v2.UserNausea,\n",
       " MenstrualCycleTracking_v2.UserPainDuringSex,\n",
       " MenstrualCycleTracking_v2.UserPelvicPain,\n",
       " MenstrualCycleTracking_v2.UserSexDrive,\n",
       " MenstrualCycleTracking_v2.UserSick,\n",
       " MenstrualCycleTracking_v2.UserSoreBreasts,\n",
       " MenstrualCycleTracking_v2.UserVaginalPain,\n",
       " MenstrualCycleTracking_v2.VaginalPain]"
      ]
     },
     "execution_count": 2,
     "metadata": {},
     "output_type": "execute_result"
    }
   ],
   "source": [
    "list(onto.classes())"
   ]
  },
  {
   "cell_type": "code",
   "execution_count": 3,
   "metadata": {},
   "outputs": [
    {
     "data": {
      "text/plain": [
       "[MenstrualCycleTracking_v2.Acne, MenstrualCycleTracking_v2.UserAcne]"
      ]
     },
     "execution_count": 3,
     "metadata": {},
     "output_type": "execute_result"
    }
   ],
   "source": [
    "onto.search(iri = \"*Acne\")\n"
   ]
  },
  {
   "cell_type": "code",
   "execution_count": 4,
   "metadata": {},
   "outputs": [
    {
     "name": "stdout",
     "output_type": "stream",
     "text": [
      "[MenstrualCycleTracking_v2.UserInsomnia]\n"
     ]
    }
   ],
   "source": [
    "results = onto.search(iri = \"*UserInsomnia\")\n",
    "print(results)"
   ]
  },
  {
   "cell_type": "code",
   "execution_count": 6,
   "metadata": {},
   "outputs": [
    {
     "name": "stdout",
     "output_type": "stream",
     "text": [
      "http://www.semanticweb.org/erika/ontologies/menstrual_cycle#UserInsomnia\n"
     ]
    }
   ],
   "source": [
    "results = onto.search(iri = \"*UserInsomnia\")\n",
    "for i in results:                 \n",
    "    print(i.iri)"
   ]
  },
  {
   "cell_type": "code",
   "execution_count": 10,
   "metadata": {},
   "outputs": [
    {
     "data": {
      "text/plain": [
       "'http://www.semanticweb.org/erika/ontologies/menstrual_cycle#UserInsomnia'"
      ]
     },
     "execution_count": 10,
     "metadata": {},
     "output_type": "execute_result"
    }
   ],
   "source": [
    "onto.UserInsomnia.iri"
   ]
  },
  {
   "cell_type": "code",
   "execution_count": 10,
   "metadata": {},
   "outputs": [
    {
     "data": {
      "text/plain": [
       "owlready2.entity.ThingClass"
      ]
     },
     "execution_count": 10,
     "metadata": {},
     "output_type": "execute_result"
    }
   ],
   "source": [
    "onto.UserWithImsonia.__class__"
   ]
  },
  {
   "cell_type": "code",
   "execution_count": 11,
   "metadata": {},
   "outputs": [
    {
     "data": {
      "text/plain": [
       "[MenstrualCycleTracking.User]"
      ]
     },
     "execution_count": 11,
     "metadata": {},
     "output_type": "execute_result"
    }
   ],
   "source": [
    "onto.UserWithImsonia.is_a"
   ]
  },
  {
   "cell_type": "code",
   "execution_count": 11,
   "metadata": {},
   "outputs": [
    {
     "data": {
      "text/plain": [
       "[MenstrualCycleTracking_v2._eva,\n",
       " MenstrualCycleTracking_v2._evaHasMigraine,\n",
       " MenstrualCycleTracking_v2._evaHasSevere,\n",
       " MenstrualCycleTracking_v2._evaSymptomRelation,\n",
       " MenstrualCycleTracking_v2._user01,\n",
       " MenstrualCycleTracking_v2._userAcne01,\n",
       " MenstrualCycleTracking_v2._userAcne02,\n",
       " MenstrualCycleTracking_v2._userAcne03,\n",
       " MenstrualCycleTracking_v2._userAcne04,\n",
       " MenstrualCycleTracking_v2._userAcne05,\n",
       " MenstrualCycleTracking_v2._userAcne06,\n",
       " MenstrualCycleTracking_v2._userAcne07,\n",
       " MenstrualCycleTracking_v2._userAcne08,\n",
       " MenstrualCycleTracking_v2._userAcne09,\n",
       " MenstrualCycleTracking_v2._userAcne10,\n",
       " MenstrualCycleTracking_v2._userAcne11,\n",
       " MenstrualCycleTracking_v2._userAcne12,\n",
       " MenstrualCycleTracking_v2._userAcne13,\n",
       " MenstrualCycleTracking_v2._userAcne14,\n",
       " MenstrualCycleTracking_v2._userInsomnia01,\n",
       " MenstrualCycleTracking_v2._userMigraine01,\n",
       " MenstrualCycleTracking_v2._userMigraine02,\n",
       " MenstrualCycleTracking_v2._userMigraine03,\n",
       " MenstrualCycleTracking_v2._userMigraine04,\n",
       " MenstrualCycleTracking_v2._userMigraine05,\n",
       " MenstrualCycleTracking_v2._userMigraine06,\n",
       " MenstrualCycleTracking_v2._userMigraine07,\n",
       " MenstrualCycleTracking_v2._userMigraine08,\n",
       " MenstrualCycleTracking_v2._userMigraine09,\n",
       " MenstrualCycleTracking_v2._userMigraine10,\n",
       " MenstrualCycleTracking_v2._userMigraine11,\n",
       " MenstrualCycleTracking_v2._userMigraine12,\n",
       " MenstrualCycleTracking_v2._userMigraine13,\n",
       " MenstrualCycleTracking_v2._userMigraine14,\n",
       " MenstrualCycleTracking_v2._userMigraine15,\n",
       " MenstrualCycleTracking_v2._userMigraine16,\n",
       " MenstrualCycleTracking_v2._userMigraine17,\n",
       " MenstrualCycleTracking_v2._userMigraine18,\n",
       " MenstrualCycleTracking_v2._userMigraine19,\n",
       " MenstrualCycleTracking_v2._userMigraine20,\n",
       " MenstrualCycleTracking_v2._userMigraine21,\n",
       " MenstrualCycleTracking_v2._userMigraine22,\n",
       " MenstrualCycleTracking_v2._userMigraine23,\n",
       " MenstrualCycleTracking_v2._userMigraine24]"
      ]
     },
     "execution_count": 11,
     "metadata": {},
     "output_type": "execute_result"
    }
   ],
   "source": [
    "list(onto.individuals())"
   ]
  },
  {
   "cell_type": "code",
   "execution_count": 12,
   "metadata": {},
   "outputs": [
    {
     "data": {
      "text/plain": [
       "[ç...hasMoodDate,\n",
       " ç...hasSymptomDate,\n",
       " MenstrualCycleTracking_v2.hasDiagnosisMood,\n",
       " MenstrualCycleTracking_v2.hasDiagnosisSymptom,\n",
       " MenstrualCycleTracking_v2.hasMood,\n",
       " MenstrualCycleTracking_v2.hasSymptom,\n",
       " MenstrualCycleTracking_v2.hasSymptomLevel,\n",
       " ontodebug.testCase,\n",
       " ontodebug.axiom,\n",
       " ontodebug.type,\n",
       " diagnosis.diagnosis_value,\n",
       " 22-rdf-syntax-ns.value]"
      ]
     },
     "execution_count": 12,
     "metadata": {},
     "output_type": "execute_result"
    }
   ],
   "source": [
    "list(onto.properties())"
   ]
  },
  {
   "cell_type": "code",
   "execution_count": 13,
   "metadata": {},
   "outputs": [
    {
     "data": {
      "text/plain": [
       "[MenstrualCycleTracking_v2.hasDiagnosisMood,\n",
       " MenstrualCycleTracking_v2.hasDiagnosisSymptom,\n",
       " MenstrualCycleTracking_v2.hasMood,\n",
       " MenstrualCycleTracking_v2.hasSymptom,\n",
       " MenstrualCycleTracking_v2.hasSymptomLevel]"
      ]
     },
     "execution_count": 13,
     "metadata": {},
     "output_type": "execute_result"
    }
   ],
   "source": [
    "list(onto.object_properties())"
   ]
  },
  {
   "cell_type": "code",
   "execution_count": 15,
   "metadata": {},
   "outputs": [
    {
     "data": {
      "text/plain": [
       "[]"
      ]
     },
     "execution_count": 15,
     "metadata": {},
     "output_type": "execute_result"
    }
   ],
   "source": [
    "list(onto.data_properties())"
   ]
  },
  {
   "cell_type": "code",
   "execution_count": 20,
   "metadata": {},
   "outputs": [
    {
     "data": {
      "text/plain": [
       "[]"
      ]
     },
     "execution_count": 20,
     "metadata": {},
     "output_type": "execute_result"
    }
   ],
   "source": [
    "list(onto.disjoints())"
   ]
  },
  {
   "cell_type": "code",
   "execution_count": 7,
   "metadata": {},
   "outputs": [
    {
     "data": {
      "text/plain": [
       "[AllDisjoint([MenstrualCycleTracking_v2.Angry, MenstrualCycleTracking_v2.Anxious, MenstrualCycleTracking_v2.Calm, MenstrualCycleTracking_v2.Depressed, MenstrualCycleTracking_v2.Emotional, MenstrualCycleTracking_v2.Energetic, MenstrualCycleTracking_v2.Excited, MenstrualCycleTracking_v2.Focused, MenstrualCycleTracking_v2.Frisky, MenstrualCycleTracking_v2.Frustated, MenstrualCycleTracking_v2.Happy, MenstrualCycleTracking_v2.InLove, MenstrualCycleTracking_v2.Irritable, MenstrualCycleTracking_v2.Moody]),\n",
       " AllDisjoint([MenstrualCycleTracking_v2.Acne, MenstrualCycleTracking_v2.Appetite, MenstrualCycleTracking_v2.Backache, MenstrualCycleTracking_v2.Bloating, MenstrualCycleTracking_v2.Constipation, MenstrualCycleTracking_v2.Cramps, MenstrualCycleTracking_v2.Diarrhea, MenstrualCycleTracking_v2.Dizziness, MenstrualCycleTracking_v2.Fatigue, MenstrualCycleTracking_v2.Headache, MenstrualCycleTracking_v2.HotFlashes, MenstrualCycleTracking_v2.Indigestion, MenstrualCycleTracking_v2.Insomnia, MenstrualCycleTracking_v2.Migraine, MenstrualCycleTracking_v2.Nausea, MenstrualCycleTracking_v2.PainDuringSex, MenstrualCycleTracking_v2.PelvicPain, MenstrualCycleTracking_v2.SexDrive, MenstrualCycleTracking_v2.Sick, MenstrualCycleTracking_v2.SoreBreasts, MenstrualCycleTracking_v2.VaginalPain]),\n",
       " AllDisjoint([MenstrualCycleTracking_v2.Mild, MenstrualCycleTracking_v2.Moderate]),\n",
       " AllDisjoint([MenstrualCycleTracking_v2.Mild, MenstrualCycleTracking_v2.Severe]),\n",
       " AllDisjoint([MenstrualCycleTracking_v2.Moderate, MenstrualCycleTracking_v2.Severe])]"
      ]
     },
     "execution_count": 7,
     "metadata": {},
     "output_type": "execute_result"
    }
   ],
   "source": [
    "list(onto.disjoint_classes())"
   ]
  },
  {
   "cell_type": "code",
   "execution_count": 14,
   "metadata": {},
   "outputs": [
    {
     "data": {
      "text/plain": [
       "[]"
      ]
     },
     "execution_count": 14,
     "metadata": {},
     "output_type": "execute_result"
    }
   ],
   "source": [
    "list(onto.variables())"
   ]
  },
  {
   "cell_type": "code",
   "execution_count": 15,
   "metadata": {},
   "outputs": [
    {
     "data": {
      "text/plain": [
       "[MenstrualCycleTracking_v2.hasSymptom.some(MenstrualCycleTracking_v2.Migraine),\n",
       " MenstrualCycleTracking_v2.hasSymptom.some(MenstrualCycleTracking_v2.Migraine),\n",
       " MenstrualCycleTracking_v2.hasSymptom.some(MenstrualCycleTracking_v2.Migraine),\n",
       " MenstrualCycleTracking_v2.hasSymptom.some(MenstrualCycleTracking_v2.Migraine),\n",
       " MenstrualCycleTracking_v2.hasSymptom.some(MenstrualCycleTracking_v2.Migraine),\n",
       " MenstrualCycleTracking_v2.hasSymptom.some(MenstrualCycleTracking_v2.Migraine),\n",
       " MenstrualCycleTracking_v2.hasSymptom.some(MenstrualCycleTracking_v2.Migraine),\n",
       " MenstrualCycleTracking_v2.hasSymptom.some(MenstrualCycleTracking_v2.Migraine),\n",
       " MenstrualCycleTracking_v2.hasSymptom.some(MenstrualCycleTracking_v2.Migraine),\n",
       " MenstrualCycleTracking_v2.hasSymptom.some(MenstrualCycleTracking_v2.Migraine),\n",
       " MenstrualCycleTracking_v2.hasSymptom.some(MenstrualCycleTracking_v2.Migraine),\n",
       " MenstrualCycleTracking_v2.hasSymptom.some(MenstrualCycleTracking_v2.Migraine),\n",
       " MenstrualCycleTracking_v2.hasSymptom.some(MenstrualCycleTracking_v2.Migraine),\n",
       " MenstrualCycleTracking_v2.hasSymptom.some(MenstrualCycleTracking_v2.Migraine),\n",
       " MenstrualCycleTracking_v2.hasSymptom.some(MenstrualCycleTracking_v2.Migraine),\n",
       " MenstrualCycleTracking_v2.hasSymptom.some(MenstrualCycleTracking_v2.Migraine),\n",
       " MenstrualCycleTracking_v2.hasSymptom.some(MenstrualCycleTracking_v2.Migraine),\n",
       " MenstrualCycleTracking_v2.hasSymptom.some(MenstrualCycleTracking_v2.Migraine),\n",
       " MenstrualCycleTracking_v2.hasSymptom.some(MenstrualCycleTracking_v2.Migraine),\n",
       " MenstrualCycleTracking_v2.hasSymptom.some(MenstrualCycleTracking_v2.Migraine),\n",
       " MenstrualCycleTracking_v2.hasSymptom.some(MenstrualCycleTracking_v2.Migraine),\n",
       " MenstrualCycleTracking_v2.hasSymptom.some(MenstrualCycleTracking_v2.Migraine),\n",
       " MenstrualCycleTracking_v2.hasSymptom.some(MenstrualCycleTracking_v2.Migraine),\n",
       " MenstrualCycleTracking_v2.hasSymptom.some(MenstrualCycleTracking_v2.Migraine),\n",
       " MenstrualCycleTracking_v2.hasSymptom.some(MenstrualCycleTracking_v2.Insomnia),\n",
       " MenstrualCycleTracking_v2.hasSymptom.some(MenstrualCycleTracking_v2.Acne),\n",
       " MenstrualCycleTracking_v2.hasSymptom.some(MenstrualCycleTracking_v2.Acne),\n",
       " MenstrualCycleTracking_v2.hasSymptom.some(MenstrualCycleTracking_v2.Acne),\n",
       " MenstrualCycleTracking_v2.hasSymptom.some(MenstrualCycleTracking_v2.Acne),\n",
       " MenstrualCycleTracking_v2.hasSymptom.some(MenstrualCycleTracking_v2.Acne),\n",
       " MenstrualCycleTracking_v2.hasSymptom.some(MenstrualCycleTracking_v2.Acne),\n",
       " MenstrualCycleTracking_v2.hasSymptom.some(MenstrualCycleTracking_v2.Acne),\n",
       " MenstrualCycleTracking_v2.hasSymptom.some(MenstrualCycleTracking_v2.Acne),\n",
       " MenstrualCycleTracking_v2.hasSymptom.some(MenstrualCycleTracking_v2.Acne),\n",
       " MenstrualCycleTracking_v2.hasSymptom.some(MenstrualCycleTracking_v2.Acne),\n",
       " MenstrualCycleTracking_v2.hasSymptom.some(MenstrualCycleTracking_v2.Acne),\n",
       " MenstrualCycleTracking_v2.hasSymptom.some(MenstrualCycleTracking_v2.Acne),\n",
       " MenstrualCycleTracking_v2.hasSymptom.some(MenstrualCycleTracking_v2.Acne),\n",
       " MenstrualCycleTracking_v2.hasSymptom.some(MenstrualCycleTracking_v2.Acne),\n",
       " MenstrualCycleTracking_v2.hasSymptom.some(MenstrualCycleTracking_v2.Migraine),\n",
       " MenstrualCycleTracking_v2.hasSymptom.some(MenstrualCycleTracking_v2.VaginalPain),\n",
       " MenstrualCycleTracking_v2.hasSymptom.some(MenstrualCycleTracking_v2.SoreBreasts),\n",
       " MenstrualCycleTracking_v2.hasSymptom.some(MenstrualCycleTracking_v2.Sick),\n",
       " MenstrualCycleTracking_v2.hasSymptom.some(MenstrualCycleTracking_v2.SexDrive),\n",
       " MenstrualCycleTracking_v2.hasSymptom.some(MenstrualCycleTracking_v2.PelvicPain),\n",
       " MenstrualCycleTracking_v2.hasSymptom.some(MenstrualCycleTracking_v2.PainDuringSex),\n",
       " MenstrualCycleTracking_v2.hasSymptom.some(MenstrualCycleTracking_v2.Nausea),\n",
       " MenstrualCycleTracking_v2.hasMood.some(MenstrualCycleTracking_v2.Moody),\n",
       " MenstrualCycleTracking_v2.hasSymptom.some(MenstrualCycleTracking_v2.Migraine),\n",
       " MenstrualCycleTracking_v2.hasMood.some(MenstrualCycleTracking_v2.Irritable),\n",
       " MenstrualCycleTracking_v2.hasSymptom.some(MenstrualCycleTracking_v2.Insomnia),\n",
       " MenstrualCycleTracking_v2.hasSymptom.some(MenstrualCycleTracking_v2.Indigestion),\n",
       " MenstrualCycleTracking_v2.hasMood.some(MenstrualCycleTracking_v2.InLove),\n",
       " MenstrualCycleTracking_v2.hasSymptom.some(MenstrualCycleTracking_v2.HotFlashes),\n",
       " MenstrualCycleTracking_v2.hasSymptom.some(MenstrualCycleTracking_v2.Headache),\n",
       " MenstrualCycleTracking_v2.hasMood.some(MenstrualCycleTracking_v2.Happy),\n",
       " MenstrualCycleTracking_v2.hasMood.some(MenstrualCycleTracking_v2.Frustated),\n",
       " MenstrualCycleTracking_v2.hasMood.some(MenstrualCycleTracking_v2.Frisky),\n",
       " MenstrualCycleTracking_v2.hasMood.some(MenstrualCycleTracking_v2.Focused),\n",
       " MenstrualCycleTracking_v2.hasSymptom.some(MenstrualCycleTracking_v2.Fatigue),\n",
       " MenstrualCycleTracking_v2.hasMood.some(MenstrualCycleTracking_v2.Excited),\n",
       " MenstrualCycleTracking_v2.hasMood.some(MenstrualCycleTracking_v2.Energetic),\n",
       " MenstrualCycleTracking_v2.hasMood.some(MenstrualCycleTracking_v2.Emotional),\n",
       " MenstrualCycleTracking_v2.hasSymptom.some(MenstrualCycleTracking_v2.Dizziness),\n",
       " MenstrualCycleTracking_v2.hasSymptom.some(MenstrualCycleTracking_v2.Diarrhea),\n",
       " MenstrualCycleTracking_v2.hasMood.some(MenstrualCycleTracking_v2.Emotional),\n",
       " MenstrualCycleTracking_v2.hasSymptom.some(MenstrualCycleTracking_v2.Cramps),\n",
       " MenstrualCycleTracking_v2.hasSymptom.some(MenstrualCycleTracking_v2.Constipation),\n",
       " MenstrualCycleTracking_v2.hasMood.some(MenstrualCycleTracking_v2.Calm),\n",
       " MenstrualCycleTracking_v2.hasSymptom.some(MenstrualCycleTracking_v2.Bloating),\n",
       " MenstrualCycleTracking_v2.hasSymptom.some(MenstrualCycleTracking_v2.Backache),\n",
       " MenstrualCycleTracking_v2.hasSymptom.some(MenstrualCycleTracking_v2.Appetite),\n",
       " MenstrualCycleTracking_v2.hasMood.some(MenstrualCycleTracking_v2.Anxious),\n",
       " MenstrualCycleTracking_v2.hasMood.some(MenstrualCycleTracking_v2.Angry),\n",
       " MenstrualCycleTracking_v2.hasSymptom.some(MenstrualCycleTracking_v2.Acne),\n",
       " MenstrualCycleTracking_v2.User & MenstrualCycleTracking_v2.hasSymptom.some(MenstrualCycleTracking_v2.Migraine),\n",
       " MenstrualCycleTracking_v2.User & MenstrualCycleTracking_v2.hasSymptom.some(MenstrualCycleTracking_v2.Migraine),\n",
       " MenstrualCycleTracking_v2.User & MenstrualCycleTracking_v2.hasSymptom.some(MenstrualCycleTracking_v2.Migraine),\n",
       " MenstrualCycleTracking_v2.User & MenstrualCycleTracking_v2.hasSymptom.some(MenstrualCycleTracking_v2.Migraine),\n",
       " MenstrualCycleTracking_v2.User & MenstrualCycleTracking_v2.hasSymptom.some(MenstrualCycleTracking_v2.Migraine),\n",
       " MenstrualCycleTracking_v2.User & MenstrualCycleTracking_v2.hasSymptom.some(MenstrualCycleTracking_v2.Migraine),\n",
       " MenstrualCycleTracking_v2.User & MenstrualCycleTracking_v2.hasSymptom.some(MenstrualCycleTracking_v2.Migraine),\n",
       " MenstrualCycleTracking_v2.User & MenstrualCycleTracking_v2.hasSymptom.some(MenstrualCycleTracking_v2.Migraine),\n",
       " MenstrualCycleTracking_v2.User & MenstrualCycleTracking_v2.hasSymptom.some(MenstrualCycleTracking_v2.Migraine),\n",
       " MenstrualCycleTracking_v2.User & MenstrualCycleTracking_v2.hasSymptom.some(MenstrualCycleTracking_v2.Migraine),\n",
       " MenstrualCycleTracking_v2.User & MenstrualCycleTracking_v2.hasSymptom.some(MenstrualCycleTracking_v2.Migraine),\n",
       " MenstrualCycleTracking_v2.User & MenstrualCycleTracking_v2.hasSymptom.some(MenstrualCycleTracking_v2.Migraine),\n",
       " MenstrualCycleTracking_v2.User & MenstrualCycleTracking_v2.hasSymptom.some(MenstrualCycleTracking_v2.Migraine),\n",
       " MenstrualCycleTracking_v2.User & MenstrualCycleTracking_v2.hasSymptom.some(MenstrualCycleTracking_v2.Migraine),\n",
       " MenstrualCycleTracking_v2.User & MenstrualCycleTracking_v2.hasSymptom.some(MenstrualCycleTracking_v2.Migraine),\n",
       " MenstrualCycleTracking_v2.User & MenstrualCycleTracking_v2.hasSymptom.some(MenstrualCycleTracking_v2.Migraine),\n",
       " MenstrualCycleTracking_v2.User & MenstrualCycleTracking_v2.hasSymptom.some(MenstrualCycleTracking_v2.Migraine),\n",
       " MenstrualCycleTracking_v2.User & MenstrualCycleTracking_v2.hasSymptom.some(MenstrualCycleTracking_v2.Migraine),\n",
       " MenstrualCycleTracking_v2.User & MenstrualCycleTracking_v2.hasSymptom.some(MenstrualCycleTracking_v2.Migraine),\n",
       " MenstrualCycleTracking_v2.User & MenstrualCycleTracking_v2.hasSymptom.some(MenstrualCycleTracking_v2.Migraine),\n",
       " MenstrualCycleTracking_v2.User & MenstrualCycleTracking_v2.hasSymptom.some(MenstrualCycleTracking_v2.Migraine),\n",
       " MenstrualCycleTracking_v2.User & MenstrualCycleTracking_v2.hasSymptom.some(MenstrualCycleTracking_v2.Migraine),\n",
       " MenstrualCycleTracking_v2.User & MenstrualCycleTracking_v2.hasSymptom.some(MenstrualCycleTracking_v2.Migraine),\n",
       " MenstrualCycleTracking_v2.User & MenstrualCycleTracking_v2.hasSymptom.some(MenstrualCycleTracking_v2.Migraine),\n",
       " MenstrualCycleTracking_v2.User & MenstrualCycleTracking_v2.hasSymptom.some(MenstrualCycleTracking_v2.Insomnia),\n",
       " MenstrualCycleTracking_v2.User & MenstrualCycleTracking_v2.hasSymptom.some(MenstrualCycleTracking_v2.Acne),\n",
       " MenstrualCycleTracking_v2.User & MenstrualCycleTracking_v2.hasSymptom.some(MenstrualCycleTracking_v2.Acne),\n",
       " MenstrualCycleTracking_v2.User & MenstrualCycleTracking_v2.hasSymptom.some(MenstrualCycleTracking_v2.Acne),\n",
       " MenstrualCycleTracking_v2.User & MenstrualCycleTracking_v2.hasSymptom.some(MenstrualCycleTracking_v2.Acne),\n",
       " MenstrualCycleTracking_v2.User & MenstrualCycleTracking_v2.hasSymptom.some(MenstrualCycleTracking_v2.Acne),\n",
       " MenstrualCycleTracking_v2.User & MenstrualCycleTracking_v2.hasSymptom.some(MenstrualCycleTracking_v2.Acne),\n",
       " MenstrualCycleTracking_v2.User & MenstrualCycleTracking_v2.hasSymptom.some(MenstrualCycleTracking_v2.Acne),\n",
       " MenstrualCycleTracking_v2.User & MenstrualCycleTracking_v2.hasSymptom.some(MenstrualCycleTracking_v2.Acne),\n",
       " MenstrualCycleTracking_v2.User & MenstrualCycleTracking_v2.hasSymptom.some(MenstrualCycleTracking_v2.Acne),\n",
       " MenstrualCycleTracking_v2.User & MenstrualCycleTracking_v2.hasSymptom.some(MenstrualCycleTracking_v2.Acne),\n",
       " MenstrualCycleTracking_v2.User & MenstrualCycleTracking_v2.hasSymptom.some(MenstrualCycleTracking_v2.Acne),\n",
       " MenstrualCycleTracking_v2.User & MenstrualCycleTracking_v2.hasSymptom.some(MenstrualCycleTracking_v2.Acne),\n",
       " MenstrualCycleTracking_v2.User & MenstrualCycleTracking_v2.hasSymptom.some(MenstrualCycleTracking_v2.Acne),\n",
       " MenstrualCycleTracking_v2.User & MenstrualCycleTracking_v2.hasSymptom.some(MenstrualCycleTracking_v2.Acne),\n",
       " MenstrualCycleTracking_v2.User & MenstrualCycleTracking_v2.hasSymptom.some(MenstrualCycleTracking_v2.Migraine),\n",
       " MenstrualCycleTracking_v2.User & MenstrualCycleTracking_v2.hasSymptom.some(MenstrualCycleTracking_v2.VaginalPain),\n",
       " MenstrualCycleTracking_v2.User & MenstrualCycleTracking_v2.hasSymptom.some(MenstrualCycleTracking_v2.SoreBreasts),\n",
       " MenstrualCycleTracking_v2.User & MenstrualCycleTracking_v2.hasSymptom.some(MenstrualCycleTracking_v2.Sick),\n",
       " MenstrualCycleTracking_v2.User & MenstrualCycleTracking_v2.hasSymptom.some(MenstrualCycleTracking_v2.SexDrive),\n",
       " MenstrualCycleTracking_v2.User & MenstrualCycleTracking_v2.hasSymptom.some(MenstrualCycleTracking_v2.PelvicPain),\n",
       " MenstrualCycleTracking_v2.User & MenstrualCycleTracking_v2.hasSymptom.some(MenstrualCycleTracking_v2.PainDuringSex),\n",
       " MenstrualCycleTracking_v2.User & MenstrualCycleTracking_v2.hasSymptom.some(MenstrualCycleTracking_v2.Nausea),\n",
       " MenstrualCycleTracking_v2.User & MenstrualCycleTracking_v2.hasMood.some(MenstrualCycleTracking_v2.Moody),\n",
       " MenstrualCycleTracking_v2.User & MenstrualCycleTracking_v2.hasSymptom.some(MenstrualCycleTracking_v2.Migraine),\n",
       " MenstrualCycleTracking_v2.User & MenstrualCycleTracking_v2.hasMood.some(MenstrualCycleTracking_v2.Irritable),\n",
       " MenstrualCycleTracking_v2.User & MenstrualCycleTracking_v2.hasSymptom.some(MenstrualCycleTracking_v2.Insomnia),\n",
       " MenstrualCycleTracking_v2.User & MenstrualCycleTracking_v2.hasSymptom.some(MenstrualCycleTracking_v2.Indigestion),\n",
       " MenstrualCycleTracking_v2.User & MenstrualCycleTracking_v2.hasMood.some(MenstrualCycleTracking_v2.InLove),\n",
       " MenstrualCycleTracking_v2.User & MenstrualCycleTracking_v2.hasSymptom.some(MenstrualCycleTracking_v2.HotFlashes),\n",
       " MenstrualCycleTracking_v2.User & MenstrualCycleTracking_v2.hasSymptom.some(MenstrualCycleTracking_v2.Headache),\n",
       " MenstrualCycleTracking_v2.User & MenstrualCycleTracking_v2.hasMood.some(MenstrualCycleTracking_v2.Happy),\n",
       " MenstrualCycleTracking_v2.User & MenstrualCycleTracking_v2.hasMood.some(MenstrualCycleTracking_v2.Frustated),\n",
       " MenstrualCycleTracking_v2.User & MenstrualCycleTracking_v2.hasMood.some(MenstrualCycleTracking_v2.Frisky),\n",
       " MenstrualCycleTracking_v2.User & MenstrualCycleTracking_v2.hasMood.some(MenstrualCycleTracking_v2.Focused),\n",
       " MenstrualCycleTracking_v2.User & MenstrualCycleTracking_v2.hasSymptom.some(MenstrualCycleTracking_v2.Fatigue),\n",
       " MenstrualCycleTracking_v2.User & MenstrualCycleTracking_v2.hasMood.some(MenstrualCycleTracking_v2.Excited),\n",
       " MenstrualCycleTracking_v2.User & MenstrualCycleTracking_v2.hasMood.some(MenstrualCycleTracking_v2.Energetic),\n",
       " MenstrualCycleTracking_v2.User & MenstrualCycleTracking_v2.hasMood.some(MenstrualCycleTracking_v2.Emotional),\n",
       " MenstrualCycleTracking_v2.User & MenstrualCycleTracking_v2.hasSymptom.some(MenstrualCycleTracking_v2.Dizziness),\n",
       " MenstrualCycleTracking_v2.User & MenstrualCycleTracking_v2.hasSymptom.some(MenstrualCycleTracking_v2.Diarrhea),\n",
       " MenstrualCycleTracking_v2.User & MenstrualCycleTracking_v2.hasMood.some(MenstrualCycleTracking_v2.Emotional),\n",
       " MenstrualCycleTracking_v2.User & MenstrualCycleTracking_v2.hasSymptom.some(MenstrualCycleTracking_v2.Cramps),\n",
       " MenstrualCycleTracking_v2.User & MenstrualCycleTracking_v2.hasSymptom.some(MenstrualCycleTracking_v2.Constipation),\n",
       " MenstrualCycleTracking_v2.User & MenstrualCycleTracking_v2.hasMood.some(MenstrualCycleTracking_v2.Calm),\n",
       " MenstrualCycleTracking_v2.User & MenstrualCycleTracking_v2.hasSymptom.some(MenstrualCycleTracking_v2.Bloating),\n",
       " MenstrualCycleTracking_v2.User & MenstrualCycleTracking_v2.hasSymptom.some(MenstrualCycleTracking_v2.Backache),\n",
       " MenstrualCycleTracking_v2.User & MenstrualCycleTracking_v2.hasSymptom.some(MenstrualCycleTracking_v2.Appetite),\n",
       " MenstrualCycleTracking_v2.User & MenstrualCycleTracking_v2.hasMood.some(MenstrualCycleTracking_v2.Anxious),\n",
       " MenstrualCycleTracking_v2.User & MenstrualCycleTracking_v2.hasMood.some(MenstrualCycleTracking_v2.Angry),\n",
       " MenstrualCycleTracking_v2.User & MenstrualCycleTracking_v2.hasSymptom.some(MenstrualCycleTracking_v2.Acne),\n",
       " MenstrualCycleTracking_v2.Mild | MenstrualCycleTracking_v2.Moderate | MenstrualCycleTracking_v2.Severe,\n",
       " MenstrualCycleTracking_v2.Acne | MenstrualCycleTracking_v2.Appetite | MenstrualCycleTracking_v2.Backache | MenstrualCycleTracking_v2.Bloating | MenstrualCycleTracking_v2.Constipation | MenstrualCycleTracking_v2.Cramps | MenstrualCycleTracking_v2.Diarrhea | MenstrualCycleTracking_v2.Dizziness | MenstrualCycleTracking_v2.Fatigue | MenstrualCycleTracking_v2.Headache | MenstrualCycleTracking_v2.HotFlashes | MenstrualCycleTracking_v2.Indigestion | MenstrualCycleTracking_v2.Insomnia | MenstrualCycleTracking_v2.Migraine | MenstrualCycleTracking_v2.Nausea | MenstrualCycleTracking_v2.PainDuringSex | MenstrualCycleTracking_v2.PelvicPain | MenstrualCycleTracking_v2.SexDrive | MenstrualCycleTracking_v2.Sick | MenstrualCycleTracking_v2.SoreBreasts | MenstrualCycleTracking_v2.VaginalPain,\n",
       " MenstrualCycleTracking_v2.Angry | MenstrualCycleTracking_v2.Anxious | MenstrualCycleTracking_v2.Calm | MenstrualCycleTracking_v2.Depressed | MenstrualCycleTracking_v2.Emotional | MenstrualCycleTracking_v2.Energetic | MenstrualCycleTracking_v2.Excited | MenstrualCycleTracking_v2.Focused | MenstrualCycleTracking_v2.Frisky | MenstrualCycleTracking_v2.Frustated | MenstrualCycleTracking_v2.Happy | MenstrualCycleTracking_v2.InLove | MenstrualCycleTracking_v2.Irritable | MenstrualCycleTracking_v2.Moody]"
      ]
     },
     "execution_count": 15,
     "metadata": {},
     "output_type": "execute_result"
    }
   ],
   "source": [
    "list(onto.general_axioms())"
   ]
  },
  {
   "cell_type": "code",
   "execution_count": 16,
   "metadata": {},
   "outputs": [
    {
     "data": {
      "text/plain": [
       "[]"
      ]
     },
     "execution_count": 16,
     "metadata": {},
     "output_type": "execute_result"
    }
   ],
   "source": [
    "list(onto.rules())"
   ]
  },
  {
   "cell_type": "code",
   "execution_count": 18,
   "metadata": {},
   "outputs": [
    {
     "data": {
      "text/plain": [
       "[MenstrualCycleTracking_v2.UserAnxious,\n",
       " MenstrualCycleTracking_v2.UserAppetite,\n",
       " MenstrualCycleTracking_v2.UserBackache,\n",
       " MenstrualCycleTracking_v2.UserBloating,\n",
       " MenstrualCycleTracking_v2.UserConstipation,\n",
       " MenstrualCycleTracking_v2.UserCramps,\n",
       " MenstrualCycleTracking_v2.UserDepressed,\n",
       " MenstrualCycleTracking_v2.UserDiarrhea,\n",
       " MenstrualCycleTracking_v2.UserDizziness,\n",
       " MenstrualCycleTracking_v2.UserEmotional,\n",
       " MenstrualCycleTracking_v2.UserEnergetic,\n",
       " MenstrualCycleTracking_v2.UserExcited,\n",
       " MenstrualCycleTracking_v2.UserFatigue,\n",
       " MenstrualCycleTracking_v2.UserFocused,\n",
       " MenstrualCycleTracking_v2.UserFrisky,\n",
       " MenstrualCycleTracking_v2.UserFrustated,\n",
       " MenstrualCycleTracking_v2.UserHappy,\n",
       " MenstrualCycleTracking_v2.UserHeadache,\n",
       " MenstrualCycleTracking_v2.UserHotFlashes,\n",
       " MenstrualCycleTracking_v2.UserInLove,\n",
       " MenstrualCycleTracking_v2.UserIndigestion,\n",
       " MenstrualCycleTracking_v2.UserIrritable,\n",
       " MenstrualCycleTracking_v2.UserMoody,\n",
       " MenstrualCycleTracking_v2.UserPainDuringSex,\n",
       " MenstrualCycleTracking_v2.UserPelvicPain,\n",
       " MenstrualCycleTracking_v2.UserSexDrive,\n",
       " MenstrualCycleTracking_v2.UserSick,\n",
       " MenstrualCycleTracking_v2.UserSoreBreasts,\n",
       " MenstrualCycleTracking_v2.UserVaginalPain]"
      ]
     },
     "execution_count": 18,
     "metadata": {},
     "output_type": "execute_result"
    }
   ],
   "source": [
    "list(onto.User.subclasses())"
   ]
  },
  {
   "cell_type": "code",
   "execution_count": 22,
   "metadata": {},
   "outputs": [
    {
     "data": {
      "text/plain": [
       "[MenstrualCycleTracking.eva]"
      ]
     },
     "execution_count": 22,
     "metadata": {},
     "output_type": "execute_result"
    }
   ],
   "source": [
    "list(onto.User.instances())"
   ]
  },
  {
   "cell_type": "code",
   "execution_count": 9,
   "metadata": {},
   "outputs": [
    {
     "data": {
      "text/plain": [
       "[]"
      ]
     },
     "execution_count": 9,
     "metadata": {},
     "output_type": "execute_result"
    }
   ],
   "source": [
    "onto.User.equivalent_to"
   ]
  },
  {
   "cell_type": "code",
   "execution_count": 19,
   "metadata": {},
   "outputs": [
    {
     "data": {
      "text/plain": [
       "[MenstrualCycleTracking_v2.hasSymptom.some(MenstrualCycleTracking_v2.Migraine),\n",
       " MenstrualCycleTracking_v2.hasSymptom.some(MenstrualCycleTracking_v2.Migraine),\n",
       " MenstrualCycleTracking_v2.hasSymptom.some(MenstrualCycleTracking_v2.Migraine),\n",
       " MenstrualCycleTracking_v2.hasSymptom.some(MenstrualCycleTracking_v2.Migraine),\n",
       " MenstrualCycleTracking_v2.hasSymptom.some(MenstrualCycleTracking_v2.Migraine),\n",
       " MenstrualCycleTracking_v2.hasSymptom.some(MenstrualCycleTracking_v2.Migraine),\n",
       " MenstrualCycleTracking_v2.hasSymptom.some(MenstrualCycleTracking_v2.Migraine),\n",
       " MenstrualCycleTracking_v2.hasSymptom.some(MenstrualCycleTracking_v2.Migraine),\n",
       " MenstrualCycleTracking_v2.hasSymptom.some(MenstrualCycleTracking_v2.Migraine),\n",
       " MenstrualCycleTracking_v2.hasSymptom.some(MenstrualCycleTracking_v2.Migraine),\n",
       " MenstrualCycleTracking_v2.hasSymptom.some(MenstrualCycleTracking_v2.Migraine),\n",
       " MenstrualCycleTracking_v2.hasSymptom.some(MenstrualCycleTracking_v2.Migraine),\n",
       " MenstrualCycleTracking_v2.hasSymptom.some(MenstrualCycleTracking_v2.Migraine),\n",
       " MenstrualCycleTracking_v2.hasSymptom.some(MenstrualCycleTracking_v2.Migraine),\n",
       " MenstrualCycleTracking_v2.hasSymptom.some(MenstrualCycleTracking_v2.Migraine),\n",
       " MenstrualCycleTracking_v2.hasSymptom.some(MenstrualCycleTracking_v2.Migraine),\n",
       " MenstrualCycleTracking_v2.hasSymptom.some(MenstrualCycleTracking_v2.Migraine),\n",
       " MenstrualCycleTracking_v2.hasSymptom.some(MenstrualCycleTracking_v2.Migraine),\n",
       " MenstrualCycleTracking_v2.hasSymptom.some(MenstrualCycleTracking_v2.Migraine),\n",
       " MenstrualCycleTracking_v2.hasSymptom.some(MenstrualCycleTracking_v2.Migraine),\n",
       " MenstrualCycleTracking_v2.hasSymptom.some(MenstrualCycleTracking_v2.Migraine),\n",
       " MenstrualCycleTracking_v2.hasSymptom.some(MenstrualCycleTracking_v2.Migraine),\n",
       " MenstrualCycleTracking_v2.hasSymptom.some(MenstrualCycleTracking_v2.Migraine),\n",
       " MenstrualCycleTracking_v2.hasSymptom.some(MenstrualCycleTracking_v2.Migraine),\n",
       " MenstrualCycleTracking_v2.hasSymptom.some(MenstrualCycleTracking_v2.Insomnia),\n",
       " MenstrualCycleTracking_v2.hasSymptom.some(MenstrualCycleTracking_v2.Acne),\n",
       " MenstrualCycleTracking_v2.hasSymptom.some(MenstrualCycleTracking_v2.Acne),\n",
       " MenstrualCycleTracking_v2.hasSymptom.some(MenstrualCycleTracking_v2.Acne),\n",
       " MenstrualCycleTracking_v2.hasSymptom.some(MenstrualCycleTracking_v2.Acne),\n",
       " MenstrualCycleTracking_v2.hasSymptom.some(MenstrualCycleTracking_v2.Acne),\n",
       " MenstrualCycleTracking_v2.hasSymptom.some(MenstrualCycleTracking_v2.Acne),\n",
       " MenstrualCycleTracking_v2.hasSymptom.some(MenstrualCycleTracking_v2.Acne),\n",
       " MenstrualCycleTracking_v2.hasSymptom.some(MenstrualCycleTracking_v2.Acne),\n",
       " MenstrualCycleTracking_v2.hasSymptom.some(MenstrualCycleTracking_v2.Acne),\n",
       " MenstrualCycleTracking_v2.hasSymptom.some(MenstrualCycleTracking_v2.Acne),\n",
       " MenstrualCycleTracking_v2.hasSymptom.some(MenstrualCycleTracking_v2.Acne),\n",
       " MenstrualCycleTracking_v2.hasSymptom.some(MenstrualCycleTracking_v2.Acne),\n",
       " MenstrualCycleTracking_v2.hasSymptom.some(MenstrualCycleTracking_v2.Acne),\n",
       " MenstrualCycleTracking_v2.hasSymptom.some(MenstrualCycleTracking_v2.Acne),\n",
       " MenstrualCycleTracking_v2.hasSymptom.some(MenstrualCycleTracking_v2.Migraine),\n",
       " MenstrualCycleTracking_v2.hasSymptom.some(MenstrualCycleTracking_v2.VaginalPain),\n",
       " MenstrualCycleTracking_v2.hasSymptom.some(MenstrualCycleTracking_v2.SoreBreasts),\n",
       " MenstrualCycleTracking_v2.hasSymptom.some(MenstrualCycleTracking_v2.Sick),\n",
       " MenstrualCycleTracking_v2.hasSymptom.some(MenstrualCycleTracking_v2.SexDrive),\n",
       " MenstrualCycleTracking_v2.hasSymptom.some(MenstrualCycleTracking_v2.PelvicPain),\n",
       " MenstrualCycleTracking_v2.hasSymptom.some(MenstrualCycleTracking_v2.PainDuringSex),\n",
       " MenstrualCycleTracking_v2.hasSymptom.some(MenstrualCycleTracking_v2.Nausea),\n",
       " MenstrualCycleTracking_v2.hasMood.some(MenstrualCycleTracking_v2.Moody),\n",
       " MenstrualCycleTracking_v2.hasSymptom.some(MenstrualCycleTracking_v2.Migraine),\n",
       " MenstrualCycleTracking_v2.hasMood.some(MenstrualCycleTracking_v2.Irritable),\n",
       " MenstrualCycleTracking_v2.hasSymptom.some(MenstrualCycleTracking_v2.Insomnia),\n",
       " MenstrualCycleTracking_v2.hasSymptom.some(MenstrualCycleTracking_v2.Indigestion),\n",
       " MenstrualCycleTracking_v2.hasMood.some(MenstrualCycleTracking_v2.InLove),\n",
       " MenstrualCycleTracking_v2.hasSymptom.some(MenstrualCycleTracking_v2.HotFlashes),\n",
       " MenstrualCycleTracking_v2.hasSymptom.some(MenstrualCycleTracking_v2.Headache),\n",
       " MenstrualCycleTracking_v2.hasMood.some(MenstrualCycleTracking_v2.Happy),\n",
       " MenstrualCycleTracking_v2.hasMood.some(MenstrualCycleTracking_v2.Frustated),\n",
       " MenstrualCycleTracking_v2.hasMood.some(MenstrualCycleTracking_v2.Frisky),\n",
       " MenstrualCycleTracking_v2.hasMood.some(MenstrualCycleTracking_v2.Focused),\n",
       " MenstrualCycleTracking_v2.hasSymptom.some(MenstrualCycleTracking_v2.Fatigue),\n",
       " MenstrualCycleTracking_v2.hasMood.some(MenstrualCycleTracking_v2.Excited),\n",
       " MenstrualCycleTracking_v2.hasMood.some(MenstrualCycleTracking_v2.Energetic),\n",
       " MenstrualCycleTracking_v2.hasMood.some(MenstrualCycleTracking_v2.Emotional),\n",
       " MenstrualCycleTracking_v2.hasSymptom.some(MenstrualCycleTracking_v2.Dizziness),\n",
       " MenstrualCycleTracking_v2.hasSymptom.some(MenstrualCycleTracking_v2.Diarrhea),\n",
       " MenstrualCycleTracking_v2.hasMood.some(MenstrualCycleTracking_v2.Emotional),\n",
       " MenstrualCycleTracking_v2.hasSymptom.some(MenstrualCycleTracking_v2.Cramps),\n",
       " MenstrualCycleTracking_v2.hasSymptom.some(MenstrualCycleTracking_v2.Constipation),\n",
       " MenstrualCycleTracking_v2.hasMood.some(MenstrualCycleTracking_v2.Calm),\n",
       " MenstrualCycleTracking_v2.hasSymptom.some(MenstrualCycleTracking_v2.Bloating),\n",
       " MenstrualCycleTracking_v2.hasSymptom.some(MenstrualCycleTracking_v2.Backache),\n",
       " MenstrualCycleTracking_v2.hasSymptom.some(MenstrualCycleTracking_v2.Appetite),\n",
       " MenstrualCycleTracking_v2.hasMood.some(MenstrualCycleTracking_v2.Anxious),\n",
       " MenstrualCycleTracking_v2.hasMood.some(MenstrualCycleTracking_v2.Angry),\n",
       " MenstrualCycleTracking_v2.hasSymptom.some(MenstrualCycleTracking_v2.Acne),\n",
       " MenstrualCycleTracking_v2.User & MenstrualCycleTracking_v2.hasSymptom.some(MenstrualCycleTracking_v2.Migraine),\n",
       " MenstrualCycleTracking_v2.User & MenstrualCycleTracking_v2.hasSymptom.some(MenstrualCycleTracking_v2.Migraine),\n",
       " MenstrualCycleTracking_v2.User & MenstrualCycleTracking_v2.hasSymptom.some(MenstrualCycleTracking_v2.Migraine),\n",
       " MenstrualCycleTracking_v2.User & MenstrualCycleTracking_v2.hasSymptom.some(MenstrualCycleTracking_v2.Migraine),\n",
       " MenstrualCycleTracking_v2.User & MenstrualCycleTracking_v2.hasSymptom.some(MenstrualCycleTracking_v2.Migraine),\n",
       " MenstrualCycleTracking_v2.User & MenstrualCycleTracking_v2.hasSymptom.some(MenstrualCycleTracking_v2.Migraine),\n",
       " MenstrualCycleTracking_v2.User & MenstrualCycleTracking_v2.hasSymptom.some(MenstrualCycleTracking_v2.Migraine),\n",
       " MenstrualCycleTracking_v2.User & MenstrualCycleTracking_v2.hasSymptom.some(MenstrualCycleTracking_v2.Migraine),\n",
       " MenstrualCycleTracking_v2.User & MenstrualCycleTracking_v2.hasSymptom.some(MenstrualCycleTracking_v2.Migraine),\n",
       " MenstrualCycleTracking_v2.User & MenstrualCycleTracking_v2.hasSymptom.some(MenstrualCycleTracking_v2.Migraine),\n",
       " MenstrualCycleTracking_v2.User & MenstrualCycleTracking_v2.hasSymptom.some(MenstrualCycleTracking_v2.Migraine),\n",
       " MenstrualCycleTracking_v2.User & MenstrualCycleTracking_v2.hasSymptom.some(MenstrualCycleTracking_v2.Migraine),\n",
       " MenstrualCycleTracking_v2.User & MenstrualCycleTracking_v2.hasSymptom.some(MenstrualCycleTracking_v2.Migraine),\n",
       " MenstrualCycleTracking_v2.User & MenstrualCycleTracking_v2.hasSymptom.some(MenstrualCycleTracking_v2.Migraine),\n",
       " MenstrualCycleTracking_v2.User & MenstrualCycleTracking_v2.hasSymptom.some(MenstrualCycleTracking_v2.Migraine),\n",
       " MenstrualCycleTracking_v2.User & MenstrualCycleTracking_v2.hasSymptom.some(MenstrualCycleTracking_v2.Migraine),\n",
       " MenstrualCycleTracking_v2.User & MenstrualCycleTracking_v2.hasSymptom.some(MenstrualCycleTracking_v2.Migraine),\n",
       " MenstrualCycleTracking_v2.User & MenstrualCycleTracking_v2.hasSymptom.some(MenstrualCycleTracking_v2.Migraine),\n",
       " MenstrualCycleTracking_v2.User & MenstrualCycleTracking_v2.hasSymptom.some(MenstrualCycleTracking_v2.Migraine),\n",
       " MenstrualCycleTracking_v2.User & MenstrualCycleTracking_v2.hasSymptom.some(MenstrualCycleTracking_v2.Migraine),\n",
       " MenstrualCycleTracking_v2.User & MenstrualCycleTracking_v2.hasSymptom.some(MenstrualCycleTracking_v2.Migraine),\n",
       " MenstrualCycleTracking_v2.User & MenstrualCycleTracking_v2.hasSymptom.some(MenstrualCycleTracking_v2.Migraine),\n",
       " MenstrualCycleTracking_v2.User & MenstrualCycleTracking_v2.hasSymptom.some(MenstrualCycleTracking_v2.Migraine),\n",
       " MenstrualCycleTracking_v2.User & MenstrualCycleTracking_v2.hasSymptom.some(MenstrualCycleTracking_v2.Migraine),\n",
       " MenstrualCycleTracking_v2.User & MenstrualCycleTracking_v2.hasSymptom.some(MenstrualCycleTracking_v2.Insomnia),\n",
       " MenstrualCycleTracking_v2.User & MenstrualCycleTracking_v2.hasSymptom.some(MenstrualCycleTracking_v2.Acne),\n",
       " MenstrualCycleTracking_v2.User & MenstrualCycleTracking_v2.hasSymptom.some(MenstrualCycleTracking_v2.Acne),\n",
       " MenstrualCycleTracking_v2.User & MenstrualCycleTracking_v2.hasSymptom.some(MenstrualCycleTracking_v2.Acne),\n",
       " MenstrualCycleTracking_v2.User & MenstrualCycleTracking_v2.hasSymptom.some(MenstrualCycleTracking_v2.Acne),\n",
       " MenstrualCycleTracking_v2.User & MenstrualCycleTracking_v2.hasSymptom.some(MenstrualCycleTracking_v2.Acne),\n",
       " MenstrualCycleTracking_v2.User & MenstrualCycleTracking_v2.hasSymptom.some(MenstrualCycleTracking_v2.Acne),\n",
       " MenstrualCycleTracking_v2.User & MenstrualCycleTracking_v2.hasSymptom.some(MenstrualCycleTracking_v2.Acne),\n",
       " MenstrualCycleTracking_v2.User & MenstrualCycleTracking_v2.hasSymptom.some(MenstrualCycleTracking_v2.Acne),\n",
       " MenstrualCycleTracking_v2.User & MenstrualCycleTracking_v2.hasSymptom.some(MenstrualCycleTracking_v2.Acne),\n",
       " MenstrualCycleTracking_v2.User & MenstrualCycleTracking_v2.hasSymptom.some(MenstrualCycleTracking_v2.Acne),\n",
       " MenstrualCycleTracking_v2.User & MenstrualCycleTracking_v2.hasSymptom.some(MenstrualCycleTracking_v2.Acne),\n",
       " MenstrualCycleTracking_v2.User & MenstrualCycleTracking_v2.hasSymptom.some(MenstrualCycleTracking_v2.Acne),\n",
       " MenstrualCycleTracking_v2.User & MenstrualCycleTracking_v2.hasSymptom.some(MenstrualCycleTracking_v2.Acne),\n",
       " MenstrualCycleTracking_v2.User & MenstrualCycleTracking_v2.hasSymptom.some(MenstrualCycleTracking_v2.Acne),\n",
       " MenstrualCycleTracking_v2.User & MenstrualCycleTracking_v2.hasSymptom.some(MenstrualCycleTracking_v2.Migraine),\n",
       " MenstrualCycleTracking_v2.User & MenstrualCycleTracking_v2.hasSymptom.some(MenstrualCycleTracking_v2.VaginalPain),\n",
       " MenstrualCycleTracking_v2.User & MenstrualCycleTracking_v2.hasSymptom.some(MenstrualCycleTracking_v2.SoreBreasts),\n",
       " MenstrualCycleTracking_v2.User & MenstrualCycleTracking_v2.hasSymptom.some(MenstrualCycleTracking_v2.Sick),\n",
       " MenstrualCycleTracking_v2.User & MenstrualCycleTracking_v2.hasSymptom.some(MenstrualCycleTracking_v2.SexDrive),\n",
       " MenstrualCycleTracking_v2.User & MenstrualCycleTracking_v2.hasSymptom.some(MenstrualCycleTracking_v2.PelvicPain),\n",
       " MenstrualCycleTracking_v2.User & MenstrualCycleTracking_v2.hasSymptom.some(MenstrualCycleTracking_v2.PainDuringSex),\n",
       " MenstrualCycleTracking_v2.User & MenstrualCycleTracking_v2.hasSymptom.some(MenstrualCycleTracking_v2.Nausea),\n",
       " MenstrualCycleTracking_v2.User & MenstrualCycleTracking_v2.hasMood.some(MenstrualCycleTracking_v2.Moody),\n",
       " MenstrualCycleTracking_v2.User & MenstrualCycleTracking_v2.hasSymptom.some(MenstrualCycleTracking_v2.Migraine),\n",
       " MenstrualCycleTracking_v2.User & MenstrualCycleTracking_v2.hasMood.some(MenstrualCycleTracking_v2.Irritable),\n",
       " MenstrualCycleTracking_v2.User & MenstrualCycleTracking_v2.hasSymptom.some(MenstrualCycleTracking_v2.Insomnia),\n",
       " MenstrualCycleTracking_v2.User & MenstrualCycleTracking_v2.hasSymptom.some(MenstrualCycleTracking_v2.Indigestion),\n",
       " MenstrualCycleTracking_v2.User & MenstrualCycleTracking_v2.hasMood.some(MenstrualCycleTracking_v2.InLove),\n",
       " MenstrualCycleTracking_v2.User & MenstrualCycleTracking_v2.hasSymptom.some(MenstrualCycleTracking_v2.HotFlashes),\n",
       " MenstrualCycleTracking_v2.User & MenstrualCycleTracking_v2.hasSymptom.some(MenstrualCycleTracking_v2.Headache),\n",
       " MenstrualCycleTracking_v2.User & MenstrualCycleTracking_v2.hasMood.some(MenstrualCycleTracking_v2.Happy),\n",
       " MenstrualCycleTracking_v2.User & MenstrualCycleTracking_v2.hasMood.some(MenstrualCycleTracking_v2.Frustated),\n",
       " MenstrualCycleTracking_v2.User & MenstrualCycleTracking_v2.hasMood.some(MenstrualCycleTracking_v2.Frisky),\n",
       " MenstrualCycleTracking_v2.User & MenstrualCycleTracking_v2.hasMood.some(MenstrualCycleTracking_v2.Focused),\n",
       " MenstrualCycleTracking_v2.User & MenstrualCycleTracking_v2.hasSymptom.some(MenstrualCycleTracking_v2.Fatigue),\n",
       " MenstrualCycleTracking_v2.User & MenstrualCycleTracking_v2.hasMood.some(MenstrualCycleTracking_v2.Excited),\n",
       " MenstrualCycleTracking_v2.User & MenstrualCycleTracking_v2.hasMood.some(MenstrualCycleTracking_v2.Energetic),\n",
       " MenstrualCycleTracking_v2.User & MenstrualCycleTracking_v2.hasMood.some(MenstrualCycleTracking_v2.Emotional),\n",
       " MenstrualCycleTracking_v2.User & MenstrualCycleTracking_v2.hasSymptom.some(MenstrualCycleTracking_v2.Dizziness),\n",
       " MenstrualCycleTracking_v2.User & MenstrualCycleTracking_v2.hasSymptom.some(MenstrualCycleTracking_v2.Diarrhea),\n",
       " MenstrualCycleTracking_v2.User & MenstrualCycleTracking_v2.hasMood.some(MenstrualCycleTracking_v2.Emotional),\n",
       " MenstrualCycleTracking_v2.User & MenstrualCycleTracking_v2.hasSymptom.some(MenstrualCycleTracking_v2.Cramps),\n",
       " MenstrualCycleTracking_v2.User & MenstrualCycleTracking_v2.hasSymptom.some(MenstrualCycleTracking_v2.Constipation),\n",
       " MenstrualCycleTracking_v2.User & MenstrualCycleTracking_v2.hasMood.some(MenstrualCycleTracking_v2.Calm),\n",
       " MenstrualCycleTracking_v2.User & MenstrualCycleTracking_v2.hasSymptom.some(MenstrualCycleTracking_v2.Bloating),\n",
       " MenstrualCycleTracking_v2.User & MenstrualCycleTracking_v2.hasSymptom.some(MenstrualCycleTracking_v2.Backache),\n",
       " MenstrualCycleTracking_v2.User & MenstrualCycleTracking_v2.hasSymptom.some(MenstrualCycleTracking_v2.Appetite),\n",
       " MenstrualCycleTracking_v2.User & MenstrualCycleTracking_v2.hasMood.some(MenstrualCycleTracking_v2.Anxious),\n",
       " MenstrualCycleTracking_v2.User & MenstrualCycleTracking_v2.hasMood.some(MenstrualCycleTracking_v2.Angry),\n",
       " MenstrualCycleTracking_v2.User & MenstrualCycleTracking_v2.hasSymptom.some(MenstrualCycleTracking_v2.Acne),\n",
       " MenstrualCycleTracking_v2.Mild | MenstrualCycleTracking_v2.Moderate | MenstrualCycleTracking_v2.Severe,\n",
       " MenstrualCycleTracking_v2.Acne | MenstrualCycleTracking_v2.Appetite | MenstrualCycleTracking_v2.Backache | MenstrualCycleTracking_v2.Bloating | MenstrualCycleTracking_v2.Constipation | MenstrualCycleTracking_v2.Cramps | MenstrualCycleTracking_v2.Diarrhea | MenstrualCycleTracking_v2.Dizziness | MenstrualCycleTracking_v2.Fatigue | MenstrualCycleTracking_v2.Headache | MenstrualCycleTracking_v2.HotFlashes | MenstrualCycleTracking_v2.Indigestion | MenstrualCycleTracking_v2.Insomnia | MenstrualCycleTracking_v2.Migraine | MenstrualCycleTracking_v2.Nausea | MenstrualCycleTracking_v2.PainDuringSex | MenstrualCycleTracking_v2.PelvicPain | MenstrualCycleTracking_v2.SexDrive | MenstrualCycleTracking_v2.Sick | MenstrualCycleTracking_v2.SoreBreasts | MenstrualCycleTracking_v2.VaginalPain,\n",
       " MenstrualCycleTracking_v2.Angry | MenstrualCycleTracking_v2.Anxious | MenstrualCycleTracking_v2.Calm | MenstrualCycleTracking_v2.Depressed | MenstrualCycleTracking_v2.Emotional | MenstrualCycleTracking_v2.Energetic | MenstrualCycleTracking_v2.Excited | MenstrualCycleTracking_v2.Focused | MenstrualCycleTracking_v2.Frisky | MenstrualCycleTracking_v2.Frustated | MenstrualCycleTracking_v2.Happy | MenstrualCycleTracking_v2.InLove | MenstrualCycleTracking_v2.Irritable | MenstrualCycleTracking_v2.Moody]"
      ]
     },
     "execution_count": 19,
     "metadata": {},
     "output_type": "execute_result"
    }
   ],
   "source": [
    "list(onto.general_axioms())"
   ]
  },
  {
   "cell_type": "code",
   "execution_count": 47,
   "metadata": {},
   "outputs": [
    {
     "data": {
      "text/plain": [
       "[MenstrualCycleTracking.hasDiagnosisMood.only(MenstrualCycleTracking.User)]"
      ]
     },
     "execution_count": 47,
     "metadata": {},
     "output_type": "execute_result"
    }
   ],
   "source": [
    "onto.hasDiagnosisMood.domain"
   ]
  },
  {
   "cell_type": "code",
   "execution_count": 25,
   "metadata": {},
   "outputs": [
    {
     "data": {
      "text/plain": [
       "[]"
      ]
     },
     "execution_count": 25,
     "metadata": {},
     "output_type": "execute_result"
    }
   ],
   "source": [
    "onto.hasDiagnosisMood.range"
   ]
  },
  {
   "cell_type": "code",
   "execution_count": 20,
   "metadata": {},
   "outputs": [
    {
     "data": {
      "text/plain": [
       "[MenstrualCycleTracking_v2.User, MenstrualCycleTracking_v2.UserAcne, MenstrualCycleTracking_v2.UserAngry, MenstrualCycleTracking_v2.UserAnxious, MenstrualCycleTracking_v2.UserAppetite, MenstrualCycleTracking_v2.UserBackache, MenstrualCycleTracking_v2.UserBloating, MenstrualCycleTracking_v2.UserCalm, MenstrualCycleTracking_v2.UserConstipation, MenstrualCycleTracking_v2.UserCramps, MenstrualCycleTracking_v2.UserDepressed, MenstrualCycleTracking_v2.UserDiarrhea, MenstrualCycleTracking_v2.UserDizziness, MenstrualCycleTracking_v2.UserEmotional, MenstrualCycleTracking_v2.UserEnergetic, MenstrualCycleTracking_v2.UserExcited, MenstrualCycleTracking_v2.UserFatigue, MenstrualCycleTracking_v2.UserFocused, MenstrualCycleTracking_v2.UserFrisky, MenstrualCycleTracking_v2.UserFrustated, MenstrualCycleTracking_v2.UserHappy, MenstrualCycleTracking_v2.UserHeadache, MenstrualCycleTracking_v2.UserHotFlashes, MenstrualCycleTracking_v2.UserInLove, MenstrualCycleTracking_v2.UserIndigestion, MenstrualCycleTracking_v2.UserInsomnia, MenstrualCycleTracking_v2.UserIrritable, MenstrualCycleTracking_v2.UserMigraine, MenstrualCycleTracking_v2.UserMoody, MenstrualCycleTracking_v2.UserNausea, MenstrualCycleTracking_v2.UserPainDuringSex, MenstrualCycleTracking_v2.UserPelvicPain, MenstrualCycleTracking_v2.UserSexDrive, MenstrualCycleTracking_v2.UserSick, MenstrualCycleTracking_v2.UserSoreBreasts, MenstrualCycleTracking_v2.UserVaginalPain]"
      ]
     },
     "execution_count": 20,
     "metadata": {},
     "output_type": "execute_result"
    }
   ],
   "source": [
    "default_world.search(iri = \"*User*\")"
   ]
  },
  {
   "cell_type": "code",
   "execution_count": 21,
   "metadata": {},
   "outputs": [
    {
     "data": {
      "text/plain": [
       "'http://www.semanticweb.org/erika/ontologies/menstrual_cycle#User'"
      ]
     },
     "execution_count": 21,
     "metadata": {},
     "output_type": "execute_result"
    }
   ],
   "source": [
    "onto.User.iri"
   ]
  },
  {
   "cell_type": "code",
   "execution_count": 22,
   "metadata": {},
   "outputs": [
    {
     "data": {
      "text/plain": [
       "owlready2.triplelite._SearchList"
      ]
     },
     "execution_count": 22,
     "metadata": {},
     "output_type": "execute_result"
    }
   ],
   "source": [
    "r = onto.search(iri = \"*User*\", _case_sensitive = True)\n",
    "r.__class__"
   ]
  },
  {
   "cell_type": "code",
   "execution_count": 23,
   "metadata": {},
   "outputs": [
    {
     "data": {
      "text/plain": [
       "'_eva'"
      ]
     },
     "execution_count": 23,
     "metadata": {},
     "output_type": "execute_result"
    }
   ],
   "source": [
    "list(onto.individuals())\n",
    "individual = list(onto.individuals())[0]\n",
    "\n",
    "individual.name\n"
   ]
  },
  {
   "cell_type": "code",
   "execution_count": 14,
   "metadata": {},
   "outputs": [
    {
     "name": "stdout",
     "output_type": "stream",
     "text": [
      "{MenstrualCycleTracking_v2.hasDiagnosisSymptom}\n"
     ]
    }
   ],
   "source": [
    "print(individual.get_properties())"
   ]
  },
  {
   "cell_type": "code",
   "execution_count": 15,
   "metadata": {},
   "outputs": [
    {
     "name": "stdout",
     "output_type": "stream",
     "text": [
      "SELECT ?class WHERE {<http://www.semanticweb.org/erika/ontologies/menstrual_cycle#_eva> a ?class . ?class a <http://www.w3.org/2002/07/owl#Class> .}\n"
     ]
    }
   ],
   "source": [
    "query = \"SELECT ?class WHERE {<%s> a ?class . ?class a <http://www.w3.org/2002/07/owl#Class> .}\"\n",
    "query_final = query % individual.iri\n",
    "print(query_final)"
   ]
  },
  {
   "cell_type": "code",
   "execution_count": 32,
   "metadata": {},
   "outputs": [
    {
     "data": {
      "text/plain": [
       "[[MenstrualCycleTracking.UserWithMigraine]]"
      ]
     },
     "execution_count": 32,
     "metadata": {},
     "output_type": "execute_result"
    }
   ],
   "source": [
    "list(default_world.sparql_query(query_final))"
   ]
  },
  {
   "cell_type": "code",
   "execution_count": 26,
   "metadata": {},
   "outputs": [
    {
     "name": "stderr",
     "output_type": "stream",
     "text": [
      "base IRI does not look like a valid URI, trying to serialize this will break.\n",
      "base IRI does not look like a valid URI, trying to serialize this will break.\n"
     ]
    }
   ],
   "source": [
    "default_world.ontologies\n",
    "graph = default_world.as_rdflib_graph()\n",
    "graph.bind(\"prefix\", \"base IRI\")"
   ]
  },
  {
   "cell_type": "code",
   "execution_count": 27,
   "metadata": {},
   "outputs": [
    {
     "name": "stderr",
     "output_type": "stream",
     "text": [
      "base IRI does not look like a valid URI, trying to serialize this will break.\n",
      "base IRI does not look like a valid URI, trying to serialize this will break.\n"
     ]
    },
    {
     "data": {
      "text/plain": [
       "[[157]]"
      ]
     },
     "execution_count": 27,
     "metadata": {},
     "output_type": "execute_result"
    }
   ],
   "source": [
    "list(default_world.sparql_query(\"\"\"\n",
    "           SELECT (COUNT(?x) AS ?nb)\n",
    "           { ?x a owl:Class . }\n",
    "    \"\"\"))"
   ]
  },
  {
   "cell_type": "code",
   "execution_count": 29,
   "metadata": {},
   "outputs": [
    {
     "name": "stderr",
     "output_type": "stream",
     "text": [
      "base IRI does not look like a valid URI, trying to serialize this will break.\n",
      "base IRI does not look like a valid URI, trying to serialize this will break.\n"
     ]
    },
    {
     "data": {
      "text/plain": [
       "[[2]]"
      ]
     },
     "execution_count": 29,
     "metadata": {},
     "output_type": "execute_result"
    }
   ],
   "source": [
    "list(default_world.sparql_query(\"\"\"\n",
    "PREFIX mens:<http://www.semanticweb.org/erika/ontologies/menstrual_cycle#>\n",
    "SELECT (COUNT(?s) AS ?userWithMigraine) \n",
    "    WHERE { ?s  ?p   ?o.\n",
    "        ?o owl:someValuesFrom mens:Insomnia.} \"\"\"))"
   ]
  },
  {
   "cell_type": "code",
   "execution_count": 30,
   "metadata": {},
   "outputs": [
    {
     "name": "stderr",
     "output_type": "stream",
     "text": [
      "base IRI does not look like a valid URI, trying to serialize this will break.\n",
      "base IRI does not look like a valid URI, trying to serialize this will break.\n"
     ]
    },
    {
     "data": {
      "text/plain": [
       "[[26]]"
      ]
     },
     "execution_count": 30,
     "metadata": {},
     "output_type": "execute_result"
    }
   ],
   "source": [
    "list(default_world.sparql_query(\"\"\"\n",
    "PREFIX mens:<http://www.semanticweb.org/erika/ontologies/menstrual_cycle#>\n",
    "SELECT (COUNT(?s) AS ?userWithMigraine) \n",
    "    WHERE { ?s  ?p   ?o.\n",
    "        ?o owl:someValuesFrom mens:Migraine.} \"\"\"))"
   ]
  },
  {
   "cell_type": "code",
   "execution_count": 31,
   "metadata": {},
   "outputs": [
    {
     "name": "stdout",
     "output_type": "stream",
     "text": [
      "44\n"
     ]
    }
   ],
   "source": [
    "\n",
    "print(len (list(onto.individuals())))\n"
   ]
  },
  {
   "cell_type": "code",
   "execution_count": 21,
   "metadata": {},
   "outputs": [
    {
     "data": {
      "text/plain": [
       "[MenstrualCycleTracking_v2.Acne,\n",
       " MenstrualCycleTracking_v2.Angry,\n",
       " MenstrualCycleTracking_v2.Anxious,\n",
       " MenstrualCycleTracking_v2.Appetite,\n",
       " MenstrualCycleTracking_v2.Backache,\n",
       " MenstrualCycleTracking_v2.Bloating,\n",
       " MenstrualCycleTracking_v2.Calm,\n",
       " MenstrualCycleTracking_v2.Constipation,\n",
       " MenstrualCycleTracking_v2.Cramps,\n",
       " MenstrualCycleTracking_v2.Depressed,\n",
       " MenstrualCycleTracking_v2.Diarrhea,\n",
       " MenstrualCycleTracking_v2.Dizziness,\n",
       " MenstrualCycleTracking_v2.Emotional,\n",
       " MenstrualCycleTracking_v2.Energetic,\n",
       " MenstrualCycleTracking_v2.Excited,\n",
       " MenstrualCycleTracking_v2.Fatigue,\n",
       " MenstrualCycleTracking_v2.Focused,\n",
       " MenstrualCycleTracking_v2.Frisky,\n",
       " MenstrualCycleTracking_v2.Frustated,\n",
       " MenstrualCycleTracking_v2.Happy,\n",
       " MenstrualCycleTracking_v2.Headache,\n",
       " MenstrualCycleTracking_v2.HotFlashes,\n",
       " MenstrualCycleTracking_v2.InLove,\n",
       " MenstrualCycleTracking_v2.Indigestion,\n",
       " MenstrualCycleTracking_v2.Insomnia,\n",
       " MenstrualCycleTracking_v2.Irritable,\n",
       " MenstrualCycleTracking_v2.Migraine,\n",
       " MenstrualCycleTracking_v2.Mild,\n",
       " MenstrualCycleTracking_v2.Moderate,\n",
       " MenstrualCycleTracking_v2.Mood,\n",
       " MenstrualCycleTracking_v2.MoodRelation,\n",
       " MenstrualCycleTracking_v2.Moody,\n",
       " MenstrualCycleTracking_v2.Nausea,\n",
       " MenstrualCycleTracking_v2.PainDuringSex,\n",
       " MenstrualCycleTracking_v2.PelvicPain,\n",
       " MenstrualCycleTracking_v2.Severe,\n",
       " MenstrualCycleTracking_v2.SexDrive,\n",
       " MenstrualCycleTracking_v2.Sick,\n",
       " MenstrualCycleTracking_v2.SoreBreasts,\n",
       " MenstrualCycleTracking_v2.Symptom,\n",
       " MenstrualCycleTracking_v2.SymptomLevel,\n",
       " MenstrualCycleTracking_v2.SymptomRelation,\n",
       " MenstrualCycleTracking_v2.User,\n",
       " MenstrualCycleTracking_v2.UserAcne,\n",
       " MenstrualCycleTracking_v2.UserAngry,\n",
       " MenstrualCycleTracking_v2.UserAnxious,\n",
       " MenstrualCycleTracking_v2.UserAppetite,\n",
       " MenstrualCycleTracking_v2.UserBackache,\n",
       " MenstrualCycleTracking_v2.UserBloating,\n",
       " MenstrualCycleTracking_v2.UserCalm,\n",
       " MenstrualCycleTracking_v2.UserConstipation,\n",
       " MenstrualCycleTracking_v2.UserCramps,\n",
       " MenstrualCycleTracking_v2.UserDepressed,\n",
       " MenstrualCycleTracking_v2.UserDiarrhea,\n",
       " MenstrualCycleTracking_v2.UserDizziness,\n",
       " MenstrualCycleTracking_v2.UserEmotional,\n",
       " MenstrualCycleTracking_v2.UserEnergetic,\n",
       " MenstrualCycleTracking_v2.UserExcited,\n",
       " MenstrualCycleTracking_v2.UserFatigue,\n",
       " MenstrualCycleTracking_v2.UserFocused,\n",
       " MenstrualCycleTracking_v2.UserFrisky,\n",
       " MenstrualCycleTracking_v2.UserFrustated,\n",
       " MenstrualCycleTracking_v2.UserHappy,\n",
       " MenstrualCycleTracking_v2.UserHeadache,\n",
       " MenstrualCycleTracking_v2.UserHotFlashes,\n",
       " MenstrualCycleTracking_v2.UserInLove,\n",
       " MenstrualCycleTracking_v2.UserIndigestion,\n",
       " MenstrualCycleTracking_v2.UserInsomnia,\n",
       " MenstrualCycleTracking_v2.UserIrritable,\n",
       " MenstrualCycleTracking_v2.UserMigraine,\n",
       " MenstrualCycleTracking_v2.UserMoody,\n",
       " MenstrualCycleTracking_v2.UserNausea,\n",
       " MenstrualCycleTracking_v2.UserPainDuringSex,\n",
       " MenstrualCycleTracking_v2.UserPelvicPain,\n",
       " MenstrualCycleTracking_v2.UserSexDrive,\n",
       " MenstrualCycleTracking_v2.UserSick,\n",
       " MenstrualCycleTracking_v2.UserSoreBreasts,\n",
       " MenstrualCycleTracking_v2.UserVaginalPain,\n",
       " MenstrualCycleTracking_v2.VaginalPain]"
      ]
     },
     "execution_count": 21,
     "metadata": {},
     "output_type": "execute_result"
    }
   ],
   "source": [
    "lista = list(onto.classes())\n",
    "\n",
    "list(lista)"
   ]
  },
  {
   "cell_type": "code",
   "execution_count": 28,
   "metadata": {},
   "outputs": [
    {
     "name": "stdout",
     "output_type": "stream",
     "text": [
      "MenstrualCycleTracking.Acne\n"
     ]
    }
   ],
   "source": [
    "clase1 = lista[0]\n",
    "print(clase1)"
   ]
  },
  {
   "cell_type": "code",
   "execution_count": 24,
   "metadata": {},
   "outputs": [
    {
     "data": {
      "text/plain": [
       "22"
      ]
     },
     "execution_count": 24,
     "metadata": {},
     "output_type": "execute_result"
    }
   ],
   "source": [
    "len(lista)"
   ]
  },
  {
   "cell_type": "code",
   "execution_count": 29,
   "metadata": {},
   "outputs": [],
   "source": [
    "userAcne1 = clase1(\"acne1\")"
   ]
  },
  {
   "cell_type": "code",
   "execution_count": 30,
   "metadata": {},
   "outputs": [
    {
     "name": "stdout",
     "output_type": "stream",
     "text": [
      "http://www.semanticweb.org/root/ontologies/2021/0/MenstrualCycleTracking#acne1\n"
     ]
    }
   ],
   "source": [
    "print(userAcne1.iri)"
   ]
  },
  {
   "cell_type": "code",
   "execution_count": 31,
   "metadata": {},
   "outputs": [
    {
     "name": "stdout",
     "output_type": "stream",
     "text": [
      "acne1\n"
     ]
    }
   ],
   "source": [
    "print(userAcne1.name)"
   ]
  },
  {
   "cell_type": "code",
   "execution_count": 18,
   "metadata": {},
   "outputs": [
    {
     "name": "stdout",
     "output_type": "stream",
     "text": [
      "43\n"
     ]
    }
   ],
   "source": [
    "individuos = list(onto.individuals())\n",
    "print(len(individuos))"
   ]
  },
  {
   "cell_type": "code",
   "execution_count": 19,
   "metadata": {},
   "outputs": [
    {
     "data": {
      "text/plain": [
       "[MenstrualCycleTracking_v2._eva,\n",
       " MenstrualCycleTracking_v2._evaHasMigraine,\n",
       " MenstrualCycleTracking_v2._evaHasSevere,\n",
       " MenstrualCycleTracking_v2._evaSymptomRelation,\n",
       " MenstrualCycleTracking_v2._userAcne01,\n",
       " MenstrualCycleTracking_v2._userAcne02,\n",
       " MenstrualCycleTracking_v2._userAcne03,\n",
       " MenstrualCycleTracking_v2._userAcne04,\n",
       " MenstrualCycleTracking_v2._userAcne05,\n",
       " MenstrualCycleTracking_v2._userAcne06,\n",
       " MenstrualCycleTracking_v2._userAcne07,\n",
       " MenstrualCycleTracking_v2._userAcne08,\n",
       " MenstrualCycleTracking_v2._userAcne09,\n",
       " MenstrualCycleTracking_v2._userAcne10,\n",
       " MenstrualCycleTracking_v2._userAcne11,\n",
       " MenstrualCycleTracking_v2._userAcne12,\n",
       " MenstrualCycleTracking_v2._userAcne13,\n",
       " MenstrualCycleTracking_v2._userAcne14,\n",
       " MenstrualCycleTracking_v2._userInsomnia01,\n",
       " MenstrualCycleTracking_v2._userMigraine01,\n",
       " MenstrualCycleTracking_v2._userMigraine02,\n",
       " MenstrualCycleTracking_v2._userMigraine03,\n",
       " MenstrualCycleTracking_v2._userMigraine04,\n",
       " MenstrualCycleTracking_v2._userMigraine05,\n",
       " MenstrualCycleTracking_v2._userMigraine06,\n",
       " MenstrualCycleTracking_v2._userMigraine07,\n",
       " MenstrualCycleTracking_v2._userMigraine08,\n",
       " MenstrualCycleTracking_v2._userMigraine09,\n",
       " MenstrualCycleTracking_v2._userMigraine10,\n",
       " MenstrualCycleTracking_v2._userMigraine11,\n",
       " MenstrualCycleTracking_v2._userMigraine12,\n",
       " MenstrualCycleTracking_v2._userMigraine13,\n",
       " MenstrualCycleTracking_v2._userMigraine14,\n",
       " MenstrualCycleTracking_v2._userMigraine15,\n",
       " MenstrualCycleTracking_v2._userMigraine16,\n",
       " MenstrualCycleTracking_v2._userMigraine17,\n",
       " MenstrualCycleTracking_v2._userMigraine18,\n",
       " MenstrualCycleTracking_v2._userMigraine19,\n",
       " MenstrualCycleTracking_v2._userMigraine20,\n",
       " MenstrualCycleTracking_v2._userMigraine21,\n",
       " MenstrualCycleTracking_v2._userMigraine22,\n",
       " MenstrualCycleTracking_v2._userMigraine23,\n",
       " MenstrualCycleTracking_v2._userMigraine24]"
      ]
     },
     "execution_count": 19,
     "metadata": {},
     "output_type": "execute_result"
    }
   ],
   "source": [
    "list(onto.individuals())"
   ]
  },
  {
   "cell_type": "code",
   "execution_count": 32,
   "metadata": {},
   "outputs": [
    {
     "name": "stdout",
     "output_type": "stream",
     "text": [
      "http://www.semanticweb.org/erika/ontologies/menstrual_cycle#Migraine\n",
      "http://www.semanticweb.org/erika/ontologies/menstrual_cycle#UserMigraine\n",
      "http://www.semanticweb.org/erika/ontologies/menstrual_cycle#_evaHasMigraine\n"
     ]
    }
   ],
   "source": [
    "results = onto.search(iri = \"*Migraine\") \n",
    "for i in results:                 \n",
    "    print(i.iri)"
   ]
  },
  {
   "cell_type": "code",
   "execution_count": 33,
   "metadata": {},
   "outputs": [
    {
     "name": "stderr",
     "output_type": "stream",
     "text": [
      "/home/erika/anaconda3/lib/python3.7/site-packages/pandas/compat/_optional.py:138: UserWarning: Pandas requires version '2.7.0' or newer of 'numexpr' (version '2.6.9' currently installed).\n",
      "  warnings.warn(msg, UserWarning)\n"
     ]
    },
    {
     "name": "stdout",
     "output_type": "stream",
     "text": [
      "   Num      Id Document    Name Surname  Age   DateBirth DateDiagnosis  Acne  \\\n",
      "0    1  User01   User01  User01  User01   18  01/01/2003    21/02/2022  Mild   \n",
      "1    2  User02   User02  User02  User02   19  02/01/2004    21/03/2022   NaN   \n",
      "\n",
      "   Appetite  ... Emotional  Energetic  Excited Focused Frisky  Frustated  \\\n",
      "0  Moderate  ...         0          0        1       0      0          0   \n",
      "1       NaN  ...         0          1        0       0      0          1   \n",
      "\n",
      "   Happy  InLove  Irritable Moody  \n",
      "0      1       0          0     0  \n",
      "1      0       0          1     0  \n",
      "\n",
      "[2 rows x 43 columns]\n"
     ]
    }
   ],
   "source": [
    "import pandas as pd\n",
    "import numpy as np\n",
    "# Read CSV file into DataFrame\n",
    "df1 = pd.read_csv('ontologies/users_info.csv')\n",
    "print(df1)"
   ]
  },
  {
   "cell_type": "code",
   "execution_count": 35,
   "metadata": {},
   "outputs": [],
   "source": [
    "data = {\n",
    "    'Num': [3],  'Id': ['User03'], 'Document': ['User03'], 'Name': ['User03'], \n",
    "    'Surname': ['User03'], 'Age':[25], 'DateBirth':['01/01/1997'], 'DateDiagnosis':['05/07/2022'],\n",
    "    'Acne':[np.nan], 'Appetite':[np.nan], 'Backache':['Mild'], 'Bloating':[np.nan], 'Constipation':[np.nan],\n",
    "    'Cramps':[np.nan], 'Diarrhea':[np.nan], 'Nausea':[np.nan], 'PainDuringSex':[np.nan], \n",
    "    'PelvicPain':[np.nan], 'SexDrive':[np.nan], 'Sick':[np.nan], 'SoreBreasts':[np.nan], \n",
    "    'VaginalPain':[np.nan], 'Dizziness':[np.nan], 'Fatigue':[np.nan], 'Headache':['Severe'], \n",
    "    'HotFlashes':[np.nan], 'Indigestion':['Moderate'], 'Insomnia':['Mild'], 'Migraine':[np.nan], \n",
    "    'Angry':[0], 'Anxious':[1], 'Calm':[0], 'Depressed':[0], 'Emotional':[0], \n",
    "    'Energetic':[0], 'Excited':[0], 'Focused':[0], 'Frisky':[0], \n",
    "    'Frustated':[1], 'Happy':[0], 'InLove':[0], 'Irritable':[1], 'Moody':[0]\n",
    "}"
   ]
  },
  {
   "cell_type": "code",
   "execution_count": 36,
   "metadata": {},
   "outputs": [
    {
     "name": "stdout",
     "output_type": "stream",
     "text": [
      "   Num      Id Document    Name Surname  Age   DateBirth DateDiagnosis  Acne  \\\n",
      "0    3  User03   User03  User03  User03   25  01/01/1997    05/07/2022   NaN   \n",
      "\n",
      "   Appetite  ... Emotional  Energetic  Excited  Focused  Frisky  Frustated  \\\n",
      "0       NaN  ...         0          0        0        0       0          1   \n",
      "\n",
      "   Happy  InLove  Irritable  Moody  \n",
      "0      0       0          1      0  \n",
      "\n",
      "[1 rows x 43 columns]\n"
     ]
    }
   ],
   "source": [
    "df2 = pd.DataFrame(data)\n",
    "print(df2)"
   ]
  },
  {
   "cell_type": "code",
   "execution_count": 4,
   "metadata": {},
   "outputs": [
    {
     "name": "stdout",
     "output_type": "stream",
     "text": [
      "   Num      Id Document    Name Surname  Age   DateBirth DateDiagnosis  Acne  \\\n",
      "0    1  User01   User01  User01  User01   18  01/01/2003    21/02/2022  Mild   \n",
      "1    2  User02   User02  User02  User02   19  02/01/2004    21/03/2022   NaN   \n",
      "2    3  User03   User03  User03  User03   25  01/01/1997    05/07/2022   NaN   \n",
      "\n",
      "   Appetite  ... Emotional  Energetic  Excited Focused Frisky  Frustated  \\\n",
      "0  Moderate  ...         0          0        1       0      0          0   \n",
      "1       NaN  ...         0          1        0       0      0          1   \n",
      "2       NaN  ...         0          0        0       0      0          1   \n",
      "\n",
      "   Happy  InLove  Irritable Moody  \n",
      "0      1       0          0     0  \n",
      "1      0       0          1     0  \n",
      "2      0       0          1     0  \n",
      "\n",
      "[3 rows x 43 columns]\n"
     ]
    }
   ],
   "source": [
    "df3 = df1.append(df2, ignore_index = True)\n",
    "print (df3)"
   ]
  },
  {
   "cell_type": "code",
   "execution_count": 6,
   "metadata": {},
   "outputs": [],
   "source": [
    "df3.to_csv('ontologies/users_testes.csv', mode='a', header=True)"
   ]
  },
  {
   "cell_type": "code",
   "execution_count": 90,
   "metadata": {},
   "outputs": [
    {
     "name": "stdout",
     "output_type": "stream",
     "text": [
      "-2 0 10 38 75 94 94 100\n",
      "indice1:  -2  indice2:  -1\n",
      "indice2:  0  indice3:  9\n",
      "indice3:  10  indice4:  37\n",
      "indice4:  38  indice4:  74\n",
      "indice5:  75  indice6:  93\n",
      "indice6:  94  indice7:  93\n",
      "indice7:  94  indice8:  99\n",
      "22 2000 9 18\n",
      "20 2002 6 27\n",
      "23 1999 6 5\n",
      "22 2000 12 2\n",
      "23 1999 9 17\n",
      "22 2000 3 4\n",
      "24 1998 10 24\n",
      "24 1998 5 23\n",
      "23 1999 11 25\n",
      "22 2000 5 22\n",
      "29 1993 1 20\n",
      "26 1996 6 4\n",
      "29 1993 10 30\n",
      "26 1996 12 13\n",
      "26 1996 3 26\n",
      "29 1993 1 11\n",
      "28 1994 3 6\n",
      "26 1996 8 2\n",
      "28 1994 5 6\n",
      "28 1994 8 9\n",
      "25 1997 6 14\n",
      "29 1993 7 1\n",
      "26 1996 1 21\n",
      "29 1993 3 22\n",
      "29 1993 9 10\n",
      "26 1996 1 18\n",
      "27 1995 6 29\n",
      "28 1994 2 12\n",
      "28 1994 9 27\n",
      "27 1995 5 11\n",
      "29 1993 5 9\n",
      "26 1996 9 6\n",
      "28 1994 3 16\n",
      "26 1996 7 30\n",
      "28 1994 4 30\n",
      "27 1995 12 29\n",
      "26 1996 2 7\n",
      "28 1994 2 6\n",
      "31 1991 1 2\n",
      "34 1988 1 2\n",
      "31 1991 9 20\n",
      "31 1991 7 3\n",
      "30 1992 10 29\n",
      "34 1988 10 2\n",
      "30 1992 1 26\n",
      "34 1988 2 2\n",
      "30 1992 1 13\n",
      "34 1988 11 8\n",
      "32 1990 7 8\n",
      "30 1992 8 1\n",
      "31 1991 5 25\n",
      "33 1989 10 13\n",
      "33 1989 9 29\n",
      "31 1991 12 3\n",
      "31 1991 7 13\n",
      "33 1989 10 23\n",
      "31 1991 7 18\n",
      "31 1991 7 1\n",
      "30 1992 1 13\n",
      "33 1989 9 6\n",
      "31 1991 8 23\n",
      "31 1991 2 9\n",
      "32 1990 4 18\n",
      "32 1990 9 27\n",
      "32 1990 7 7\n",
      "30 1992 8 8\n",
      "30 1992 10 27\n",
      "33 1989 10 12\n",
      "34 1988 11 4\n",
      "30 1992 8 25\n",
      "31 1991 6 6\n",
      "31 1991 7 14\n",
      "33 1989 12 27\n",
      "31 1991 6 6\n",
      "32 1990 8 18\n",
      "37 1985 2 11\n",
      "38 1984 4 15\n",
      "35 1987 10 29\n",
      "38 1984 4 3\n",
      "39 1983 4 16\n",
      "36 1986 6 27\n",
      "36 1986 1 9\n",
      "36 1986 4 11\n",
      "39 1983 1 22\n",
      "36 1986 3 14\n",
      "39 1983 7 25\n",
      "39 1983 2 7\n",
      "35 1987 10 19\n",
      "35 1987 9 7\n",
      "36 1986 7 12\n",
      "37 1985 10 28\n",
      "36 1986 7 14\n",
      "36 1986 4 25\n",
      "35 1987 8 16\n",
      "48 1974 11 21\n",
      "47 1975 4 15\n",
      "49 1973 5 16\n",
      "46 1976 9 26\n",
      "48 1974 1 13\n",
      "45 1977 8 3\n"
     ]
    }
   ],
   "source": [
    "import random\n",
    "import pandas as pd\n",
    "\n",
    "data = {\n",
    "    'Num': [1],  'Id': ['User01'], 'Document': ['User01'], 'Name': ['User01'], \n",
    "    'Surname': ['User03'], 'Age':[25], 'DateBirth':['01/01/1997'], 'DateDiagnosis':['05/07/2022'],\n",
    "    'Acne':[np.nan], 'Appetite':[np.nan], 'Backache':['Mild'], 'Bloating':[np.nan], 'Constipation':[np.nan],\n",
    "    'Cramps':[np.nan], 'Diarrhea':[np.nan], 'Nausea':[np.nan], 'PainDuringSex':[np.nan], \n",
    "    'PelvicPain':[np.nan], 'SexDrive':[np.nan], 'Sick':[np.nan], 'SoreBreasts':[np.nan], \n",
    "    'VaginalPain':[np.nan], 'Dizziness':[np.nan], 'Fatigue':[np.nan], 'Headache':['Severe'], \n",
    "    'HotFlashes':[np.nan], 'Indigestion':['Moderate'], 'Insomnia':['Mild'], 'Migraine':[np.nan], \n",
    "    'Angry':[0], 'Anxious':[1], 'Calm':[0], 'Depressed':[0], 'Emotional':[0], \n",
    "    'Energetic':[0], 'Excited':[0], 'Focused':[0], 'Frisky':[0], \n",
    "    'Frustated':[1], 'Happy':[0], 'InLove':[0], 'Irritable':[1], 'Moody':[0]\n",
    "}\n",
    "\n",
    "df = pd.DataFrame(data)\n",
    "\n",
    "\n",
    "inicio = 1\n",
    "fim = 100\n",
    "ages = []\n",
    "anoatual = 2022\n",
    "#dia mes ano#\n",
    "data_nascimento =\"\" \n",
    "\n",
    "indice1 = inicio - 3\n",
    "indice2 = int (indice1 + 0.02*fim ) \n",
    "indice3 = int (indice2 + 0.10*fim ) \n",
    "indice4 = int (indice3 + 0.29*fim ) -1\n",
    "indice5 = int (indice4 + 0.38*fim ) -1\n",
    "indice6 = int (indice5 + 0.20*fim ) -1\n",
    "indice7 = int (indice6 + 0.01*fim ) -1 \n",
    "indice8 = fim \n",
    "\n",
    "print(indice1, indice2, indice3, indice4, indice5, indice6, indice7, indice8) \n",
    "\n",
    "print(\"indice1: \", indice1, \" indice2: \", indice2-1)\n",
    "print(\"indice2: \", indice2, \" indice3: \", indice3-1)\n",
    "print(\"indice3: \", indice3, \" indice4: \", indice4-1)\n",
    "print(\"indice4: \", indice4, \" indice4: \", indice5-1)\n",
    "print(\"indice5: \", indice5, \" indice6: \", indice6-1)\n",
    "print(\"indice6: \", indice6, \" indice7: \", indice7-1)\n",
    "print(\"indice7: \", indice7, \" indice8: \", indice8-1)\n",
    "\n",
    "\n",
    "for x in range(indice1, indice2):\n",
    "    age = random.randint(15, 19)\n",
    "    ages.append(age)\n",
    "    ano = anoatual-age\n",
    "    mes = random.randint(1, 12)\n",
    "    dia = random.randint(1, 30)\n",
    "    data_nascimento = str(dia)+'/'+str(mes)+'/'+str(ano)\n",
    "    df = df.append({ \n",
    "    'Num': x,  'Id': 'User' + str(x), 'Document': 'User' + str(x), 'Name' : 'User'+str(x), \n",
    "    'Surname': 'User' + str(x),  'Age' : age  , 'DateBirth': data_nascimento, 'DateDiagnosis': '05/07/2022',\n",
    "    'Acne': np.nan, 'Appetite': np.nan, 'Backache': 'Mild', 'Bloating': np.nan, 'Constipation': np.nan,\n",
    "    'Cramps': np.nan, 'Diarrhea': np.nan, 'Nausea': np.nan, 'PainDuringSex': np.nan, \n",
    "    'PelvicPain': np.nan, 'SexDrive': np.nan, 'Sick': np.nan, 'SoreBreasts': np.nan, \n",
    "    'VaginalPain': np.nan, 'Dizziness': np.nan, 'Fatigue': np.nan, 'Headache': 'Severe', \n",
    "    'HotFlashes': np.nan, 'Indigestion':'Moderate', 'Insomnia': 'Mild', 'Migraine': np.nan, \n",
    "    'Angry': 0, 'Anxious':1, 'Calm': 0, 'Depressed': 0, 'Emotional':0, 'Energetic': 0, \n",
    "    'Excited':0, 'Focused':0, 'Frisky': 0, 'Frustated': 1, 'Happy': 0, 'InLove':0, \n",
    "    'Irritable': 1, 'Moody':0}, ignore_index=True)\n",
    "        \n",
    "#print('x:', x, \"size: \", len(ages))\n",
    "#print(data)\n",
    "\n",
    "for x in range(indice2, indice3):\n",
    "    age = random.randint(20, 24)\n",
    "    ages.append(age)\n",
    "    ano = anoatual-age\n",
    "    mes = random.randint(1, 12)\n",
    "    dia = random.randint(1, 30)\n",
    "    print(age, ano, mes, dia)\n",
    "\n",
    "#print('x:', x)\n",
    "#print('x:', x, \"size: \", len(ages))\n",
    "\n",
    "for x in range(indice3, indice4):\n",
    "    age = random.randint(25, 29)\n",
    "    ages.append(age)    \n",
    "    ano = anoatual-age\n",
    "    mes = random.randint(1, 12)\n",
    "    dia = random.randint(1, 30)\n",
    "    print(age, ano, mes, dia)\n",
    "\n",
    "#print('x:', x)\n",
    "#print('x:', x, \"size: \", len(ages))\n",
    "\n",
    "for x in range(indice4, indice5):\n",
    "    age = random.randint(30, 34)\n",
    "    ages.append(age)\n",
    "    ano = anoatual-age\n",
    "    mes = random.randint(1, 12)\n",
    "    dia = random.randint(1, 30)\n",
    "    print(age, ano, mes, dia)\n",
    "\n",
    "#print('x:', x)\n",
    "#print('x:', x, \"size: \", len(ages))\n",
    "\n",
    "for x in range(indice5, indice6):\n",
    "    age = random.randint(35, 39)\n",
    "    ages.append(age)\n",
    "    ano = anoatual-age\n",
    "    mes = random.randint(1, 12)\n",
    "    dia = random.randint(1, 30)\n",
    "    print(age, ano, mes, dia)\n",
    "\n",
    "#print('x:', x)\n",
    "#print('x:', x, \"size: \", len(ages))\n",
    "\n",
    "for x in range(indice6, indice7):\n",
    "    age = random.randint(40, 44)\n",
    "    ages.append(age)\n",
    "    ano = anoatual-age\n",
    "    mes = random.randint(1, 12)\n",
    "    dia = random.randint(1, 30)\n",
    "    print(age, ano, mes, dia)\n",
    "\n",
    "#print('x:', x)\n",
    "#print('x:', x, \"size: \", len(ages))\n",
    "\n",
    "for x in range(indice7, indice8):\n",
    "    age = random.randint(45, 49)\n",
    "    ages.append(age)\n",
    "    ano = anoatual-age\n",
    "    mes = random.randint(1, 12)\n",
    "    dia = random.randint(1, 30)\n",
    "    print(age, ano, mes, dia)\n",
    "\n",
    "#print('x:', x)\n",
    "#print('x:', x, \"size: \", len(ages))"
   ]
  },
  {
   "cell_type": "code",
   "execution_count": 91,
   "metadata": {},
   "outputs": [
    {
     "data": {
      "text/html": [
       "<div>\n",
       "<style scoped>\n",
       "    .dataframe tbody tr th:only-of-type {\n",
       "        vertical-align: middle;\n",
       "    }\n",
       "\n",
       "    .dataframe tbody tr th {\n",
       "        vertical-align: top;\n",
       "    }\n",
       "\n",
       "    .dataframe thead th {\n",
       "        text-align: right;\n",
       "    }\n",
       "</style>\n",
       "<table border=\"1\" class=\"dataframe\">\n",
       "  <thead>\n",
       "    <tr style=\"text-align: right;\">\n",
       "      <th></th>\n",
       "      <th>Num</th>\n",
       "      <th>Id</th>\n",
       "      <th>Document</th>\n",
       "      <th>Name</th>\n",
       "      <th>Surname</th>\n",
       "      <th>Age</th>\n",
       "      <th>DateBirth</th>\n",
       "      <th>DateDiagnosis</th>\n",
       "      <th>Acne</th>\n",
       "      <th>Appetite</th>\n",
       "      <th>...</th>\n",
       "      <th>Emotional</th>\n",
       "      <th>Energetic</th>\n",
       "      <th>Excited</th>\n",
       "      <th>Focused</th>\n",
       "      <th>Frisky</th>\n",
       "      <th>Frustated</th>\n",
       "      <th>Happy</th>\n",
       "      <th>InLove</th>\n",
       "      <th>Irritable</th>\n",
       "      <th>Moody</th>\n",
       "    </tr>\n",
       "  </thead>\n",
       "  <tbody>\n",
       "    <tr>\n",
       "      <th>0</th>\n",
       "      <td>1</td>\n",
       "      <td>User01</td>\n",
       "      <td>User01</td>\n",
       "      <td>User01</td>\n",
       "      <td>User03</td>\n",
       "      <td>25</td>\n",
       "      <td>01/01/1997</td>\n",
       "      <td>05/07/2022</td>\n",
       "      <td>NaN</td>\n",
       "      <td>NaN</td>\n",
       "      <td>...</td>\n",
       "      <td>0</td>\n",
       "      <td>0</td>\n",
       "      <td>0</td>\n",
       "      <td>0</td>\n",
       "      <td>0</td>\n",
       "      <td>1</td>\n",
       "      <td>0</td>\n",
       "      <td>0</td>\n",
       "      <td>1</td>\n",
       "      <td>0</td>\n",
       "    </tr>\n",
       "    <tr>\n",
       "      <th>1</th>\n",
       "      <td>-2</td>\n",
       "      <td>User-2</td>\n",
       "      <td>User-2</td>\n",
       "      <td>User-2</td>\n",
       "      <td>User-2</td>\n",
       "      <td>18</td>\n",
       "      <td>15/2/2004</td>\n",
       "      <td>05/07/2022</td>\n",
       "      <td>NaN</td>\n",
       "      <td>NaN</td>\n",
       "      <td>...</td>\n",
       "      <td>0</td>\n",
       "      <td>0</td>\n",
       "      <td>0</td>\n",
       "      <td>0</td>\n",
       "      <td>0</td>\n",
       "      <td>1</td>\n",
       "      <td>0</td>\n",
       "      <td>0</td>\n",
       "      <td>1</td>\n",
       "      <td>0</td>\n",
       "    </tr>\n",
       "    <tr>\n",
       "      <th>2</th>\n",
       "      <td>-1</td>\n",
       "      <td>User-1</td>\n",
       "      <td>User-1</td>\n",
       "      <td>User-1</td>\n",
       "      <td>User-1</td>\n",
       "      <td>18</td>\n",
       "      <td>1/11/2004</td>\n",
       "      <td>05/07/2022</td>\n",
       "      <td>NaN</td>\n",
       "      <td>NaN</td>\n",
       "      <td>...</td>\n",
       "      <td>0</td>\n",
       "      <td>0</td>\n",
       "      <td>0</td>\n",
       "      <td>0</td>\n",
       "      <td>0</td>\n",
       "      <td>1</td>\n",
       "      <td>0</td>\n",
       "      <td>0</td>\n",
       "      <td>1</td>\n",
       "      <td>0</td>\n",
       "    </tr>\n",
       "  </tbody>\n",
       "</table>\n",
       "<p>3 rows × 43 columns</p>\n",
       "</div>"
      ],
      "text/plain": [
       "   Num      Id Document    Name Surname  Age   DateBirth DateDiagnosis  Acne  \\\n",
       "0    1  User01   User01  User01  User03   25  01/01/1997    05/07/2022   NaN   \n",
       "1   -2  User-2   User-2  User-2  User-2   18   15/2/2004    05/07/2022   NaN   \n",
       "2   -1  User-1   User-1  User-1  User-1   18   1/11/2004    05/07/2022   NaN   \n",
       "\n",
       "   Appetite  ... Emotional  Energetic  Excited  Focused  Frisky  Frustated  \\\n",
       "0       NaN  ...         0          0        0        0       0          1   \n",
       "1       NaN  ...         0          0        0        0       0          1   \n",
       "2       NaN  ...         0          0        0        0       0          1   \n",
       "\n",
       "   Happy  InLove  Irritable  Moody  \n",
       "0      0       0          1      0  \n",
       "1      0       0          1      0  \n",
       "2      0       0          1      0  \n",
       "\n",
       "[3 rows x 43 columns]"
      ]
     },
     "execution_count": 91,
     "metadata": {},
     "output_type": "execute_result"
    }
   ],
   "source": [
    "df"
   ]
  },
  {
   "cell_type": "code",
   "execution_count": 61,
   "metadata": {},
   "outputs": [
    {
     "data": {
      "text/html": [
       "<div>\n",
       "<style scoped>\n",
       "    .dataframe tbody tr th:only-of-type {\n",
       "        vertical-align: middle;\n",
       "    }\n",
       "\n",
       "    .dataframe tbody tr th {\n",
       "        vertical-align: top;\n",
       "    }\n",
       "\n",
       "    .dataframe thead th {\n",
       "        text-align: right;\n",
       "    }\n",
       "</style>\n",
       "<table border=\"1\" class=\"dataframe\">\n",
       "  <thead>\n",
       "    <tr style=\"text-align: right;\">\n",
       "      <th></th>\n",
       "      <th>Name</th>\n",
       "      <th>Age</th>\n",
       "    </tr>\n",
       "  </thead>\n",
       "  <tbody>\n",
       "    <tr>\n",
       "      <th>0</th>\n",
       "      <td>Karan</td>\n",
       "      <td>23</td>\n",
       "    </tr>\n",
       "    <tr>\n",
       "      <th>1</th>\n",
       "      <td>Rohit</td>\n",
       "      <td>22</td>\n",
       "    </tr>\n",
       "    <tr>\n",
       "      <th>2</th>\n",
       "      <td>Sahil</td>\n",
       "      <td>21</td>\n",
       "    </tr>\n",
       "    <tr>\n",
       "      <th>3</th>\n",
       "      <td>Aryan</td>\n",
       "      <td>24</td>\n",
       "    </tr>\n",
       "  </tbody>\n",
       "</table>\n",
       "</div>"
      ],
      "text/plain": [
       "    Name  Age\n",
       "0  Karan   23\n",
       "1  Rohit   22\n",
       "2  Sahil   21\n",
       "3  Aryan   24"
      ]
     },
     "execution_count": 61,
     "metadata": {},
     "output_type": "execute_result"
    }
   ],
   "source": [
    "import pandas as pd\n",
    "\n",
    "data=[['Karan',23],['Rohit',22],['Sahil',21],['Aryan',24]]\n",
    "\n",
    "df=pd.DataFrame(data,columns=['Name','Age'])\n",
    "\n",
    "df"
   ]
  }
 ],
 "metadata": {
  "kernelspec": {
   "display_name": "Python 3",
   "language": "python",
   "name": "python3"
  },
  "language_info": {
   "codemirror_mode": {
    "name": "ipython",
    "version": 3
   },
   "file_extension": ".py",
   "mimetype": "text/x-python",
   "name": "python",
   "nbconvert_exporter": "python",
   "pygments_lexer": "ipython3",
   "version": "3.7.3"
  }
 },
 "nbformat": 4,
 "nbformat_minor": 2
}
