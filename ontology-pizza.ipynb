{
 "cells": [
  {
   "cell_type": "code",
   "execution_count": 3,
   "metadata": {},
   "outputs": [
    {
     "name": "stdout",
     "output_type": "stream",
     "text": [
      "Requirement already satisfied: owlready2 in /home/erika/anaconda3/lib/python3.7/site-packages (0.26)\n",
      "\u001b[33mWARNING: You are using pip version 21.3.1; however, version 22.1.2 is available.\n",
      "You should consider upgrading via the '/home/erika/anaconda3/bin/python -m pip install --upgrade pip' command.\u001b[0m\n",
      "Note: you may need to restart the kernel to use updated packages.\n"
     ]
    }
   ],
   "source": [
    "pip install owlready2\n"
   ]
  },
  {
   "cell_type": "code",
   "execution_count": 7,
   "metadata": {},
   "outputs": [],
   "source": [
    "from owlready2 import *\n",
    "\n",
    "onto = get_ontology(\"file://ontologies/pizza.owl\").load()"
   ]
  },
  {
   "cell_type": "code",
   "execution_count": 8,
   "metadata": {},
   "outputs": [
    {
     "name": "stdout",
     "output_type": "stream",
     "text": [
      "None\n"
     ]
    }
   ],
   "source": [
    "print(onto.Pizza)"
   ]
  },
  {
   "cell_type": "code",
   "execution_count": 9,
   "metadata": {},
   "outputs": [
    {
     "data": {
      "text/plain": [
       "[pizza.Pizza,\n",
       " pizza.PizzaBase,\n",
       " pizza.Food,\n",
       " pizza.Spiciness,\n",
       " pizza.PizzaTopping,\n",
       " pizza.American,\n",
       " pizza.NamedPizza,\n",
       " pizza.MozzarellaTopping,\n",
       " pizza.PeperoniSausageTopping,\n",
       " pizza.TomatoTopping,\n",
       " pizza.AmericanHot,\n",
       " pizza.HotGreenPepperTopping,\n",
       " pizza.JalapenoPepperTopping,\n",
       " pizza.AnchoviesTopping,\n",
       " pizza.FishTopping,\n",
       " pizza.ArtichokeTopping,\n",
       " pizza.VegetableTopping,\n",
       " pizza.Mild,\n",
       " pizza.AsparagusTopping,\n",
       " pizza.Cajun,\n",
       " pizza.OnionTopping,\n",
       " pizza.PeperonataTopping,\n",
       " pizza.PrawnsTopping,\n",
       " pizza.TobascoPepperSauce,\n",
       " pizza.CajunSpiceTopping,\n",
       " pizza.HerbSpiceTopping,\n",
       " pizza.Hot,\n",
       " pizza.RosemaryTopping,\n",
       " pizza.CaperTopping,\n",
       " pizza.Capricciosa,\n",
       " pizza.HamTopping,\n",
       " pizza.OliveTopping,\n",
       " pizza.Caprina,\n",
       " pizza.GoatsCheeseTopping,\n",
       " pizza.SundriedTomatoTopping,\n",
       " pizza.CheeseTopping,\n",
       " pizza.CheeseyPizza,\n",
       " pizza.CheeseyVegetableTopping,\n",
       " pizza.ChickenTopping,\n",
       " pizza.MeatTopping,\n",
       " pizza.Country,\n",
       " pizza.DomainConcept,\n",
       " pizza.DeepPanBase,\n",
       " pizza.ThinAndCrispyBase,\n",
       " pizza.ValuePartition,\n",
       " pizza.Fiorentina,\n",
       " pizza.GarlicTopping,\n",
       " pizza.ParmesanTopping,\n",
       " pizza.SpinachTopping,\n",
       " pizza.FourCheesesTopping,\n",
       " pizza.FourSeasons,\n",
       " pizza.MushroomTopping,\n",
       " pizza.FruitTopping,\n",
       " pizza.FruttiDiMare,\n",
       " pizza.MixedSeafoodTopping,\n",
       " pizza.Medium,\n",
       " pizza.Giardiniera,\n",
       " pizza.LeekTopping,\n",
       " pizza.PetitPoisTopping,\n",
       " pizza.SlicedTomatoTopping,\n",
       " pizza.GorgonzolaTopping,\n",
       " pizza.GreenPepperTopping,\n",
       " pizza.PepperTopping,\n",
       " pizza.HotSpicedBeefTopping,\n",
       " pizza.IceCream,\n",
       " pizza.InterestingPizza,\n",
       " pizza.LaReine,\n",
       " pizza.Margherita,\n",
       " pizza.MeatyPizza,\n",
       " pizza.Mushroom,\n",
       " pizza.Napoletana,\n",
       " pizza.NonVegetarianPizza,\n",
       " pizza.VegetarianPizza,\n",
       " pizza.NutTopping,\n",
       " pizza.ParmaHamTopping,\n",
       " pizza.Parmense,\n",
       " pizza.PineKernels,\n",
       " pizza.PolloAdAstra,\n",
       " pizza.RedOnionTopping,\n",
       " pizza.SweetPepperTopping,\n",
       " pizza.PrinceCarlo,\n",
       " pizza.QuattroFormaggi,\n",
       " pizza.RealItalianPizza,\n",
       " pizza.RocketTopping,\n",
       " pizza.Rosa,\n",
       " pizza.SauceTopping,\n",
       " pizza.Siciliana,\n",
       " pizza.SloppyGiuseppe,\n",
       " pizza.Soho,\n",
       " pizza.SpicyPizza,\n",
       " pizza.SpicyTopping,\n",
       " pizza.SpicyPizzaEquivalent,\n",
       " pizza.SultanaTopping,\n",
       " pizza.ThinAndCrispyPizza,\n",
       " pizza.UnclosedPizza,\n",
       " pizza.VegetarianPizzaEquivalent1,\n",
       " pizza.VegetarianTopping,\n",
       " pizza.VegetarianPizzaEquivalent2,\n",
       " pizza.Veneziana]"
      ]
     },
     "execution_count": 9,
     "metadata": {},
     "output_type": "execute_result"
    }
   ],
   "source": [
    "list(onto.classes())"
   ]
  },
  {
   "cell_type": "code",
   "execution_count": 10,
   "metadata": {},
   "outputs": [
    {
     "data": {
      "text/plain": [
       "[pizza.hasTopping, pizza.PizzaTopping, pizza.MozzarellaTopping, pizza.PeperoniSausageTopping, pizza.TomatoTopping, pizza.HotGreenPepperTopping, pizza.JalapenoPepperTopping, pizza.AnchoviesTopping, pizza.FishTopping, pizza.ArtichokeTopping, pizza.VegetableTopping, pizza.AsparagusTopping, pizza.OnionTopping, pizza.PeperonataTopping, pizza.PrawnsTopping, pizza.CajunSpiceTopping, pizza.HerbSpiceTopping, pizza.RosemaryTopping, pizza.CaperTopping, pizza.HamTopping, pizza.OliveTopping, pizza.GoatsCheeseTopping, pizza.SundriedTomatoTopping, pizza.CheeseTopping, pizza.CheeseyVegetableTopping, pizza.ChickenTopping, pizza.MeatTopping, pizza.GarlicTopping, pizza.ParmesanTopping, pizza.SpinachTopping, pizza.FourCheesesTopping, pizza.MushroomTopping, pizza.FruitTopping, pizza.MixedSeafoodTopping, pizza.LeekTopping, pizza.PetitPoisTopping, pizza.SlicedTomatoTopping, pizza.GorgonzolaTopping, pizza.GreenPepperTopping, pizza.PepperTopping, pizza.HotSpicedBeefTopping, pizza.NutTopping, pizza.ParmaHamTopping, pizza.RedOnionTopping, pizza.SweetPepperTopping, pizza.RocketTopping, pizza.SauceTopping, pizza.SpicyTopping, pizza.SultanaTopping, pizza.VegetarianTopping]"
      ]
     },
     "execution_count": 10,
     "metadata": {},
     "output_type": "execute_result"
    }
   ],
   "source": [
    "onto.search(iri = \"*Topping\")"
   ]
  },
  {
   "cell_type": "code",
   "execution_count": 35,
   "metadata": {},
   "outputs": [
    {
     "name": "stdout",
     "output_type": "stream",
     "text": [
      "Pizza\n",
      "PizzaBase\n",
      "Food\n",
      "Spiciness\n",
      "PizzaTopping\n",
      "American\n",
      "NamedPizza\n",
      "MozzarellaTopping\n",
      "PeperoniSausageTopping\n",
      "TomatoTopping\n",
      "AmericanHot\n",
      "HotGreenPepperTopping\n",
      "JalapenoPepperTopping\n",
      "AnchoviesTopping\n",
      "FishTopping\n",
      "ArtichokeTopping\n",
      "VegetableTopping\n",
      "Mild\n",
      "AsparagusTopping\n",
      "Cajun\n",
      "OnionTopping\n",
      "PeperonataTopping\n",
      "PrawnsTopping\n",
      "TobascoPepperSauce\n",
      "CajunSpiceTopping\n",
      "HerbSpiceTopping\n",
      "Hot\n",
      "RosemaryTopping\n",
      "CaperTopping\n",
      "Capricciosa\n",
      "HamTopping\n",
      "OliveTopping\n",
      "Caprina\n",
      "GoatsCheeseTopping\n",
      "SundriedTomatoTopping\n",
      "CheeseTopping\n",
      "CheeseyPizza\n",
      "CheeseyVegetableTopping\n",
      "ChickenTopping\n",
      "MeatTopping\n",
      "Country\n",
      "DomainConcept\n",
      "DeepPanBase\n",
      "ThinAndCrispyBase\n",
      "ValuePartition\n",
      "Fiorentina\n",
      "GarlicTopping\n",
      "ParmesanTopping\n",
      "SpinachTopping\n",
      "FourCheesesTopping\n",
      "FourSeasons\n",
      "MushroomTopping\n",
      "FruitTopping\n",
      "FruttiDiMare\n",
      "MixedSeafoodTopping\n",
      "Medium\n",
      "Giardiniera\n",
      "LeekTopping\n",
      "PetitPoisTopping\n",
      "SlicedTomatoTopping\n",
      "GorgonzolaTopping\n",
      "GreenPepperTopping\n",
      "PepperTopping\n",
      "HotSpicedBeefTopping\n",
      "IceCream\n",
      "InterestingPizza\n",
      "LaReine\n",
      "Margherita\n",
      "MeatyPizza\n",
      "Mushroom\n",
      "Napoletana\n",
      "NonVegetarianPizza\n",
      "VegetarianPizza\n",
      "NutTopping\n",
      "ParmaHamTopping\n",
      "Parmense\n",
      "PineKernels\n",
      "PolloAdAstra\n",
      "RedOnionTopping\n",
      "SweetPepperTopping\n",
      "PrinceCarlo\n",
      "QuattroFormaggi\n",
      "RealItalianPizza\n",
      "RocketTopping\n",
      "Rosa\n",
      "SauceTopping\n",
      "Siciliana\n",
      "SloppyGiuseppe\n",
      "Soho\n",
      "SpicyPizza\n",
      "SpicyTopping\n",
      "SpicyPizzaEquivalent\n",
      "SultanaTopping\n",
      "ThinAndCrispyPizza\n",
      "UnclosedPizza\n",
      "VegetarianPizzaEquivalent1\n",
      "VegetarianTopping\n",
      "VegetarianPizzaEquivalent2\n",
      "Veneziana\n"
     ]
    }
   ],
   "source": [
    "for c in onto.classes(): print (c.name)"
   ]
  },
  {
   "cell_type": "code",
   "execution_count": 11,
   "metadata": {},
   "outputs": [],
   "source": [
    "my_world = World()"
   ]
  },
  {
   "cell_type": "code",
   "execution_count": 12,
   "metadata": {},
   "outputs": [
    {
     "name": "stdout",
     "output_type": "stream",
     "text": [
      "<owlready2.namespace.World object at 0x7f2699e08908>\n"
     ]
    }
   ],
   "source": [
    "print (my_world)\n"
   ]
  },
  {
   "cell_type": "code",
   "execution_count": 13,
   "metadata": {},
   "outputs": [
    {
     "name": "stdout",
     "output_type": "stream",
     "text": [
      "get_ontology(\"http://www.co-ode.org/ontologies/pizza/\")\n"
     ]
    }
   ],
   "source": [
    "onto = my_world.get_ontology(\"file://ontologies/pizza.owl\").load()\n",
    "print (onto)"
   ]
  },
  {
   "cell_type": "code",
   "execution_count": 14,
   "metadata": {},
   "outputs": [
    {
     "data": {
      "text/plain": [
       "[pizza.Pizza, pizza.NamedPizza, pizza.CheeseyPizza, pizza.InterestingPizza, pizza.MeatyPizza, pizza.NonVegetarianPizza, pizza.VegetarianPizza, pizza.RealItalianPizza, pizza.SpicyPizza, pizza.ThinAndCrispyPizza, pizza.UnclosedPizza]"
      ]
     },
     "execution_count": 14,
     "metadata": {},
     "output_type": "execute_result"
    }
   ],
   "source": [
    "onto.search(iri = \"*Pizza\")"
   ]
  },
  {
   "cell_type": "code",
   "execution_count": 15,
   "metadata": {},
   "outputs": [],
   "source": [
    "onto = get_ontology(\"file://ontologies/pizza.owl\").load()"
   ]
  },
  {
   "cell_type": "code",
   "execution_count": 16,
   "metadata": {},
   "outputs": [
    {
     "name": "stdout",
     "output_type": "stream",
     "text": [
      "get_ontology(\"http://www.co-ode.org/ontologies/pizza/\")\n"
     ]
    }
   ],
   "source": [
    " print(onto)"
   ]
  },
  {
   "cell_type": "code",
   "execution_count": 17,
   "metadata": {},
   "outputs": [
    {
     "name": "stdout",
     "output_type": "stream",
     "text": [
      "['my first comment']\n"
     ]
    }
   ],
   "source": [
    "onto.metadata.comment.append(\"my first comment\")\n",
    "print(onto.metadata.comment)"
   ]
  },
  {
   "cell_type": "code",
   "execution_count": 18,
   "metadata": {},
   "outputs": [
    {
     "name": "stdout",
     "output_type": "stream",
     "text": [
      "my first comment\n"
     ]
    }
   ],
   "source": [
    "for annot_prop in onto.metadata.comment:\n",
    "      print(annot_prop)"
   ]
  },
  {
   "cell_type": "code",
   "execution_count": 19,
   "metadata": {},
   "outputs": [
    {
     "data": {
      "text/plain": [
       "[]"
      ]
     },
     "execution_count": 19,
     "metadata": {},
     "output_type": "execute_result"
    }
   ],
   "source": [
    " onto.search(has_topping = \"*\")"
   ]
  },
  {
   "cell_type": "code",
   "execution_count": 114,
   "metadata": {},
   "outputs": [
    {
     "name": "stdout",
     "output_type": "stream",
     "text": [
      "http://www.co-ode.org/ontologies/pizza/pizza.owl#NonVegetarianPizza\n",
      "[owl.Thing]\n",
      "[pizza.Pizza & Not(pizza.VegetarianPizza)]\n",
      "397\n",
      "<function Thing.get_properties at 0x7f2699ea7620>\n",
      "<function Thing.get_name at 0x7f2699ea2c80>\n",
      "<bound method EntityClass.subclasses of pizza.NonVegetarianPizza>\n"
     ]
    }
   ],
   "source": [
    "result = onto.search(iri = \"*Pizza\")\n",
    "print (result[5].iri)\n",
    "print (result[5].is_a)\n",
    "print (result[5].equivalent_to)\n",
    "print (result[5].storid)\n",
    "print (result[5].get_properties)\n",
    "print (result[5].get_name)\n",
    "print (result[5].subclasses)\n",
    "\n",
    "\n",
    "#print (result[5].type)"
   ]
  },
  {
   "cell_type": "code",
   "execution_count": 157,
   "metadata": {},
   "outputs": [
    {
     "name": "stdout",
     "output_type": "stream",
     "text": [
      "{'namespace': get_ontology(\"http://www.co-ode.org/ontologies/pizza/\").get_namespace(\"http://www.co-ode.org/ontologies/pizza/pizza.owl#\"), 'storid': 397, '_name': 'NonVegetarianPizza', 'is_a': [owl.Thing], '_equivalent_to': [pizza.Pizza & Not(pizza.VegetarianPizza)], '__module__': 'owlready2.entity', '__doc__': None}\n"
     ]
    }
   ],
   "source": [
    "#dir(result[5])\n",
    "\n",
    "print(result[5].__dict__)"
   ]
  },
  {
   "cell_type": "code",
   "execution_count": 21,
   "metadata": {},
   "outputs": [
    {
     "data": {
      "text/plain": [
       "[pizza.TomatoTopping, pizza.SundriedTomatoTopping, pizza.SlicedTomatoTopping]"
      ]
     },
     "execution_count": 21,
     "metadata": {},
     "output_type": "execute_result"
    }
   ],
   "source": [
    "onto.search(iri = \"*TomatoTopping\")"
   ]
  },
  {
   "cell_type": "code",
   "execution_count": 87,
   "metadata": {},
   "outputs": [
    {
     "data": {
      "text/plain": [
       "[pizza.hasTopping, pizza.PizzaTopping, pizza.MozzarellaTopping, pizza.PeperoniSausageTopping, pizza.TomatoTopping, pizza.HotGreenPepperTopping, pizza.JalapenoPepperTopping, pizza.AnchoviesTopping, pizza.FishTopping, pizza.ArtichokeTopping, pizza.VegetableTopping, pizza.AsparagusTopping, pizza.OnionTopping, pizza.PeperonataTopping, pizza.PrawnsTopping, pizza.CajunSpiceTopping, pizza.HerbSpiceTopping, pizza.RosemaryTopping, pizza.CaperTopping, pizza.HamTopping, pizza.OliveTopping, pizza.GoatsCheeseTopping, pizza.SundriedTomatoTopping, pizza.CheeseTopping, pizza.CheeseyVegetableTopping, pizza.ChickenTopping, pizza.MeatTopping, pizza.GarlicTopping, pizza.ParmesanTopping, pizza.SpinachTopping, pizza.FourCheesesTopping, pizza.MushroomTopping, pizza.FruitTopping, pizza.MixedSeafoodTopping, pizza.LeekTopping, pizza.PetitPoisTopping, pizza.SlicedTomatoTopping, pizza.GorgonzolaTopping, pizza.GreenPepperTopping, pizza.PepperTopping, pizza.HotSpicedBeefTopping, pizza.NutTopping, pizza.ParmaHamTopping, pizza.RedOnionTopping, pizza.SweetPepperTopping, pizza.RocketTopping, pizza.SauceTopping, pizza.SpicyTopping, pizza.SultanaTopping, pizza.VegetarianTopping]"
      ]
     },
     "execution_count": 87,
     "metadata": {},
     "output_type": "execute_result"
    }
   ],
   "source": [
    "onto.search(iri = \"*Topping\")"
   ]
  },
  {
   "cell_type": "code",
   "execution_count": 169,
   "metadata": {},
   "outputs": [
    {
     "name": "stdout",
     "output_type": "stream",
     "text": [
      "[pizza.SweetPepperTopping]\n"
     ]
    }
   ],
   "source": [
    "result = onto.search( iri = \"*SweetPepperTopping\")\n",
    "print(result)"
   ]
  },
  {
   "cell_type": "code",
   "execution_count": 171,
   "metadata": {},
   "outputs": [
    {
     "name": "stdout",
     "output_type": "stream",
     "text": [
      "{'namespace': get_ontology(\"http://www.co-ode.org/ontologies/pizza/\").get_namespace(\"http://www.co-ode.org/ontologies/pizza/pizza.owl#\"), 'storid': 406, '_name': 'SweetPepperTopping', 'is_a': [pizza.PepperTopping, pizza.hasSpiciness.some(pizza.Mild)], '_equivalent_to': None, '__module__': 'owlready2.entity', '__doc__': None}\n"
     ]
    }
   ],
   "source": [
    "print(result[0].__dict__)"
   ]
  },
  {
   "cell_type": "code",
   "execution_count": 105,
   "metadata": {},
   "outputs": [
    {
     "name": "stdout",
     "output_type": "stream",
     "text": [
      "None\n"
     ]
    }
   ],
   "source": [
    "is_a = onto.TomatoTopping\n",
    "\n",
    "print(is_a)"
   ]
  },
  {
   "cell_type": "code",
   "execution_count": null,
   "metadata": {},
   "outputs": [],
   "source": [
    " onto.search(is_a = onto.Pizza, has_topping = onto.search(is_a = onto.TomatoTopping))"
   ]
  },
  {
   "cell_type": "code",
   "execution_count": 177,
   "metadata": {},
   "outputs": [
    {
     "data": {
      "text/plain": [
       "pizza.hasTopping"
      ]
     },
     "execution_count": 177,
     "metadata": {},
     "output_type": "execute_result"
    }
   ],
   "source": [
    "onto.search_one(iri = \"*Topping\")"
   ]
  },
  {
   "cell_type": "code",
   "execution_count": 121,
   "metadata": {},
   "outputs": [
    {
     "name": "stdout",
     "output_type": "stream",
     "text": [
      "[pizza.hasTopping, pizza.PizzaTopping, pizza.MozzarellaTopping, pizza.PeperoniSausageTopping, pizza.TomatoTopping, pizza.HotGreenPepperTopping, pizza.JalapenoPepperTopping, pizza.AnchoviesTopping, pizza.FishTopping, pizza.ArtichokeTopping, pizza.VegetableTopping, pizza.AsparagusTopping, pizza.OnionTopping, pizza.PeperonataTopping, pizza.PrawnsTopping, pizza.CajunSpiceTopping, pizza.HerbSpiceTopping, pizza.RosemaryTopping, pizza.CaperTopping, pizza.HamTopping, pizza.OliveTopping, pizza.GoatsCheeseTopping, pizza.SundriedTomatoTopping, pizza.CheeseTopping, pizza.CheeseyVegetableTopping, pizza.ChickenTopping, pizza.MeatTopping, pizza.GarlicTopping, pizza.ParmesanTopping, pizza.SpinachTopping, pizza.FourCheesesTopping, pizza.MushroomTopping, pizza.FruitTopping, pizza.MixedSeafoodTopping, pizza.LeekTopping, pizza.PetitPoisTopping, pizza.SlicedTomatoTopping, pizza.GorgonzolaTopping, pizza.GreenPepperTopping, pizza.PepperTopping, pizza.HotSpicedBeefTopping, pizza.NutTopping, pizza.ParmaHamTopping, pizza.RedOnionTopping, pizza.SweetPepperTopping, pizza.RocketTopping, pizza.SauceTopping, pizza.SpicyTopping, pizza.SultanaTopping, pizza.VegetarianTopping]\n",
      "50\n"
     ]
    }
   ],
   "source": [
    "results = onto.search(iri = \"*Topping\")\n",
    "print(results)\n",
    "print(len(results))"
   ]
  },
  {
   "cell_type": "code",
   "execution_count": 128,
   "metadata": {},
   "outputs": [
    {
     "name": "stdout",
     "output_type": "stream",
     "text": [
      "http://www.co-ode.org/ontologies/pizza/pizza.owl#hasTopping\n",
      "http://www.co-ode.org/ontologies/pizza/pizza.owl#PizzaTopping\n",
      "http://www.co-ode.org/ontologies/pizza/pizza.owl#MozzarellaTopping\n",
      "http://www.co-ode.org/ontologies/pizza/pizza.owl#PeperoniSausageTopping\n",
      "http://www.co-ode.org/ontologies/pizza/pizza.owl#TomatoTopping\n",
      "http://www.co-ode.org/ontologies/pizza/pizza.owl#HotGreenPepperTopping\n",
      "http://www.co-ode.org/ontologies/pizza/pizza.owl#JalapenoPepperTopping\n",
      "http://www.co-ode.org/ontologies/pizza/pizza.owl#AnchoviesTopping\n",
      "http://www.co-ode.org/ontologies/pizza/pizza.owl#FishTopping\n",
      "http://www.co-ode.org/ontologies/pizza/pizza.owl#ArtichokeTopping\n",
      "http://www.co-ode.org/ontologies/pizza/pizza.owl#VegetableTopping\n",
      "http://www.co-ode.org/ontologies/pizza/pizza.owl#AsparagusTopping\n",
      "http://www.co-ode.org/ontologies/pizza/pizza.owl#OnionTopping\n",
      "http://www.co-ode.org/ontologies/pizza/pizza.owl#PeperonataTopping\n",
      "http://www.co-ode.org/ontologies/pizza/pizza.owl#PrawnsTopping\n",
      "http://www.co-ode.org/ontologies/pizza/pizza.owl#CajunSpiceTopping\n",
      "http://www.co-ode.org/ontologies/pizza/pizza.owl#HerbSpiceTopping\n",
      "http://www.co-ode.org/ontologies/pizza/pizza.owl#RosemaryTopping\n",
      "http://www.co-ode.org/ontologies/pizza/pizza.owl#CaperTopping\n",
      "http://www.co-ode.org/ontologies/pizza/pizza.owl#HamTopping\n",
      "http://www.co-ode.org/ontologies/pizza/pizza.owl#OliveTopping\n",
      "http://www.co-ode.org/ontologies/pizza/pizza.owl#GoatsCheeseTopping\n",
      "http://www.co-ode.org/ontologies/pizza/pizza.owl#SundriedTomatoTopping\n",
      "http://www.co-ode.org/ontologies/pizza/pizza.owl#CheeseTopping\n",
      "http://www.co-ode.org/ontologies/pizza/pizza.owl#CheeseyVegetableTopping\n",
      "http://www.co-ode.org/ontologies/pizza/pizza.owl#ChickenTopping\n",
      "http://www.co-ode.org/ontologies/pizza/pizza.owl#MeatTopping\n",
      "http://www.co-ode.org/ontologies/pizza/pizza.owl#GarlicTopping\n",
      "http://www.co-ode.org/ontologies/pizza/pizza.owl#ParmesanTopping\n",
      "http://www.co-ode.org/ontologies/pizza/pizza.owl#SpinachTopping\n",
      "http://www.co-ode.org/ontologies/pizza/pizza.owl#FourCheesesTopping\n",
      "http://www.co-ode.org/ontologies/pizza/pizza.owl#MushroomTopping\n",
      "http://www.co-ode.org/ontologies/pizza/pizza.owl#FruitTopping\n",
      "http://www.co-ode.org/ontologies/pizza/pizza.owl#MixedSeafoodTopping\n",
      "http://www.co-ode.org/ontologies/pizza/pizza.owl#LeekTopping\n",
      "http://www.co-ode.org/ontologies/pizza/pizza.owl#PetitPoisTopping\n",
      "http://www.co-ode.org/ontologies/pizza/pizza.owl#SlicedTomatoTopping\n",
      "http://www.co-ode.org/ontologies/pizza/pizza.owl#GorgonzolaTopping\n",
      "http://www.co-ode.org/ontologies/pizza/pizza.owl#GreenPepperTopping\n",
      "http://www.co-ode.org/ontologies/pizza/pizza.owl#PepperTopping\n",
      "http://www.co-ode.org/ontologies/pizza/pizza.owl#HotSpicedBeefTopping\n",
      "http://www.co-ode.org/ontologies/pizza/pizza.owl#NutTopping\n",
      "http://www.co-ode.org/ontologies/pizza/pizza.owl#ParmaHamTopping\n",
      "http://www.co-ode.org/ontologies/pizza/pizza.owl#RedOnionTopping\n",
      "http://www.co-ode.org/ontologies/pizza/pizza.owl#SweetPepperTopping\n",
      "http://www.co-ode.org/ontologies/pizza/pizza.owl#RocketTopping\n",
      "http://www.co-ode.org/ontologies/pizza/pizza.owl#SauceTopping\n",
      "http://www.co-ode.org/ontologies/pizza/pizza.owl#SpicyTopping\n",
      "http://www.co-ode.org/ontologies/pizza/pizza.owl#SultanaTopping\n",
      "http://www.co-ode.org/ontologies/pizza/pizza.owl#VegetarianTopping\n"
     ]
    }
   ],
   "source": [
    " for i in results:                 \n",
    "    print(i.iri)\n",
    "        #print(i.subclasses)\n",
    "        #print(i.is_a)\n"
   ]
  },
  {
   "cell_type": "code",
   "execution_count": 131,
   "metadata": {},
   "outputs": [
    {
     "name": "stdout",
     "output_type": "stream",
     "text": [
      "pizza.VegetarianTopping\n"
     ]
    }
   ],
   "source": [
    "#is_a = onto['Pizza']\n",
    "#print(is_a)\n",
    "\n",
    "vege = IRIS['http://www.co-ode.org/ontologies/pizza/pizza.owl#VegetarianTopping']\n",
    "print(vege)"
   ]
  },
  {
   "cell_type": "code",
   "execution_count": 22,
   "metadata": {},
   "outputs": [
    {
     "name": "stdout",
     "output_type": "stream",
     "text": [
      "None\n"
     ]
    }
   ],
   "source": [
    "is_a = onto.PizzaBase\n",
    "print(onto.PizzaBase) "
   ]
  },
  {
   "cell_type": "code",
   "execution_count": 233,
   "metadata": {},
   "outputs": [
    {
     "name": "stdout",
     "output_type": "stream",
     "text": [
      "{'world': <owlready2.namespace.World object at 0x7f7800e08cc0>, '_namespaces': <WeakValueDictionary at 0x7f7800e08da0>, 'ontology': get_ontology(\"http://www.co-ode.org/ontologies/pizza/\"), 'base_iri': 'http://www.co-ode.org/ontologies/pizza/', 'name': 'pizza', 'loaded': True, '_bnodes': <WeakValueDictionary at 0x7f78003d8320>, 'storid': 302, '_imported_ontologies': [], 'metadata': <owlready2.namespace.Metadata object at 0x7f78003d8d68>, 'graph': <owlready2.triplelite.SubGraph object at 0x7f78003d8390>, '_refactor': <bound method SubGraph._refactor of <owlready2.triplelite.SubGraph object at 0x7f78003d8390>>, '_new_numbered_iri': <bound method Graph._new_numbered_iri of <owlready2.triplelite.Graph object at 0x7f78003c1160>>, '_abbreviate': <bound method Graph._abbreviate_dict of <owlready2.triplelite.Graph object at 0x7f78003c1160>>, '_unabbreviate': <bound method Graph._unabbreviate_dict of <owlready2.triplelite.Graph object at 0x7f78003c1160>>, '_get_obj_triples_cspo_cspo': <bound method SubGraph._get_obj_triples_cspo_cspo of <owlready2.triplelite.SubGraph object at 0x7f78003d8390>>, '_get_obj_triples_spo_spo': <bound method SubGraph._get_obj_triples_spo_spo of <owlready2.triplelite.SubGraph object at 0x7f78003d8390>>, '_get_obj_triples_sp_co': <bound method SubGraph._get_obj_triples_sp_co of <owlready2.triplelite.SubGraph object at 0x7f78003d8390>>, '_get_obj_triples_s_po': <bound method SubGraph._get_obj_triples_s_po of <owlready2.triplelite.SubGraph object at 0x7f78003d8390>>, '_get_obj_triples_po_s': <bound method SubGraph._get_obj_triples_po_s of <owlready2.triplelite.SubGraph object at 0x7f78003d8390>>, '_get_obj_triples_sp_o': <bound method SubGraph._get_obj_triples_sp_o of <owlready2.triplelite.SubGraph object at 0x7f78003d8390>>, '_get_obj_triple_sp_o': <bound method SubGraph._get_obj_triple_sp_o of <owlready2.triplelite.SubGraph object at 0x7f78003d8390>>, '_get_obj_triple_po_s': <bound method SubGraph._get_obj_triple_po_s of <owlready2.triplelite.SubGraph object at 0x7f78003d8390>>, '_has_obj_triple_spo': <bound method SubGraph._has_obj_triple_spo of <owlready2.triplelite.SubGraph object at 0x7f78003d8390>>, '_del_obj_triple_raw_spo': <bound method SubGraph._del_obj_triple_raw_spo of <owlready2.triplelite.SubGraph object at 0x7f78003d8390>>, '_get_obj_triples_spi_o': <bound method SubGraph._get_obj_triples_spi_o of <owlready2.triplelite.SubGraph object at 0x7f78003d8390>>, '_get_obj_triples_pio_s': <bound method SubGraph._get_obj_triples_pio_s of <owlready2.triplelite.SubGraph object at 0x7f78003d8390>>, '_get_data_triples_spod_spod': <bound method SubGraph._get_data_triples_spod_spod of <owlready2.triplelite.SubGraph object at 0x7f78003d8390>>, '_get_data_triples_sp_od': <bound method SubGraph._get_data_triples_sp_od of <owlready2.triplelite.SubGraph object at 0x7f78003d8390>>, '_get_data_triple_sp_od': <bound method SubGraph._get_data_triple_sp_od of <owlready2.triplelite.SubGraph object at 0x7f78003d8390>>, '_get_data_triples_s_pod': <bound method SubGraph._get_data_triples_s_pod of <owlready2.triplelite.SubGraph object at 0x7f78003d8390>>, '_has_data_triple_spod': <bound method SubGraph._has_data_triple_spod of <owlready2.triplelite.SubGraph object at 0x7f78003d8390>>, '_del_data_triple_raw_spod': <bound method SubGraph._del_data_triple_raw_spod of <owlready2.triplelite.SubGraph object at 0x7f78003d8390>>, '_get_triples_spod_spod': <bound method SubGraph._get_triples_spod_spod of <owlready2.triplelite.SubGraph object at 0x7f78003d8390>>, '_get_triples_sp_od': <bound method SubGraph._get_triples_sp_od of <owlready2.triplelite.SubGraph object at 0x7f78003d8390>>, '_get_triple_sp_od': <bound method SubGraph._get_triple_sp_od of <owlready2.triplelite.SubGraph object at 0x7f78003d8390>>, '_get_triples_s_pod': <bound method SubGraph._get_triples_s_pod of <owlready2.triplelite.SubGraph object at 0x7f78003d8390>>, '_get_triples_s_p': <bound method SubGraph._get_triples_s_p of <owlready2.triplelite.SubGraph object at 0x7f78003d8390>>, '_get_obj_triples_o_p': <bound method SubGraph._get_obj_triples_o_p of <owlready2.triplelite.SubGraph object at 0x7f78003d8390>>, '_get_obj_triples_transitive_sp': <bound method SubGraph._get_obj_triples_transitive_sp of <owlready2.triplelite.SubGraph object at 0x7f78003d8390>>, '_get_obj_triples_transitive_po': <bound method SubGraph._get_obj_triples_transitive_po of <owlready2.triplelite.SubGraph object at 0x7f78003d8390>>, '_get_obj_triples_transitive_sym': <bound method BaseGraph._get_obj_triples_transitive_sym of <owlready2.triplelite.SubGraph object at 0x7f78003d8390>>, '_get_obj_triples_transitive_sp_indirect': <bound method BaseGraph._get_obj_triples_transitive_sp_indirect of <owlready2.triplelite.SubGraph object at 0x7f78003d8390>>, '_add_obj_triple_raw_spo': <bound method SubGraph._add_obj_triple_raw_spo of <owlready2.triplelite.SubGraph object at 0x7f78003d8390>>, '_set_obj_triple_raw_spo': <bound method SubGraph._set_obj_triple_raw_spo of <owlready2.triplelite.SubGraph object at 0x7f78003d8390>>, '_add_data_triple_raw_spod': <bound method SubGraph._add_data_triple_raw_spod of <owlready2.triplelite.SubGraph object at 0x7f78003d8390>>, '_set_data_triple_raw_spod': <bound method SubGraph._set_data_triple_raw_spod of <owlready2.triplelite.SubGraph object at 0x7f78003d8390>>}\n",
      "get_ontology(\"http://www.co-ode.org/ontologies/pizza/\")\n",
      "pizza\n",
      "http://www.co-ode.org/ontologies/pizza/\n",
      "302\n",
      "None\n",
      "<owlready2.namespace.Metadata object at 0x7f78003d8d68>\n"
     ]
    }
   ],
   "source": [
    "#result = onto.search( is_a = \"Pizza\")\n",
    "\n",
    "print(onto.__dict__)\n",
    "print(onto.__dict__['ontology'])\n",
    "print(onto.__dict__['name'])\n",
    "print(onto.__dict__['base_iri'])\n",
    "print(onto.__dict__['storid'])\n",
    "print(onto.__dict__['world'][0])\n",
    "#print(onto.__dict__['is_a'])\n",
    "print(onto.__dict__['metadata'])\n",
    "\n"
   ]
  },
  {
   "cell_type": "code",
   "execution_count": 73,
   "metadata": {},
   "outputs": [
    {
     "name": "stdout",
     "output_type": "stream",
     "text": [
      "[pizza.Pizza, pizza.NamedPizza, pizza.CheeseyPizza, pizza.InterestingPizza, pizza.MeatyPizza, pizza.NonVegetarianPizza, pizza.VegetarianPizza, pizza.RealItalianPizza, pizza.SpicyPizza, pizza.ThinAndCrispyPizza, pizza.UnclosedPizza]\n"
     ]
    }
   ],
   "source": [
    "#onto.get_properties()\n",
    "result = onto.search( iri = \"*Pizza\")\n",
    "print(result)"
   ]
  },
  {
   "cell_type": "code",
   "execution_count": 74,
   "metadata": {},
   "outputs": [
    {
     "name": "stdout",
     "output_type": "stream",
     "text": [
      "[pizza.CheeseyPizza]\n"
     ]
    }
   ],
   "source": [
    "cheeseyPizza = onto.search(iri = \"*CheeseyPizza\")\n",
    "print(cheeseyPizza)"
   ]
  },
  {
   "cell_type": "code",
   "execution_count": 102,
   "metadata": {},
   "outputs": [
    {
     "name": "stdout",
     "output_type": "stream",
     "text": [
      "['__add__', '__class__', '__contains__', '__delattr__', '__delitem__', '__dir__', '__doc__', '__eq__', '__format__', '__ge__', '__getattribute__', '__getitem__', '__gt__', '__hash__', '__iadd__', '__imul__', '__init__', '__init_subclass__', '__iter__', '__le__', '__len__', '__lt__', '__module__', '__mul__', '__ne__', '__new__', '__reduce__', '__reduce_ex__', '__repr__', '__reversed__', '__rmul__', '__setattr__', '__setitem__', '__sizeof__', '__slots__', '__str__', '__subclasshook__', '_c', 'alternatives', 'append', 'bm25', 'clear', 'conditions', 'copy', 'count', 'except_conditions', 'except_params', 'excepts', 'extend', 'first', 'has_bm25', 'id', 'index', 'insert', 'nested_searchs', 'params', 'pop', 'prop_vals', 'remove', 'reverse', 'sort', 'tables', 'target', 'transits', 'world']\n",
      "__getattr__\n",
      "__getattribute__\n"
     ]
    }
   ],
   "source": [
    "#print(pizza.is_a)\n",
    "attributes = dir(cheeseyPizza)\n",
    "print(attributes)\n",
    "\n",
    "attributes1 = dir(result[2])\n",
    "print(attributes1[10])\n",
    "print(attributes1[11])\n",
    "\n",
    "#print(attributes1)\n",
    "#print(attributes1.iri)\n"
   ]
  },
  {
   "cell_type": "code",
   "execution_count": 94,
   "metadata": {},
   "outputs": [
    {
     "data": {
      "text/plain": [
       "<function list.index(value, start=0, stop=9223372036854775807, /)>"
      ]
     },
     "execution_count": 94,
     "metadata": {},
     "output_type": "execute_result"
    }
   ],
   "source": [
    "attributes.index"
   ]
  },
  {
   "cell_type": "code",
   "execution_count": 95,
   "metadata": {},
   "outputs": [
    {
     "data": {
      "text/plain": [
       "<function list.index(value, start=0, stop=9223372036854775807, /)>"
      ]
     },
     "execution_count": 95,
     "metadata": {},
     "output_type": "execute_result"
    }
   ],
   "source": [
    "attributes1.index"
   ]
  },
  {
   "cell_type": "code",
   "execution_count": 103,
   "metadata": {},
   "outputs": [
    {
     "data": {
      "text/plain": [
       "<function list.count(value, /)>"
      ]
     },
     "execution_count": 103,
     "metadata": {},
     "output_type": "execute_result"
    }
   ],
   "source": [
    "attributes1.count"
   ]
  },
  {
   "cell_type": "code",
   "execution_count": 108,
   "metadata": {},
   "outputs": [
    {
     "data": {
      "text/plain": [
       "<function list.__getitem__>"
      ]
     },
     "execution_count": 108,
     "metadata": {},
     "output_type": "execute_result"
    }
   ],
   "source": [
    "attributes1.__getitem__"
   ]
  },
  {
   "cell_type": "code",
   "execution_count": 132,
   "metadata": {},
   "outputs": [
    {
     "data": {
      "text/plain": [
       "[pizza.America, pizza.England, pizza.France, pizza.Germany, pizza.Italy]"
      ]
     },
     "execution_count": 132,
     "metadata": {},
     "output_type": "execute_result"
    }
   ],
   "source": [
    "list(onto.individuals())"
   ]
  },
  {
   "cell_type": "code",
   "execution_count": 133,
   "metadata": {},
   "outputs": [
    {
     "data": {
      "text/plain": [
       "[pizza.hasBase,\n",
       " pizza.hasIngredient,\n",
       " pizza.isBaseOf,\n",
       " pizza.hasCountryOfOrigin,\n",
       " pizza.isIngredientOf,\n",
       " pizza.hasSpiciness,\n",
       " pizza.hasTopping,\n",
       " pizza.isToppingOf,\n",
       " 1.1.title,\n",
       " terms.contributor,\n",
       " terms.license,\n",
       " terms.provenance,\n",
       " 1.1.description,\n",
       " core.altLabel,\n",
       " core.definition,\n",
       " core.prefLabel]"
      ]
     },
     "execution_count": 133,
     "metadata": {},
     "output_type": "execute_result"
    }
   ],
   "source": [
    "list(onto.properties())"
   ]
  },
  {
   "cell_type": "code",
   "execution_count": 134,
   "metadata": {},
   "outputs": [
    {
     "data": {
      "text/plain": [
       "[pizza.hasBase,\n",
       " pizza.hasIngredient,\n",
       " pizza.isBaseOf,\n",
       " pizza.hasCountryOfOrigin,\n",
       " pizza.isIngredientOf,\n",
       " pizza.hasSpiciness,\n",
       " pizza.hasTopping,\n",
       " pizza.isToppingOf]"
      ]
     },
     "execution_count": 134,
     "metadata": {},
     "output_type": "execute_result"
    }
   ],
   "source": [
    "list(onto.object_properties())"
   ]
  },
  {
   "cell_type": "code",
   "execution_count": 135,
   "metadata": {},
   "outputs": [
    {
     "data": {
      "text/plain": [
       "[]"
      ]
     },
     "execution_count": 135,
     "metadata": {},
     "output_type": "execute_result"
    }
   ],
   "source": [
    "list(onto.data_properties())"
   ]
  },
  {
   "cell_type": "code",
   "execution_count": 136,
   "metadata": {},
   "outputs": [
    {
     "data": {
      "text/plain": [
       "[AllDisjoint([pizza.IceCream, pizza.Pizza, pizza.PizzaBase, pizza.PizzaTopping]),\n",
       " AllDisjoint([pizza.Hot, pizza.Medium, pizza.Mild]),\n",
       " AllDisjoint([pizza.GreenPepperTopping, pizza.JalapenoPepperTopping, pizza.PeperonataTopping, pizza.SweetPepperTopping]),\n",
       " AllDisjoint([pizza.FourCheesesTopping, pizza.GoatsCheeseTopping, pizza.GorgonzolaTopping, pizza.MozzarellaTopping, pizza.ParmesanTopping]),\n",
       " AllDisjoint([pizza.ChickenTopping, pizza.HamTopping, pizza.HotSpicedBeefTopping, pizza.PeperoniSausageTopping]),\n",
       " AllDisjoint([pizza.CheeseTopping, pizza.FishTopping, pizza.FruitTopping, pizza.HerbSpiceTopping, pizza.MeatTopping, pizza.NutTopping, pizza.SauceTopping, pizza.VegetableTopping]),\n",
       " AllDisjoint([pizza.ArtichokeTopping, pizza.AsparagusTopping, pizza.CaperTopping, pizza.GarlicTopping, pizza.LeekTopping, pizza.MushroomTopping, pizza.OliveTopping, pizza.OnionTopping, pizza.PepperTopping, pizza.PetitPoisTopping, pizza.RocketTopping, pizza.SpinachTopping, pizza.TomatoTopping]),\n",
       " AllDisjoint([pizza.AnchoviesTopping, pizza.MixedSeafoodTopping, pizza.PrawnsTopping]),\n",
       " AllDisjoint([pizza.American, pizza.AmericanHot, pizza.Cajun, pizza.Capricciosa, pizza.Caprina, pizza.Fiorentina, pizza.FourSeasons, pizza.FruttiDiMare, pizza.Giardiniera, pizza.LaReine, pizza.Margherita, pizza.Mushroom, pizza.Napoletana, pizza.Parmense, pizza.PolloAdAstra, pizza.PrinceCarlo, pizza.QuattroFormaggi, pizza.Rosa, pizza.Siciliana, pizza.SloppyGiuseppe, pizza.Soho, pizza.UnclosedPizza, pizza.Veneziana]),\n",
       " AllDisjoint([pizza.CajunSpiceTopping, pizza.RosemaryTopping]),\n",
       " AllDisjoint([pizza.DeepPanBase, pizza.ThinAndCrispyBase]),\n",
       " AllDisjoint([pizza.DomainConcept, pizza.ValuePartition]),\n",
       " AllDisjoint([pizza.NonVegetarianPizza, pizza.VegetarianPizza]),\n",
       " AllDisjoint([pizza.SlicedTomatoTopping, pizza.SundriedTomatoTopping]),\n",
       " AllDisjoint([pizza.America, pizza.England, pizza.France, pizza.Germany, pizza.Italy])]"
      ]
     },
     "execution_count": 136,
     "metadata": {},
     "output_type": "execute_result"
    }
   ],
   "source": [
    "list(onto.disjoints())"
   ]
  },
  {
   "cell_type": "code",
   "execution_count": 138,
   "metadata": {},
   "outputs": [
    {
     "data": {
      "text/plain": [
       "[AllDisjoint([pizza.IceCream, pizza.Pizza, pizza.PizzaBase, pizza.PizzaTopping]),\n",
       " AllDisjoint([pizza.Hot, pizza.Medium, pizza.Mild]),\n",
       " AllDisjoint([pizza.GreenPepperTopping, pizza.JalapenoPepperTopping, pizza.PeperonataTopping, pizza.SweetPepperTopping]),\n",
       " AllDisjoint([pizza.FourCheesesTopping, pizza.GoatsCheeseTopping, pizza.GorgonzolaTopping, pizza.MozzarellaTopping, pizza.ParmesanTopping]),\n",
       " AllDisjoint([pizza.ChickenTopping, pizza.HamTopping, pizza.HotSpicedBeefTopping, pizza.PeperoniSausageTopping]),\n",
       " AllDisjoint([pizza.CheeseTopping, pizza.FishTopping, pizza.FruitTopping, pizza.HerbSpiceTopping, pizza.MeatTopping, pizza.NutTopping, pizza.SauceTopping, pizza.VegetableTopping]),\n",
       " AllDisjoint([pizza.ArtichokeTopping, pizza.AsparagusTopping, pizza.CaperTopping, pizza.GarlicTopping, pizza.LeekTopping, pizza.MushroomTopping, pizza.OliveTopping, pizza.OnionTopping, pizza.PepperTopping, pizza.PetitPoisTopping, pizza.RocketTopping, pizza.SpinachTopping, pizza.TomatoTopping]),\n",
       " AllDisjoint([pizza.AnchoviesTopping, pizza.MixedSeafoodTopping, pizza.PrawnsTopping]),\n",
       " AllDisjoint([pizza.American, pizza.AmericanHot, pizza.Cajun, pizza.Capricciosa, pizza.Caprina, pizza.Fiorentina, pizza.FourSeasons, pizza.FruttiDiMare, pizza.Giardiniera, pizza.LaReine, pizza.Margherita, pizza.Mushroom, pizza.Napoletana, pizza.Parmense, pizza.PolloAdAstra, pizza.PrinceCarlo, pizza.QuattroFormaggi, pizza.Rosa, pizza.Siciliana, pizza.SloppyGiuseppe, pizza.Soho, pizza.UnclosedPizza, pizza.Veneziana]),\n",
       " AllDisjoint([pizza.CajunSpiceTopping, pizza.RosemaryTopping]),\n",
       " AllDisjoint([pizza.DeepPanBase, pizza.ThinAndCrispyBase]),\n",
       " AllDisjoint([pizza.DomainConcept, pizza.ValuePartition]),\n",
       " AllDisjoint([pizza.NonVegetarianPizza, pizza.VegetarianPizza]),\n",
       " AllDisjoint([pizza.SlicedTomatoTopping, pizza.SundriedTomatoTopping])]"
      ]
     },
     "execution_count": 138,
     "metadata": {},
     "output_type": "execute_result"
    }
   ],
   "source": [
    "list(onto.disjoint_classes())"
   ]
  },
  {
   "cell_type": "code",
   "execution_count": 139,
   "metadata": {},
   "outputs": [
    {
     "data": {
      "text/plain": [
       "[]"
      ]
     },
     "execution_count": 139,
     "metadata": {},
     "output_type": "execute_result"
    }
   ],
   "source": [
    "list(onto.variables())"
   ]
  },
  {
   "cell_type": "code",
   "execution_count": 140,
   "metadata": {},
   "outputs": [
    {
     "data": {
      "text/plain": [
       "[pizza.hasTopping.only(pizza.CheeseTopping | pizza.FruitTopping | pizza.HerbSpiceTopping | pizza.NutTopping | pizza.SauceTopping | pizza.VegetableTopping),\n",
       " pizza.hasTopping.only(pizza.VegetarianTopping),\n",
       " pizza.hasTopping.some(pizza.MeatTopping),\n",
       " pizza.hasTopping.some(pizza.FishTopping),\n",
       " pizza.hasBase.only(pizza.ThinAndCrispyBase),\n",
       " pizza.hasSpiciness.some(pizza.Hot),\n",
       " pizza.hasSpiciness.some(pizza.Hot),\n",
       " pizza.hasTopping.some(pizza.PizzaTopping & pizza.hasSpiciness.some(pizza.Hot)),\n",
       " pizza.hasTopping.some(pizza.SpicyTopping),\n",
       " pizza.hasCountryOfOrigin.value(pizza.Italy),\n",
       " pizza.hasTopping.some(pizza.MeatTopping),\n",
       " pizza.hasTopping.min(3, owl.Thing),\n",
       " pizza.hasTopping.some(pizza.CheeseTopping),\n",
       " pizza.CaperTopping | pizza.MozzarellaTopping | pizza.OliveTopping | pizza.OnionTopping | pizza.PineKernels | pizza.SultanaTopping | pizza.TomatoTopping,\n",
       " pizza.CheeseTopping | pizza.FruitTopping | pizza.HerbSpiceTopping | pizza.NutTopping | pizza.SauceTopping | pizza.VegetableTopping,\n",
       " pizza.PizzaTopping & (pizza.CheeseTopping | pizza.FruitTopping | pizza.HerbSpiceTopping | pizza.NutTopping | pizza.SauceTopping | pizza.VegetableTopping),\n",
       " pizza.CheeseTopping | pizza.FruitTopping | pizza.HerbSpiceTopping | pizza.NutTopping | pizza.SauceTopping | pizza.VegetableTopping,\n",
       " pizza.Pizza & pizza.hasTopping.only(pizza.CheeseTopping | pizza.FruitTopping | pizza.HerbSpiceTopping | pizza.NutTopping | pizza.SauceTopping | pizza.VegetableTopping),\n",
       " pizza.Pizza & pizza.hasTopping.only(pizza.VegetarianTopping),\n",
       " Not(pizza.hasTopping.some(pizza.MeatTopping)),\n",
       " Not(pizza.hasTopping.some(pizza.FishTopping)),\n",
       " pizza.Pizza & Not(pizza.hasTopping.some(pizza.FishTopping)) & Not(pizza.hasTopping.some(pizza.MeatTopping)),\n",
       " pizza.Pizza & pizza.hasBase.only(pizza.ThinAndCrispyBase),\n",
       " pizza.PizzaTopping & pizza.hasSpiciness.some(pizza.Hot),\n",
       " pizza.PizzaTopping & pizza.hasSpiciness.some(pizza.Hot),\n",
       " pizza.Pizza & pizza.hasTopping.some(pizza.PizzaTopping & pizza.hasSpiciness.some(pizza.Hot)),\n",
       " pizza.Pizza & pizza.hasTopping.some(pizza.SpicyTopping),\n",
       " pizza.Hot | pizza.Medium | pizza.Mild,\n",
       " pizza.GarlicTopping | pizza.MozzarellaTopping | pizza.OliveTopping | pizza.ParmesanTopping | pizza.RocketTopping | pizza.TomatoTopping,\n",
       " pizza.GreenPepperTopping | pizza.HotSpicedBeefTopping | pizza.MozzarellaTopping | pizza.OnionTopping | pizza.TomatoTopping,\n",
       " pizza.AnchoviesTopping | pizza.ArtichokeTopping | pizza.GarlicTopping | pizza.HamTopping | pizza.MozzarellaTopping | pizza.OliveTopping | pizza.TomatoTopping,\n",
       " pizza.GorgonzolaTopping | pizza.MozzarellaTopping | pizza.TomatoTopping,\n",
       " pizza.Pizza & pizza.hasCountryOfOrigin.value(pizza.Italy),\n",
       " pizza.FourCheesesTopping | pizza.TomatoTopping,\n",
       " pizza.LeekTopping | pizza.MozzarellaTopping | pizza.ParmesanTopping | pizza.RosemaryTopping | pizza.TomatoTopping,\n",
       " pizza.CajunSpiceTopping | pizza.ChickenTopping | pizza.GarlicTopping | pizza.MozzarellaTopping | pizza.RedOnionTopping | pizza.SweetPepperTopping | pizza.TomatoTopping,\n",
       " pizza.AsparagusTopping | pizza.HamTopping | pizza.MozzarellaTopping | pizza.ParmesanTopping | pizza.TomatoTopping,\n",
       " Not(pizza.VegetarianPizza),\n",
       " pizza.Pizza & Not(pizza.VegetarianPizza),\n",
       " pizza.AnchoviesTopping | pizza.CaperTopping | pizza.MozzarellaTopping | pizza.OliveTopping | pizza.TomatoTopping,\n",
       " pizza.MozzarellaTopping | pizza.MushroomTopping | pizza.TomatoTopping,\n",
       " pizza.Pizza & pizza.hasTopping.some(pizza.MeatTopping),\n",
       " pizza.MozzarellaTopping | pizza.TomatoTopping,\n",
       " pizza.HamTopping | pizza.MozzarellaTopping | pizza.MushroomTopping | pizza.OliveTopping | pizza.TomatoTopping,\n",
       " pizza.Pizza & pizza.hasTopping.min(3, owl.Thing),\n",
       " pizza.LeekTopping | pizza.MozzarellaTopping | pizza.MushroomTopping | pizza.OliveTopping | pizza.PeperonataTopping | pizza.PetitPoisTopping | pizza.SlicedTomatoTopping | pizza.TomatoTopping,\n",
       " pizza.GarlicTopping | pizza.MixedSeafoodTopping | pizza.TomatoTopping,\n",
       " pizza.AnchoviesTopping | pizza.CaperTopping | pizza.MozzarellaTopping | pizza.MushroomTopping | pizza.OliveTopping | pizza.PeperoniSausageTopping | pizza.TomatoTopping,\n",
       " pizza.GarlicTopping | pizza.MozzarellaTopping | pizza.OliveTopping | pizza.ParmesanTopping | pizza.SpinachTopping | pizza.TomatoTopping,\n",
       " OneOf([pizza.America, pizza.England, pizza.France, pizza.Germany, pizza.Italy]),\n",
       " pizza.DomainConcept & OneOf([pizza.America, pizza.England, pizza.France, pizza.Germany, pizza.Italy]),\n",
       " pizza.Pizza & pizza.hasTopping.some(pizza.CheeseTopping),\n",
       " pizza.GoatsCheeseTopping | pizza.MozzarellaTopping | pizza.SundriedTomatoTopping | pizza.TomatoTopping,\n",
       " pizza.AnchoviesTopping | pizza.CaperTopping | pizza.HamTopping | pizza.MozzarellaTopping | pizza.OliveTopping | pizza.PeperonataTopping | pizza.TomatoTopping,\n",
       " pizza.MozzarellaTopping | pizza.OnionTopping | pizza.PeperonataTopping | pizza.PrawnsTopping | pizza.TobascoPepperSauce | pizza.TomatoTopping,\n",
       " pizza.HotGreenPepperTopping | pizza.JalapenoPepperTopping | pizza.MozzarellaTopping | pizza.PeperoniSausageTopping | pizza.TomatoTopping,\n",
       " pizza.MozzarellaTopping | pizza.PeperoniSausageTopping | pizza.TomatoTopping]"
      ]
     },
     "execution_count": 140,
     "metadata": {},
     "output_type": "execute_result"
    }
   ],
   "source": [
    "list(onto.general_axioms())"
   ]
  },
  {
   "cell_type": "code",
   "execution_count": 141,
   "metadata": {},
   "outputs": [
    {
     "data": {
      "text/plain": [
       "[]"
      ]
     },
     "execution_count": 141,
     "metadata": {},
     "output_type": "execute_result"
    }
   ],
   "source": [
    "list(onto.rules())"
   ]
  },
  {
   "cell_type": "code",
   "execution_count": 179,
   "metadata": {},
   "outputs": [
    {
     "name": "stdout",
     "output_type": "stream",
     "text": [
      "Collecting rdflib\n",
      "  Downloading rdflib-6.1.1-py3-none-any.whl (482 kB)\n",
      "     |████████████████████████████████| 482 kB 78 kB/s            \n",
      "\u001b[?25hRequirement already satisfied: pyparsing in /home/erika/anaconda3/lib/python3.7/site-packages (from rdflib) (2.3.1)\n",
      "Collecting isodate\n",
      "  Downloading isodate-0.6.1-py2.py3-none-any.whl (41 kB)\n",
      "     |████████████████████████████████| 41 kB 71 kB/s            \n",
      "\u001b[?25hRequirement already satisfied: setuptools in /home/erika/anaconda3/lib/python3.7/site-packages (from rdflib) (45.2.0)\n",
      "Requirement already satisfied: importlib-metadata in /home/erika/anaconda3/lib/python3.7/site-packages (from rdflib) (0.0.0)\n",
      "Requirement already satisfied: zipp>=0.3.2 in /home/erika/anaconda3/lib/python3.7/site-packages (from importlib-metadata->rdflib) (0.3.3)\n",
      "Requirement already satisfied: six in /home/erika/anaconda3/lib/python3.7/site-packages (from isodate->rdflib) (1.12.0)\n",
      "Installing collected packages: isodate, rdflib\n",
      "Successfully installed isodate-0.6.1 rdflib-6.1.1\n",
      "\u001b[33mWARNING: You are using pip version 21.3.1; however, version 22.1.2 is available.\n",
      "You should consider upgrading via the '/home/erika/anaconda3/bin/python -m pip install --upgrade pip' command.\u001b[0m\n",
      "Note: you may need to restart the kernel to use updated packages.\n"
     ]
    }
   ],
   "source": [
    "pip install rdflib"
   ]
  },
  {
   "cell_type": "code",
   "execution_count": 193,
   "metadata": {},
   "outputs": [],
   "source": [
    "graph = default_world.as_rdflib_graph()\n",
    "\n"
   ]
  },
  {
   "cell_type": "code",
   "execution_count": 195,
   "metadata": {},
   "outputs": [
    {
     "data": {
      "text/plain": [
       "[]"
      ]
     },
     "execution_count": 195,
     "metadata": {},
     "output_type": "execute_result"
    }
   ],
   "source": [
    "\n",
    "r = list(graph.query_owlready(\"\"\"SELECT ?p WHERE {\n",
    "  <http://www.semanticweb.org/jiba/ontologies/2017/0/test#ma_pizza> <http://www.semanticweb.org/jiba/ontologies/2017/0/test#price> ?p .\n",
    "}\"\"\"))\n",
    "\n",
    "r"
   ]
  },
  {
   "cell_type": "code",
   "execution_count": 184,
   "metadata": {},
   "outputs": [
    {
     "name": "stdout",
     "output_type": "stream",
     "text": [
      "{'world': <owlready2.namespace.World object at 0x7f26a805b5f8>, 'filename': ':memory:', 'ontologies': {'file://ontologies/pizza.owl#': get_ontology(\"http://www.co-ode.org/ontologies/pizza/\"), 'http://www.co-ode.org/ontologies/pizza/': get_ontology(\"http://www.co-ode.org/ontologies/pizza/\")}, '_props': {'bottomObjectProperty': owl.bottomObjectProperty, 'bottomDataProperty': owl.bottomDataProperty, 'comment': rdf-schema.comment, 'label': rdf-schema.label, 'backwardCompatibleWith': owl.backwardCompatibleWith, 'deprecated': owl.deprecated, 'incompatibleWith': owl.incompatibleWith, 'isDefinedBy': rdf-schema.isDefinedBy, 'priorVersion': owl.priorVersion, 'seeAlso': rdf-schema.seeAlso, 'versionInfo': owl.versionInfo, 'body': swrl.body, 'head': swrl.head, 'class_predicate': swrl.classPredicate, 'property_predicate': swrl.propertyPredicate, 'arguments': swrl.arguments, 'builtin': swrl.builtin, 'hasIngredient': pizza.hasIngredient, 'isIngredientOf': pizza.isIngredientOf, 'hasBase': pizza.hasBase, 'isBaseOf': pizza.isBaseOf, 'hasCountryOfOrigin': pizza.hasCountryOfOrigin, 'hasSpiciness': pizza.hasSpiciness, 'hasTopping': pizza.hasTopping, 'isToppingOf': pizza.isToppingOf, 'title': 1.1.title, 'contributor': terms.contributor, 'license': terms.license, 'provenance': terms.provenance, 'description': 1.1.description, 'altLabel': core.altLabel, 'definition': core.definition, 'prefLabel': core.prefLabel}, '_reasoning_props': {'hasIngredient': pizza.hasIngredient, 'isIngredientOf': pizza.isIngredientOf, 'hasBase': pizza.hasBase, 'isBaseOf': pizza.isBaseOf, 'hasCountryOfOrigin': pizza.hasCountryOfOrigin, 'hasSpiciness': pizza.hasSpiciness, 'hasTopping': pizza.hasTopping, 'isToppingOf': pizza.isToppingOf}, '_entities': <WeakValueDictionary at 0x7f26a814aef0>, '_namespaces': <WeakValueDictionary at 0x7f2699eb9b00>, '_rdflib_store': <owlready2.rdflib_store.TripleLiteRDFlibStore object at 0x7f2699cf5908>, 'graph': <owlready2.triplelite.Graph object at 0x7f2699ec7d68>, '_abbreviate': <bound method Graph._abbreviate_dict of <owlready2.triplelite.Graph object at 0x7f2699ec7d68>>, '_unabbreviate': <bound method Graph._unabbreviate_dict of <owlready2.triplelite.Graph object at 0x7f2699ec7d68>>, '_refactor': <bound method Graph._refactor_dict of <owlready2.triplelite.Graph object at 0x7f2699ec7d68>>, '_new_numbered_iri': <bound method Graph._new_numbered_iri of <owlready2.triplelite.Graph object at 0x7f2699ec7d68>>, '_get_obj_triples_cspo_cspo': <bound method Graph._get_obj_triples_cspo_cspo of <owlready2.triplelite.Graph object at 0x7f2699ec7d68>>, '_get_obj_triples_spo_spo': <bound method Graph._get_obj_triples_spo_spo of <owlready2.triplelite.Graph object at 0x7f2699ec7d68>>, '_get_obj_triples_sp_co': <bound method Graph._get_obj_triples_sp_co of <owlready2.triplelite.Graph object at 0x7f2699ec7d68>>, '_get_obj_triples_s_po': <bound method Graph._get_obj_triples_s_po of <owlready2.triplelite.Graph object at 0x7f2699ec7d68>>, '_get_obj_triples_po_s': <bound method Graph._get_obj_triples_po_s of <owlready2.triplelite.Graph object at 0x7f2699ec7d68>>, '_get_obj_triples_sp_o': <bound method Graph._get_obj_triples_sp_o of <owlready2.triplelite.Graph object at 0x7f2699ec7d68>>, '_get_obj_triple_sp_o': <bound method Graph._get_obj_triple_sp_o of <owlready2.triplelite.Graph object at 0x7f2699ec7d68>>, '_get_obj_triple_po_s': <bound method Graph._get_obj_triple_po_s of <owlready2.triplelite.Graph object at 0x7f2699ec7d68>>, '_has_obj_triple_spo': <bound method Graph._has_obj_triple_spo of <owlready2.triplelite.Graph object at 0x7f2699ec7d68>>, '_del_obj_triple_raw_spo': <bound method Graph._del_obj_triple_raw_spo of <owlready2.triplelite.Graph object at 0x7f2699ec7d68>>, '_get_obj_triples_spi_o': <bound method Graph._get_obj_triples_spi_o of <owlready2.triplelite.Graph object at 0x7f2699ec7d68>>, '_get_obj_triples_pio_s': <bound method Graph._get_obj_triples_pio_s of <owlready2.triplelite.Graph object at 0x7f2699ec7d68>>, '_get_data_triples_spod_spod': <bound method Graph._get_data_triples_spod_spod of <owlready2.triplelite.Graph object at 0x7f2699ec7d68>>, '_get_data_triples_sp_od': <bound method Graph._get_data_triples_sp_od of <owlready2.triplelite.Graph object at 0x7f2699ec7d68>>, '_get_data_triple_sp_od': <bound method Graph._get_data_triple_sp_od of <owlready2.triplelite.Graph object at 0x7f2699ec7d68>>, '_get_data_triples_s_pod': <bound method Graph._get_data_triples_s_pod of <owlready2.triplelite.Graph object at 0x7f2699ec7d68>>, '_has_data_triple_spod': <bound method Graph._has_data_triple_spod of <owlready2.triplelite.Graph object at 0x7f2699ec7d68>>, '_del_data_triple_raw_spod': <bound method Graph._del_data_triple_raw_spod of <owlready2.triplelite.Graph object at 0x7f2699ec7d68>>, '_get_triples_spod_spod': <bound method Graph._get_triples_spod_spod of <owlready2.triplelite.Graph object at 0x7f2699ec7d68>>, '_get_triples_sp_od': <bound method Graph._get_triples_sp_od of <owlready2.triplelite.Graph object at 0x7f2699ec7d68>>, '_get_triple_sp_od': <bound method Graph._get_triple_sp_od of <owlready2.triplelite.Graph object at 0x7f2699ec7d68>>, '_get_triples_s_pod': <bound method Graph._get_triples_s_pod of <owlready2.triplelite.Graph object at 0x7f2699ec7d68>>, '_get_triples_s_p': <bound method Graph._get_triples_s_p of <owlready2.triplelite.Graph object at 0x7f2699ec7d68>>, '_get_obj_triples_o_p': <bound method Graph._get_obj_triples_o_p of <owlready2.triplelite.Graph object at 0x7f2699ec7d68>>, '_get_obj_triples_transitive_sp': <bound method Graph._get_obj_triples_transitive_sp of <owlready2.triplelite.Graph object at 0x7f2699ec7d68>>, '_get_obj_triples_transitive_po': <bound method Graph._get_obj_triples_transitive_po of <owlready2.triplelite.Graph object at 0x7f2699ec7d68>>, '_get_obj_triples_transitive_sym': <bound method BaseGraph._get_obj_triples_transitive_sym of <owlready2.triplelite.Graph object at 0x7f2699ec7d68>>, '_get_obj_triples_transitive_sp_indirect': <bound method BaseGraph._get_obj_triples_transitive_sp_indirect of <owlready2.triplelite.Graph object at 0x7f2699ec7d68>>, '_full_text_search_properties': []}\n"
     ]
    }
   ],
   "source": [
    "\n",
    "print(default_world.__dict__)\n",
    "\n",
    "\n"
   ]
  },
  {
   "cell_type": "code",
   "execution_count": 185,
   "metadata": {},
   "outputs": [],
   "source": [
    "default_world.ontologies\n",
    "\n",
    "graph = default_world.as_rdflib_graph()"
   ]
  },
  {
   "cell_type": "code",
   "execution_count": 196,
   "metadata": {},
   "outputs": [
    {
     "data": {
      "text/plain": [
       "<Graph identifier=N3029ab96ddd0419393503e8309e395d2 (<class 'owlready2.rdflib_store.TripleLiteRDFlibGraph'>)>"
      ]
     },
     "execution_count": 196,
     "metadata": {},
     "output_type": "execute_result"
    }
   ],
   "source": [
    "graph"
   ]
  },
  {
   "cell_type": "code",
   "execution_count": 189,
   "metadata": {},
   "outputs": [],
   "source": [
    "r = list(graph.query(\"\"\"SELECT ?p WHERE { <http://www.semanticweb.org/jiba/ontologies/2017/0/test#ma_pizza> \n",
    "<http://www.semanticweb.org/jiba/ontologies/2017/0/test#price> ?p . }\"\"\"))"
   ]
  },
  {
   "cell_type": "code",
   "execution_count": 216,
   "metadata": {},
   "outputs": [
    {
     "data": {
      "text/plain": [
       "'http://www.co-ode.org/ontologies/pizza/pizza.owl#England'"
      ]
     },
     "execution_count": 216,
     "metadata": {},
     "output_type": "execute_result"
    }
   ],
   "source": [
    "list(onto.individuals())\n",
    "individual = list(onto.individuals())[1]\n",
    "\n",
    "individual.iri\n"
   ]
  },
  {
   "cell_type": "code",
   "execution_count": 217,
   "metadata": {},
   "outputs": [
    {
     "name": "stdout",
     "output_type": "stream",
     "text": [
      "SELECT ?class WHERE {<http://www.co-ode.org/ontologies/pizza/pizza.owl#England> a ?class . ?class a <http://www.w3.org/2002/07/owl#Class> .}\n"
     ]
    }
   ],
   "source": [
    "query = \"SELECT ?class WHERE {<%s> a ?class . ?class a <http://www.w3.org/2002/07/owl#Class> .}\"\n",
    "query_final = query % individual.iri\n",
    "print(query_final)"
   ]
  },
  {
   "cell_type": "code",
   "execution_count": 218,
   "metadata": {},
   "outputs": [
    {
     "data": {
      "text/plain": [
       "[[pizza.Country]]"
      ]
     },
     "execution_count": 218,
     "metadata": {},
     "output_type": "execute_result"
    }
   ],
   "source": [
    "list(default_world.sparql_query(query_final))"
   ]
  },
  {
   "cell_type": "code",
   "execution_count": 221,
   "metadata": {},
   "outputs": [
    {
     "name": "stderr",
     "output_type": "stream",
     "text": [
      "WARNING:rdflib.term:base IRI does not look like a valid URI, trying to serialize this will break.\n",
      "WARNING:rdflib.term:base IRI does not look like a valid URI, trying to serialize this will break.\n"
     ]
    }
   ],
   "source": [
    "default_world.ontologies\n",
    "graph = default_world.as_rdflib_graph()\n",
    "graph.bind(\"owl\", \"http://www.w3.org/2002/07/owl#\")\n",
    "graph.bind(\"prefix\", \"base IRI\")"
   ]
  },
  {
   "cell_type": "code",
   "execution_count": 222,
   "metadata": {},
   "outputs": [
    {
     "name": "stderr",
     "output_type": "stream",
     "text": [
      "WARNING:rdflib.term:base IRI does not look like a valid URI, trying to serialize this will break.\n",
      "WARNING:rdflib.term:base IRI does not look like a valid URI, trying to serialize this will break.\n"
     ]
    },
    {
     "data": {
      "text/plain": [
       "[[pizza.Country]]"
      ]
     },
     "execution_count": 222,
     "metadata": {},
     "output_type": "execute_result"
    }
   ],
   "source": [
    "list(default_world.sparql_query(\"\"\"SELECT ?class WHERE { <%s> a ?class .  \n",
    "    ?class a owl:Class . }\"\"\" % individual.iri))"
   ]
  },
  {
   "cell_type": "code",
   "execution_count": 224,
   "metadata": {},
   "outputs": [
    {
     "name": "stderr",
     "output_type": "stream",
     "text": [
      "WARNING:rdflib.term:base IRI does not look like a valid URI, trying to serialize this will break.\n",
      "WARNING:rdflib.term:base IRI does not look like a valid URI, trying to serialize this will break.\n"
     ]
    },
    {
     "data": {
      "text/plain": [
       "[[143]]"
      ]
     },
     "execution_count": 224,
     "metadata": {},
     "output_type": "execute_result"
    }
   ],
   "source": [
    "list(default_world.sparql_query(\"\"\"\n",
    "           SELECT (COUNT(?x) AS ?nb)\n",
    "           { ?x a owl:Class . }\n",
    "    \"\"\"))"
   ]
  },
  {
   "cell_type": "code",
   "execution_count": null,
   "metadata": {},
   "outputs": [],
   "source": []
  }
 ],
 "metadata": {
  "kernelspec": {
   "display_name": "Python 3",
   "language": "python",
   "name": "python3"
  },
  "language_info": {
   "codemirror_mode": {
    "name": "ipython",
    "version": 3
   },
   "file_extension": ".py",
   "mimetype": "text/x-python",
   "name": "python",
   "nbconvert_exporter": "python",
   "pygments_lexer": "ipython3",
   "version": "3.7.3"
  }
 },
 "nbformat": 4,
 "nbformat_minor": 2
}
