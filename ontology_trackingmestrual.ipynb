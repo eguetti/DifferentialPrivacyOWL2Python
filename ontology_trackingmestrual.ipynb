{
 "cells": [
  {
   "cell_type": "code",
   "execution_count": 4,
   "metadata": {},
   "outputs": [
    {
     "name": "stdout",
     "output_type": "stream",
     "text": [
      "Collecting Owlready2\n",
      "\u001b[?25l  Downloading https://files.pythonhosted.org/packages/5b/c6/0e0fe4b9b1ef0e555d945baa41a440169ce0f54c4ee6ded203ab1b18aaba/Owlready2-0.26.tar.gz (20.9MB)\n",
      "\u001b[K    100% |████████████████████████████████| 20.9MB 1.2MB/s \n",
      "\u001b[?25hBuilding wheels for collected packages: Owlready2\n",
      "  Building wheel for Owlready2 (setup.py) ... \u001b[?25ldone\n",
      "\u001b[?25h  Stored in directory: /home/erika/.cache/pip/wheels/73/08/39/546dfe78a06872a4ae5eac478a537e6c2c601a2931d33a66a8\n",
      "Successfully built Owlready2\n",
      "Installing collected packages: Owlready2\n",
      "Successfully installed Owlready2-0.26\n",
      "Note: you may need to restart the kernel to use updated packages.\n"
     ]
    }
   ],
   "source": [
    "pip install Owlready2"
   ]
  },
  {
   "cell_type": "code",
   "execution_count": 5,
   "metadata": {},
   "outputs": [],
   "source": [
    "from owlready2 import*"
   ]
  },
  {
   "cell_type": "code",
   "execution_count": 9,
   "metadata": {},
   "outputs": [],
   "source": [
    "myontology = get_ontology(\"/home/erika/Documents/ontology/MenstrualCycleTracking.owl\").load()"
   ]
  },
  {
   "cell_type": "code",
   "execution_count": 13,
   "metadata": {},
   "outputs": [
    {
     "data": {
      "text/plain": [
       "[MenstrualCycleTracking.Acne,\n",
       " MenstrualCycleTracking.Angry,\n",
       " MenstrualCycleTracking.Anxious,\n",
       " MenstrualCycleTracking.Appetite,\n",
       " MenstrualCycleTracking.Backache,\n",
       " MenstrualCycleTracking.Bloating,\n",
       " MenstrualCycleTracking.Calm,\n",
       " MenstrualCycleTracking.Constipation,\n",
       " MenstrualCycleTracking.Cramps,\n",
       " MenstrualCycleTracking.Depressed,\n",
       " MenstrualCycleTracking.Diarrhea,\n",
       " MenstrualCycleTracking.Dizziness,\n",
       " MenstrualCycleTracking.Emotional,\n",
       " MenstrualCycleTracking.Energetic,\n",
       " MenstrualCycleTracking.Exited,\n",
       " MenstrualCycleTracking.Fatigue,\n",
       " MenstrualCycleTracking.Focused,\n",
       " MenstrualCycleTracking.Frisky,\n",
       " MenstrualCycleTracking.Frustated,\n",
       " MenstrualCycleTracking.Happy,\n",
       " MenstrualCycleTracking.Headache,\n",
       " MenstrualCycleTracking.HotFlashes,\n",
       " MenstrualCycleTracking.InLove,\n",
       " MenstrualCycleTracking.Indigestion,\n",
       " MenstrualCycleTracking.Insomnia,\n",
       " MenstrualCycleTracking.Irritable,\n",
       " MenstrualCycleTracking.Migraine,\n",
       " MenstrualCycleTracking.Mood,\n",
       " MenstrualCycleTracking.MoodFeature,\n",
       " MenstrualCycleTracking.MoodRelation,\n",
       " MenstrualCycleTracking.Moody,\n",
       " MenstrualCycleTracking.Nausea,\n",
       " MenstrualCycleTracking.PainDuringSex,\n",
       " MenstrualCycleTracking.PelvicPain,\n",
       " MenstrualCycleTracking.PhysicalSymptom,\n",
       " MenstrualCycleTracking.SexDrive,\n",
       " MenstrualCycleTracking.Sick,\n",
       " MenstrualCycleTracking.SoreBreasts,\n",
       " MenstrualCycleTracking.SymptomRelation,\n",
       " MenstrualCycleTracking.SymptomValue,\n",
       " MenstrualCycleTracking.User,\n",
       " MenstrualCycleTracking.VaginalPain]"
      ]
     },
     "execution_count": 13,
     "metadata": {},
     "output_type": "execute_result"
    }
   ],
   "source": [
    "list(myontology.classes())"
   ]
  },
  {
   "cell_type": "code",
   "execution_count": 14,
   "metadata": {},
   "outputs": [
    {
     "name": "stdout",
     "output_type": "stream",
     "text": [
      "Acne\n",
      "Angry\n",
      "Anxious\n",
      "Appetite\n",
      "Backache\n",
      "Bloating\n",
      "Calm\n",
      "Constipation\n",
      "Cramps\n",
      "Depressed\n",
      "Diarrhea\n",
      "Dizziness\n",
      "Emotional\n",
      "Energetic\n",
      "Exited\n",
      "Fatigue\n",
      "Focused\n",
      "Frisky\n",
      "Frustated\n",
      "Happy\n",
      "Headache\n",
      "HotFlashes\n",
      "InLove\n",
      "Indigestion\n",
      "Insomnia\n",
      "Irritable\n",
      "Migraine\n",
      "Mood\n",
      "MoodFeature\n",
      "MoodRelation\n",
      "Moody\n",
      "Nausea\n",
      "PainDuringSex\n",
      "PelvicPain\n",
      "PhysicalSymptom\n",
      "SexDrive\n",
      "Sick\n",
      "SoreBreasts\n",
      "SymptomRelation\n",
      "SymptomValue\n",
      "User\n",
      "VaginalPain\n"
     ]
    }
   ],
   "source": [
    "for c in myontology.classes():print(c.name)"
   ]
  },
  {
   "cell_type": "code",
   "execution_count": null,
   "metadata": {},
   "outputs": [
    {
     "name": "stderr",
     "output_type": "stream",
     "text": [
      " * Running on http://localhost:5000/ (Press CTRL+C to quit)\n",
      "127.0.0.1 - - [02/Feb/2021 22:39:15] \"\u001b[37mGET /class/http://www.w3.org/2002/07/owl%23Thing HTTP/1.1\u001b[0m\" 200 -\n",
      "127.0.0.1 - - [02/Feb/2021 22:39:18] \"\u001b[37mGET / HTTP/1.1\u001b[0m\" 200 -\n",
      "127.0.0.1 - - [02/Feb/2021 22:39:20] \"\u001b[37mGET /class/http://www.semanticweb.org/root/ontologies/2021/0/MenstrualCycleTracking%23SymptomRelation HTTP/1.1\u001b[0m\" 200 -\n",
      "127.0.0.1 - - [02/Feb/2021 22:39:22] \"\u001b[37mGET /class/http://www.w3.org/2002/07/owl%23Thing HTTP/1.1\u001b[0m\" 200 -\n",
      "127.0.0.1 - - [03/Feb/2021 18:35:06] \"\u001b[33mGET /favicon.ico HTTP/1.1\u001b[0m\" 404 -\n",
      "127.0.0.1 - - [03/Feb/2021 18:35:08] \"\u001b[37mGET /class/http://www.w3.org/2002/07/owl%23Thing HTTP/1.1\u001b[0m\" 200 -\n"
     ]
    }
   ],
   "source": [
    "\n",
    "from flask import Flask, url_for\n",
    "from owlready2 import*\n",
    "\n",
    "app = Flask(__name__)\n",
    "\n",
    "myontology = get_ontology(\"/home/erika/Documents/ontology/MenstrualCycleTracking.owl\").load()\n",
    "\n",
    "@app.route('/path/<parameter>')\n",
    "def generate_web_page(parameter):\n",
    "    html = \"<html><body>\"\n",
    "    html += \"The value of the parameter is: %s \" %parameter\n",
    "    html += \"</body></html>\"\n",
    "    return html\n",
    "\n",
    "\n",
    "@app.route('/')\n",
    "def ontology_page():\n",
    "    html = \"<html><body>\"\n",
    "    html += \"<h2> '%s' ontology</h2>\" %myontology.base_iri\n",
    "    html += \"<h3> Root Classes </h3>\"\n",
    "    for Class in Thing.subclasses():\n",
    "        html += \"<p><a href= '%s' > %s </a></p>\" %(url_for(\"class_page\", iri = Class.iri) , Class.name)\n",
    "    html += \"</body></html>\" \n",
    "    return html\n",
    "\n",
    "@app.route('/class/<path:iri>')\n",
    "def class_page(iri):\n",
    "    Class = IRIS[iri]\n",
    "    html = \"<html><body><h2> '%s'class </h2>\" %Class.name\n",
    "    html += \"<h3>superclasses</h3>\"\n",
    "    for SuperClass in Class.is_a:\n",
    "        if isinstance (SuperClass, ThingClass):\n",
    "            html += \"<p><a href= '%s' > %s </a></p>\" %( url_for(\"class_page\", iri = SuperClass.iri), SuperClass.name)\n",
    "        else:\n",
    "            html += \"<p> %s </p>\" %SuperClass\n",
    "            \n",
    "    html += \"<h3> equivalent classes </h3>\"\n",
    "    for EquivClass in Class.equivalent_to:\n",
    "        html += \"<p>%s</p>\" %EquivClass\n",
    "        \n",
    "    html += \"<h3> Subclasses </h3>\"\n",
    "    for SubClass in Class.subclasses():\n",
    "        html += \"<p><a href='%s'> %s </a></p>\" %(url_for(\"class_page\", iri = SubClass.iri), SubClass.name)\n",
    "    \n",
    "    html += \"<h3> Individuals</h3>\"\n",
    "    for individual in Class.instances():\n",
    "        html += \"<p><a href='%s'> %s </a></p>\" %( url_for(\"individual_page\", iri = individual.iri), individual.name)\n",
    "        \n",
    "    html += \"</body></html>\"    \n",
    "    return html\n",
    "\n",
    "@app.route('/individual/<path:iri>')\n",
    "def individual_page(iri):\n",
    "    individual = IRIS[iri]\n",
    "    html = \"<html><body><h2> '%s' individual</h2>\" %individual.name\n",
    "    html += \"<h3>Classes</h3>\"\n",
    "    \n",
    "    for Class in individual.is_a:\n",
    "        html += \"<p><a href= '%s'> %s </a></p>\" %( url_for(\"class_page\", iri = Class.iri), Class.name)\n",
    "       \n",
    "    html += \"</body></html>\"\n",
    "    return html\n",
    "\n",
    "import werkzeug.serving\n",
    "werkzeug.serving.run_simple(\"localhost\", 5000, app)"
   ]
  },
  {
   "cell_type": "code",
   "execution_count": null,
   "metadata": {},
   "outputs": [],
   "source": []
  },
  {
   "cell_type": "code",
   "execution_count": null,
   "metadata": {},
   "outputs": [],
   "source": []
  }
 ],
 "metadata": {
  "kernelspec": {
   "display_name": "Python 3",
   "language": "python",
   "name": "python3"
  },
  "language_info": {
   "codemirror_mode": {
    "name": "ipython",
    "version": 3
   },
   "file_extension": ".py",
   "mimetype": "text/x-python",
   "name": "python",
   "nbconvert_exporter": "python",
   "pygments_lexer": "ipython3",
   "version": "3.7.3"
  }
 },
 "nbformat": 4,
 "nbformat_minor": 2
}
